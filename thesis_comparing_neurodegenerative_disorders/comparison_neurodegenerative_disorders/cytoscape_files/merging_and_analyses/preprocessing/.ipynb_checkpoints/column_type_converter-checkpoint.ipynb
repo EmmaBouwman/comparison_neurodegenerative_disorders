{
 "cells": [
  {
   "cell_type": "markdown",
   "metadata": {},
   "source": [
    "# Alzheimer consensus network automated workflow\n",
    "This notebook gives a workflow for creating a consensus protein-protein interaction network using the library *py4cytoscape*. This uses the *CyREST* framework to make contact with Cytoscape where the commands will be executed. So, the **Cytoscape app needs to be opened in the browser** when executing this file. Also, pay attention to the amount of proteins imported from STRING, there are 2000 proteins imported and an additional 2000 for the expansion. Running the whole workflow can then take up to thirty minutes."
   ]
  },
  {
   "cell_type": "markdown",
   "metadata": {},
   "source": [
    "## Setup"
   ]
  },
  {
   "cell_type": "code",
   "execution_count": 1,
   "metadata": {},
   "outputs": [
    {
     "name": "stdout",
     "output_type": "stream",
     "text": [
      "Requirement already satisfied: py4cytoscape in c:\\users\\emmab\\anaconda3\\lib\\site-packages (1.9.0)\n",
      "Requirement already satisfied: pandas in c:\\users\\emmab\\anaconda3\\lib\\site-packages (from py4cytoscape) (2.0.3)\n",
      "Requirement already satisfied: networkx in c:\\users\\emmab\\anaconda3\\lib\\site-packages (from py4cytoscape) (3.1)\n",
      "Requirement already satisfied: requests in c:\\users\\emmab\\anaconda3\\lib\\site-packages (from py4cytoscape) (2.31.0)\n",
      "Requirement already satisfied: igraph in c:\\users\\emmab\\anaconda3\\lib\\site-packages (from py4cytoscape) (0.11.4)\n",
      "Requirement already satisfied: colorbrewer in c:\\users\\emmab\\anaconda3\\lib\\site-packages (from py4cytoscape) (0.2.0)\n",
      "Requirement already satisfied: chardet in c:\\users\\emmab\\anaconda3\\lib\\site-packages (from py4cytoscape) (4.0.0)\n",
      "Requirement already satisfied: decorator in c:\\users\\emmab\\anaconda3\\lib\\site-packages (from py4cytoscape) (5.1.1)\n",
      "Requirement already satisfied: backoff in c:\\users\\emmab\\anaconda3\\lib\\site-packages (from py4cytoscape) (2.2.1)\n",
      "Requirement already satisfied: colour in c:\\users\\emmab\\anaconda3\\lib\\site-packages (from py4cytoscape) (0.1.5)\n",
      "Requirement already satisfied: six in c:\\users\\emmab\\anaconda3\\lib\\site-packages (from colorbrewer->py4cytoscape) (1.16.0)\n",
      "Requirement already satisfied: texttable>=1.6.2 in c:\\users\\emmab\\anaconda3\\lib\\site-packages (from igraph->py4cytoscape) (1.7.0)\n",
      "Requirement already satisfied: python-dateutil>=2.8.2 in c:\\users\\emmab\\anaconda3\\lib\\site-packages (from pandas->py4cytoscape) (2.8.2)\n",
      "Requirement already satisfied: pytz>=2020.1 in c:\\users\\emmab\\anaconda3\\lib\\site-packages (from pandas->py4cytoscape) (2023.3.post1)\n",
      "Requirement already satisfied: tzdata>=2022.1 in c:\\users\\emmab\\anaconda3\\lib\\site-packages (from pandas->py4cytoscape) (2023.3)\n",
      "Requirement already satisfied: numpy>=1.21.0 in c:\\users\\emmab\\anaconda3\\lib\\site-packages (from pandas->py4cytoscape) (1.24.3)\n",
      "Requirement already satisfied: charset-normalizer<4,>=2 in c:\\users\\emmab\\anaconda3\\lib\\site-packages (from requests->py4cytoscape) (2.0.4)\n",
      "Requirement already satisfied: idna<4,>=2.5 in c:\\users\\emmab\\anaconda3\\lib\\site-packages (from requests->py4cytoscape) (3.4)\n",
      "Requirement already satisfied: urllib3<3,>=1.21.1 in c:\\users\\emmab\\anaconda3\\lib\\site-packages (from requests->py4cytoscape) (1.26.16)\n",
      "Requirement already satisfied: certifi>=2017.4.17 in c:\\users\\emmab\\anaconda3\\lib\\site-packages (from requests->py4cytoscape) (2024.2.2)\n",
      "Note: you may need to restart the kernel to use updated packages.\n"
     ]
    }
   ],
   "source": [
    "pip install py4cytoscape"
   ]
  },
  {
   "cell_type": "code",
   "execution_count": 2,
   "metadata": {},
   "outputs": [],
   "source": [
    "## Imports\n",
    "import py4cytoscape as p4c\n",
    "import pandas as pd\n",
    "import requests"
   ]
  },
  {
   "cell_type": "code",
   "execution_count": 14,
   "metadata": {
    "scrolled": false
   },
   "outputs": [
    {
     "data": {
      "text/plain": [
       "{'apiVersion': 'v1',\n",
       " 'cytoscapeVersion': '3.10.2',\n",
       " 'automationAPIVersion': '1.9.0',\n",
       " 'py4cytoscapeVersion': '1.9.0'}"
      ]
     },
     "execution_count": 14,
     "metadata": {},
     "output_type": "execute_result"
    }
   ],
   "source": [
    "## Execute to check whether contact with the Cytoscape app via CyREST works \n",
    "p4c.cytoscape_version_info()"
   ]
  },
  {
   "cell_type": "code",
   "execution_count": 53,
   "metadata": {
    "scrolled": true
   },
   "outputs": [
    {
     "name": "stdout",
     "output_type": "stream",
     "text": [
      "You are connected to Cytoscape!\n",
      "Network SUID: 2548695\n"
     ]
    }
   ],
   "source": [
    "import pandas as pd\n",
    "import py4cytoscape as p4c\n",
    "\n",
    "\n",
    "p4c.cytoscape_ping() #Make Cytoscape connection\n",
    "network_name = 'STRING network - SCA3' # Defining the network name\n",
    "network_suid = p4c.get_network_suid(network_name) # Getting the SUID of the network\n",
    "\n",
    "if network_suid is None:\n",
    "    raise Exception(f\"Network '{network_name}' not found\")\n",
    "else:\n",
    "    print(f\"Network SUID: {network_suid}\")"
   ]
  },
  {
   "cell_type": "code",
   "execution_count": 54,
   "metadata": {},
   "outputs": [
    {
     "name": "stdout",
     "output_type": "stream",
     "text": [
      "Added and populated 'PartnerOfMultiEdgedNodePairs' column in Cytoscape node table.\n"
     ]
    },
    {
     "data": {
      "text/plain": [
       "{}"
      ]
     },
     "execution_count": 54,
     "metadata": {},
     "output_type": "execute_result"
    }
   ],
   "source": [
    "# Fetch node table data from Cytoscape\n",
    "node_table_data = p4c.tables.get_table_columns(table='node', columns=['shared name', 'PartnerOfMultiEdgedNodePairs_old'], network=network_suid)\n",
    "\n",
    "# Convert 'PartnerOfMultiEdgedNodePairs' column to integers\n",
    "node_table_data['PartnerOfMultiEdgedNodePairs'] = node_table_data['PartnerOfMultiEdgedNodePairs_old'].astype(int)\n",
    "\n",
    "# Load updated data back into Cytoscape node table\n",
    "load_message = p4c.tables.load_table_data(node_table_data, data_key_column='shared name', table='node', table_key_column='shared name', network=network_suid)\n",
    "\n",
    "# print(load_message)\n",
    "print(f\"Added and populated 'PartnerOfMultiEdgedNodePairs' column in Cytoscape node table.\")\n",
    "\n",
    "# Optionally, refresh the network view to see changes\n",
    "p4c.fit_content()"
   ]
  },
  {
   "cell_type": "code",
   "execution_count": 55,
   "metadata": {},
   "outputs": [
    {
     "name": "stdout",
     "output_type": "stream",
     "text": [
      "Added and populated 'SelfLoops' column in Cytoscape node table.\n"
     ]
    },
    {
     "data": {
      "text/plain": [
       "{}"
      ]
     },
     "execution_count": 55,
     "metadata": {},
     "output_type": "execute_result"
    }
   ],
   "source": [
    "\n",
    "# Fetch node table data from Cytoscape\n",
    "node_table_data = p4c.tables.get_table_columns(table='node', columns=['shared name', 'SelfLoops_old'], network=network_suid)\n",
    "\n",
    "# Convert 'PartnerOfMultiEdgedNodePairs' column to integers\n",
    "node_table_data['SelfLoops'] = node_table_data['SelfLoops_old'].astype(int)\n",
    "\n",
    "# Load updated data back into Cytoscape node table\n",
    "load_message = p4c.tables.load_table_data(node_table_data, data_key_column='shared name', table='node', table_key_column='shared name', network=network_suid)\n",
    "\n",
    "# print(load_message)\n",
    "print(f\"Added and populated 'SelfLoops' column in Cytoscape node table.\")\n",
    "\n",
    "# Optionally, refresh the network view to see changes\n",
    "p4c.fit_content()"
   ]
  },
  {
   "cell_type": "code",
   "execution_count": 56,
   "metadata": {},
   "outputs": [
    {
     "name": "stdout",
     "output_type": "stream",
     "text": [
      "Added and populated 'Eccentricity_old' column in Cytoscape node table.\n"
     ]
    },
    {
     "data": {
      "text/plain": [
       "{}"
      ]
     },
     "execution_count": 56,
     "metadata": {},
     "output_type": "execute_result"
    }
   ],
   "source": [
    "\n",
    "# Fetch node table data from Cytoscape\n",
    "node_table_data = p4c.tables.get_table_columns(table='node', columns=['shared name', 'Eccentricity_old'], network=network_suid)\n",
    "\n",
    "# Convert 'PartnerOfMultiEdgedNodePairs' column to integers\n",
    "node_table_data['Eccentricity'] = node_table_data['Eccentricity_old'].astype(int)\n",
    "\n",
    "# Load updated data back into Cytoscape node table\n",
    "load_message = p4c.tables.load_table_data(node_table_data, data_key_column='shared name', table='node', table_key_column='shared name', network=network_suid)\n",
    "\n",
    "# print(load_message)\n",
    "print(f\"Added and populated 'Eccentricity_old' column in Cytoscape node table.\")\n",
    "\n",
    "# Optionally, refresh the network view to see changes\n",
    "p4c.fit_content()"
   ]
  },
  {
   "cell_type": "code",
   "execution_count": 57,
   "metadata": {},
   "outputs": [
    {
     "name": "stdout",
     "output_type": "stream",
     "text": [
      "Added and populated 'Degree' column in Cytoscape node table.\n"
     ]
    },
    {
     "data": {
      "text/plain": [
       "{}"
      ]
     },
     "execution_count": 57,
     "metadata": {},
     "output_type": "execute_result"
    }
   ],
   "source": [
    "\n",
    "# Fetch node table data from Cytoscape\n",
    "node_table_data = p4c.tables.get_table_columns(table='node', columns=['shared name', 'Degree_old'], network=network_suid)\n",
    "\n",
    "# Convert 'PartnerOfMultiEdgedNodePairs' column to integers\n",
    "node_table_data['Degree'] = node_table_data['Degree_old'].astype(int)\n",
    "\n",
    "# Load updated data back into Cytoscape node table\n",
    "load_message = p4c.tables.load_table_data(node_table_data, data_key_column='shared name', table='node', table_key_column='shared name', network=network_suid)\n",
    "\n",
    "# print(load_message)\n",
    "print(f\"Added and populated 'Degree' column in Cytoscape node table.\")\n",
    "\n",
    "# Optionally, refresh the network view to see changes\n",
    "p4c.fit_content()"
   ]
  },
  {
   "cell_type": "code",
   "execution_count": 58,
   "metadata": {},
   "outputs": [
    {
     "name": "stdout",
     "output_type": "stream",
     "text": [
      "Added and populated 'NumberOfDirectedEdges' column in Cytoscape node table.\n"
     ]
    },
    {
     "data": {
      "text/plain": [
       "{}"
      ]
     },
     "execution_count": 58,
     "metadata": {},
     "output_type": "execute_result"
    }
   ],
   "source": [
    "\n",
    "# Fetch node table data from Cytoscape\n",
    "node_table_data = p4c.tables.get_table_columns(table='node', columns=['shared name', 'NumberOfDirectedEdges_old'], network=network_suid)\n",
    "\n",
    "# Convert 'PartnerOfMultiEdgedNodePairs' column to integers\n",
    "node_table_data['NumberOfDirectedEdges'] = node_table_data['NumberOfDirectedEdges_old'].astype(int)\n",
    "\n",
    "# Load updated data back into Cytoscape node table\n",
    "load_message = p4c.tables.load_table_data(node_table_data, data_key_column='shared name', table='node', table_key_column='shared name', network=network_suid)\n",
    "\n",
    "# print(load_message)\n",
    "print(f\"Added and populated 'NumberOfDirectedEdges' column in Cytoscape node table.\")\n",
    "\n",
    "# Optionally, refresh the network view to see changes\n",
    "p4c.fit_content()"
   ]
  },
  {
   "cell_type": "code",
   "execution_count": 59,
   "metadata": {},
   "outputs": [
    {
     "name": "stdout",
     "output_type": "stream",
     "text": [
      "Added and populated 'NumberOfUndirectedEdges' column in Cytoscape node table.\n"
     ]
    },
    {
     "data": {
      "text/plain": [
       "{}"
      ]
     },
     "execution_count": 59,
     "metadata": {},
     "output_type": "execute_result"
    }
   ],
   "source": [
    "\n",
    "# Fetch node table data from Cytoscape\n",
    "node_table_data = p4c.tables.get_table_columns(table='node', columns=['shared name', 'NumberOfUndirectedEdges_old'], network=network_suid)\n",
    "\n",
    "# Convert 'PartnerOfMultiEdgedNodePairs' column to integers\n",
    "node_table_data['NumberOfUndirectedEdges'] = node_table_data['NumberOfUndirectedEdges_old'].astype(int)\n",
    "\n",
    "# Load updated data back into Cytoscape node table\n",
    "load_message = p4c.tables.load_table_data(node_table_data, data_key_column='shared name', table='node', table_key_column='shared name', network=network_suid)\n",
    "\n",
    "# print(load_message)\n",
    "print(f\"Added and populated 'NumberOfUndirectedEdges' column in Cytoscape node table.\")\n",
    "\n",
    "# Optionally, refresh the network view to see changes\n",
    "p4c.fit_content()"
   ]
  },
  {
   "cell_type": "code",
   "execution_count": 60,
   "metadata": {},
   "outputs": [
    {
     "name": "stdout",
     "output_type": "stream",
     "text": [
      "Added and populated 'Stress' column in Cytoscape node table.\n"
     ]
    },
    {
     "data": {
      "text/plain": [
       "{}"
      ]
     },
     "execution_count": 60,
     "metadata": {},
     "output_type": "execute_result"
    }
   ],
   "source": [
    "\n",
    "# Fetch node table data from Cytoscape\n",
    "node_table_data = p4c.tables.get_table_columns(table='node', columns=['shared name', 'Stress_old'], network=network_suid)\n",
    "\n",
    "# Convert 'PartnerOfMultiEdgedNodePairs' column to integers\n",
    "node_table_data['Stress'] = node_table_data['Stress_old']\n",
    "\n",
    "# Load updated data back into Cytoscape node table\n",
    "load_message = p4c.tables.load_table_data(node_table_data, data_key_column='shared name', table='node', table_key_column='shared name', network=network_suid)\n",
    "\n",
    "# print(load_message)\n",
    "print(f\"Added and populated 'Stress' column in Cytoscape node table.\")\n",
    "\n",
    "# Optionally, refresh the network view to see changes\n",
    "p4c.fit_content()"
   ]
  }
 ],
 "metadata": {
  "kernelspec": {
   "display_name": "Python 3 (ipykernel)",
   "language": "python",
   "name": "python3"
  },
  "language_info": {
   "codemirror_mode": {
    "name": "ipython",
    "version": 3
   },
   "file_extension": ".py",
   "mimetype": "text/x-python",
   "name": "python",
   "nbconvert_exporter": "python",
   "pygments_lexer": "ipython3",
   "version": "3.11.5"
  }
 },
 "nbformat": 4,
 "nbformat_minor": 2
}
