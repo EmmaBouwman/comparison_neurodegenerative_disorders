{
 "cells": [
  {
   "cell_type": "markdown",
   "metadata": {},
   "source": [
    "# Huntington consensus network automated workflow\n",
    "This notebook gives a workflow for creating a consensus protein-protein interaction network using the library *py4cytoscape*. This uses the *CyREST* framework to make contact with Cytoscape where the commands will be executed. So, the **Cytoscape app needs to be opened in the browser** when executing this file. Also, pay attention to the amount of proteins imported from STRING, there are 2000 proteins imported and an additional 2000 for the expansion. Running the whole workflow can then take up to thirty minutes."
   ]
  },
  {
   "cell_type": "markdown",
   "metadata": {},
   "source": [
    "## Setup"
   ]
  },
  {
   "cell_type": "code",
   "execution_count": 11,
   "metadata": {},
   "outputs": [
    {
     "name": "stdout",
     "output_type": "stream",
     "text": [
      "Requirement already satisfied: py4cytoscape in c:\\users\\emmab\\anaconda3\\lib\\site-packages (1.9.0)Note: you may need to restart the kernel to use updated packages.\n",
      "\n",
      "Requirement already satisfied: pandas in c:\\users\\emmab\\anaconda3\\lib\\site-packages (from py4cytoscape) (2.0.3)\n",
      "Requirement already satisfied: networkx in c:\\users\\emmab\\anaconda3\\lib\\site-packages (from py4cytoscape) (3.1)\n",
      "Requirement already satisfied: requests in c:\\users\\emmab\\anaconda3\\lib\\site-packages (from py4cytoscape) (2.31.0)\n",
      "Requirement already satisfied: igraph in c:\\users\\emmab\\anaconda3\\lib\\site-packages (from py4cytoscape) (0.11.4)\n",
      "Requirement already satisfied: colorbrewer in c:\\users\\emmab\\anaconda3\\lib\\site-packages (from py4cytoscape) (0.2.0)\n",
      "Requirement already satisfied: chardet in c:\\users\\emmab\\anaconda3\\lib\\site-packages (from py4cytoscape) (4.0.0)\n",
      "Requirement already satisfied: decorator in c:\\users\\emmab\\anaconda3\\lib\\site-packages (from py4cytoscape) (5.1.1)\n",
      "Requirement already satisfied: backoff in c:\\users\\emmab\\anaconda3\\lib\\site-packages (from py4cytoscape) (2.2.1)\n",
      "Requirement already satisfied: colour in c:\\users\\emmab\\anaconda3\\lib\\site-packages (from py4cytoscape) (0.1.5)\n",
      "Requirement already satisfied: six in c:\\users\\emmab\\anaconda3\\lib\\site-packages (from colorbrewer->py4cytoscape) (1.16.0)\n",
      "Requirement already satisfied: texttable>=1.6.2 in c:\\users\\emmab\\anaconda3\\lib\\site-packages (from igraph->py4cytoscape) (1.7.0)\n",
      "Requirement already satisfied: python-dateutil>=2.8.2 in c:\\users\\emmab\\anaconda3\\lib\\site-packages (from pandas->py4cytoscape) (2.8.2)\n",
      "Requirement already satisfied: pytz>=2020.1 in c:\\users\\emmab\\anaconda3\\lib\\site-packages (from pandas->py4cytoscape) (2023.3.post1)\n",
      "Requirement already satisfied: tzdata>=2022.1 in c:\\users\\emmab\\anaconda3\\lib\\site-packages (from pandas->py4cytoscape) (2023.3)\n",
      "Requirement already satisfied: numpy>=1.21.0 in c:\\users\\emmab\\anaconda3\\lib\\site-packages (from pandas->py4cytoscape) (1.24.3)\n",
      "Requirement already satisfied: charset-normalizer<4,>=2 in c:\\users\\emmab\\anaconda3\\lib\\site-packages (from requests->py4cytoscape) (2.0.4)\n",
      "Requirement already satisfied: idna<4,>=2.5 in c:\\users\\emmab\\anaconda3\\lib\\site-packages (from requests->py4cytoscape) (3.4)\n",
      "Requirement already satisfied: urllib3<3,>=1.21.1 in c:\\users\\emmab\\anaconda3\\lib\\site-packages (from requests->py4cytoscape) (1.26.16)\n",
      "Requirement already satisfied: certifi>=2017.4.17 in c:\\users\\emmab\\anaconda3\\lib\\site-packages (from requests->py4cytoscape) (2024.2.2)\n"
     ]
    }
   ],
   "source": [
    "pip install py4cytoscape"
   ]
  },
  {
   "cell_type": "code",
   "execution_count": 12,
   "metadata": {},
   "outputs": [],
   "source": [
    "## Imports\n",
    "import py4cytoscape as p4c\n",
    "import pandas as pd"
   ]
  },
  {
   "cell_type": "code",
   "execution_count": 13,
   "metadata": {
    "scrolled": true
   },
   "outputs": [
    {
     "data": {
      "text/plain": [
       "{'apiVersion': 'v1',\n",
       " 'cytoscapeVersion': '3.10.1',\n",
       " 'automationAPIVersion': '1.9.0',\n",
       " 'py4cytoscapeVersion': '1.9.0'}"
      ]
     },
     "execution_count": 13,
     "metadata": {},
     "output_type": "execute_result"
    }
   ],
   "source": [
    "## Execute to check whether contact with the Cytoscape app via CyREST works \n",
    "p4c.cytoscape_version_info()"
   ]
  },
  {
   "cell_type": "markdown",
   "metadata": {},
   "source": [
    "## Load networks\n",
    "Three types of networks will be loaded, firstly from KEGG, then Wikipathways and lastly STRING. It is important to indicate the desired STRING cutoff score in the beginning, which will influence the number of edges in the network. "
   ]
  },
  {
   "cell_type": "markdown",
   "metadata": {},
   "source": [
    "### Load KEGG"
   ]
  },
  {
   "cell_type": "code",
   "execution_count": 14,
   "metadata": {},
   "outputs": [],
   "source": [
    "## Set string confidence in a variable with 0 > confidence >= 1.0 ##\n",
    "string_confidence = 0.4"
   ]
  },
  {
   "cell_type": "code",
   "execution_count": 15,
   "metadata": {},
   "outputs": [
    {
     "data": {
      "text/plain": [
       "{'network': 67355, 'title': 'KEGG hsa05016 network'}"
      ]
     },
     "execution_count": 15,
     "metadata": {},
     "output_type": "execute_result"
    }
   ],
   "source": [
    "## Load KEGG network ##\n",
    "p4c.networks.import_network_from_file(\"HD_hsa05016.gml\")\n",
    "p4c.layout_network('force-directed', network=\"current\") # the gml file does not contain any layout information so layout has to be set\n",
    "p4c.rename_network(\"KEGG hsa05016 network\")"
   ]
  },
  {
   "cell_type": "code",
   "execution_count": 16,
   "metadata": {},
   "outputs": [
    {
     "data": {
      "text/plain": [
       "{'network': 81309, 'title': 'KEGG hsa05016 network stringified'}"
      ]
     },
     "execution_count": 16,
     "metadata": {},
     "output_type": "execute_result"
    }
   ],
   "source": [
    "## Create a Stringified version of KEGG network ##\n",
    "cmd_list = ['string', 'stringify', 'colDisplayName=\"name\"', 'column=\"uniprot\"',\n",
    "            'compoundQuery=\"false\"', 'includeNotMapped=\"false\"', \n",
    "            'networkNoGui=\"KEGG hsa05010 network\"', 'species=\"Homo sapiens\"']\n",
    "cmd = \" \".join(cmd_list)\n",
    "p4c.commands.commands_run(cmd) \n",
    "p4c.rename_network(\"KEGG hsa05016 network stringified\")"
   ]
  },
  {
   "cell_type": "code",
   "execution_count": 17,
   "metadata": {},
   "outputs": [
    {
     "data": {
      "text/plain": [
       "['']"
      ]
     },
     "execution_count": 17,
     "metadata": {},
     "output_type": "execute_result"
    }
   ],
   "source": [
    "## Set cutoff ##\n",
    "change_cutoff_cmd_list = ['string change confidence', f'confidence={string_confidence}', 'network=\"KEGG hsa05010 network stringified\"']\n",
    "change_cutoff_cmd = \" \".join(change_cutoff_cmd_list)\n",
    "p4c.commands.commands_run(change_cutoff_cmd)"
   ]
  },
  {
   "cell_type": "markdown",
   "metadata": {},
   "source": [
    "### Load Wikipathways "
   ]
  },
  {
   "cell_type": "code",
   "execution_count": 18,
   "metadata": {
    "scrolled": true
   },
   "outputs": [
    {
     "data": {
      "text/plain": [
       "{'network': 119711, 'title': 'Wikipathways WP3853 network'}"
      ]
     },
     "execution_count": 18,
     "metadata": {},
     "output_type": "execute_result"
    }
   ],
   "source": [
    "## Load Wikipathways network ##\n",
    "cmd_list = ['wikipathways','import-as-network','id=\"WP3853\"']\n",
    "cmd = \" \".join(cmd_list)\n",
    "p4c.commands.commands_get(cmd) \n",
    "p4c.rename_network(\"Wikipathways WP3853 network\")"
   ]
  },
  {
   "cell_type": "code",
   "execution_count": 19,
   "metadata": {},
   "outputs": [
    {
     "data": {
      "text/plain": [
       "{'network': 119711, 'title': 'Wikipathways WP3853 network uniprot'}"
      ]
     },
     "execution_count": 19,
     "metadata": {},
     "output_type": "execute_result"
    }
   ],
   "source": [
    "## Clone and rename Wikipathways network ##\n",
    "p4c.clone_network(\"Wikipathways WP3853 network\")\n",
    "p4c.rename_network(title=\"Wikipathways WP3853 network uniprot\", network=\"Wikipathways WP3853 network\")"
   ]
  },
  {
   "cell_type": "code",
   "execution_count": 25,
   "metadata": {},
   "outputs": [
    {
     "data": {
      "text/plain": [
       "{'mappedTables': [119682, 119720]}"
      ]
     },
     "execution_count": 25,
     "metadata": {},
     "output_type": "execute_result"
    }
   ],
   "source": [
    "## Add uniprot columns to Wikipathways network ##\n",
    "p4c.load_table_data_from_file(\"wikipathway_to_uniprot_test.xlsx\", first_row_as_column_names=True,\n",
    "                              data_key_column_index=2, network=\"Wikipathways WP3853 network uniprot\")"
   ]
  },
  {
   "cell_type": "code",
   "execution_count": 26,
   "metadata": {},
   "outputs": [
    {
     "name": "stdout",
     "output_type": "stream",
     "text": [
      "No edges selected.\n",
      "No edges selected.\n"
     ]
    },
    {
     "data": {
      "text/plain": [
       "{'nodes': [119824, 119860, 119886, 119833, 119893, 119818, 119872, 119879],\n",
       " 'edges': [119888,\n",
       "  119890,\n",
       "  119921,\n",
       "  119927,\n",
       "  119895,\n",
       "  119930,\n",
       "  119897,\n",
       "  119900,\n",
       "  119933,\n",
       "  119936,\n",
       "  119903,\n",
       "  119906,\n",
       "  119874,\n",
       "  119876,\n",
       "  119942,\n",
       "  119912,\n",
       "  119881,\n",
       "  119883,\n",
       "  119918]}"
      ]
     },
     "execution_count": 26,
     "metadata": {},
     "output_type": "execute_result"
    }
   ],
   "source": [
    "## Remove nodes without uniprot ID ##\n",
    "p4c.create_column_filter(filter_name=\"Columns without uniprot\", \n",
    "                         column=\"uniprot\", \n",
    "                         criterion=\"\", predicate=\"DOES_NOT_CONTAIN\") \n",
    "\n",
    "# Apply filter and delete nodes for Wikipathways\n",
    "p4c.apply_filter(\"Columns without uniprot\", network=\"Wikipathways WP3853 network uniprot\")\n",
    "p4c.delete_selected_nodes(\"Wikipathways WP3853 network uniprot\")"
   ]
  },
  {
   "cell_type": "code",
   "execution_count": 27,
   "metadata": {
    "scrolled": true
   },
   "outputs": [
    {
     "data": {
      "text/plain": [
       "{'network': 121377, 'title': 'Wikipathways WP3853 network stringified'}"
      ]
     },
     "execution_count": 27,
     "metadata": {},
     "output_type": "execute_result"
    }
   ],
   "source": [
    "## Create a Stringified version of Wikipathways network ##\n",
    "cmd_list_stringify_wp = ['string', 'stringify', 'colDisplayName=\"name\"', 'column=\"uniprot\"',\n",
    "                        'compoundQuery=\"false\"', 'includeNotMapped=\"false\"', \n",
    "                        'networkNoGui=\"Wikipathways WP3853 network uniprot\"', 'species=\"Homo sapiens\"']\n",
    "cmd_stringify_wp = \" \".join(cmd_list_stringify_wp)\n",
    "p4c.commands.commands_run(cmd_stringify_wp)\n",
    "p4c.rename_network(\"Wikipathways WP3853 network stringified\")"
   ]
  },
  {
   "cell_type": "code",
   "execution_count": 28,
   "metadata": {},
   "outputs": [
    {
     "data": {
      "text/plain": [
       "['']"
      ]
     },
     "execution_count": 28,
     "metadata": {},
     "output_type": "execute_result"
    }
   ],
   "source": [
    "## Set cutoff to string confidence ##\n",
    "change_cutoff_cmd_list = ['string change confidence', f'confidence={string_confidence}', 'network=\"Wikipathways WP3853 network stringified\"']\n",
    "change_cutoff_cmd = \" \".join(change_cutoff_cmd_list)\n",
    "p4c.commands.commands_run(change_cutoff_cmd)"
   ]
  },
  {
   "cell_type": "markdown",
   "metadata": {},
   "source": [
    "### Load STRING"
   ]
  },
  {
   "cell_type": "code",
   "execution_count": 29,
   "metadata": {},
   "outputs": [
    {
     "data": {
      "text/plain": [
       "{'network': 122141, 'title': 'STRING 12858 network C0.4'}"
      ]
     },
     "execution_count": 29,
     "metadata": {},
     "output_type": "execute_result"
    }
   ],
   "source": [
    "## Load STRING network ##\n",
    "string_cmd_list = ['string disease query','disease=\"doid:12858\"', 'species=\"Homo sapiens\"', 'limit=2000', f'cutoff={string_confidence}'] # 2000 proteins takes quite long\n",
    "string_cmd = \" \".join(string_cmd_list)\n",
    "p4c.commands.commands_run(string_cmd)\n",
    "p4c.rename_network(f\"STRING 12858 network C{string_confidence}\")"
   ]
  },
  {
   "cell_type": "code",
   "execution_count": 36,
   "metadata": {},
   "outputs": [
    {
     "name": "stdout",
     "output_type": "stream",
     "text": [
      "['Wikipathways WP3853 network stringified', 'KEGG hsa05016 network', 'KEGG hsa05016 network stringified', 'Wikipathways WP3853 network_1', 'STRING 12858 network C0.4', 'Wikipathways WP3853 network uniprot']\n",
      "81309 121377 122141\n"
     ]
    }
   ],
   "source": [
    "## Check whether networks are imported and store suids ##\n",
    "network_names = p4c.get_network_list()\n",
    "kegg_suid = p4c.get_network_suid(\"KEGG hsa05016 network stringified\")\n",
    "wiki_suid = p4c.get_network_suid(\"Wikipathways WP3853 network stringified\")\n",
    "string_suid = p4c.get_network_suid(f\"STRING 12858 network C{string_confidence}\")\n",
    "\n",
    "print(network_names)\n",
    "print(kegg_suid, wiki_suid, string_suid)"
   ]
  },
  {
   "cell_type": "markdown",
   "metadata": {},
   "source": [
    "## Add database columns to tables\n",
    "This part is so that there is an extra column in every node table that indicates the database where the data is from. This way, in the merged network, it will be easier to find where the overlap is between the databases."
   ]
  },
  {
   "cell_type": "code",
   "execution_count": 32,
   "metadata": {},
   "outputs": [],
   "source": [
    "## Create dataframe with new column that indicates which database the data originates from ##\n",
    "kegg_nodes = p4c.get_all_nodes(kegg_suid)\n",
    "kegg_label_df = pd.DataFrame(data=kegg_nodes, columns=[\"shared name\"])\n",
    "kegg_label_df[\"kegg_db\"] = 1 # Column value will be 1 for all data in kegg network\n",
    "\n",
    "wiki_nodes = p4c.get_all_nodes(wiki_suid)\n",
    "wiki_label_df = pd.DataFrame(data=wiki_nodes, columns=[\"shared name\"])\n",
    "wiki_label_df[\"wiki_db\"] = 1 # Column value will be 1 for all data in wikipathways network\n",
    "\n",
    "string_04_nodes = p4c.get_all_nodes(string_suid)\n",
    "string_04_label_df = pd.DataFrame(data=string_04_nodes, columns=[\"shared name\"])\n",
    "string_04_label_df[\"string_db\"] = 1 # Column value will be 1 for all data in string network"
   ]
  },
  {
   "cell_type": "code",
   "execution_count": 33,
   "metadata": {},
   "outputs": [
    {
     "data": {
      "text/plain": [
       "''"
      ]
     },
     "execution_count": 33,
     "metadata": {},
     "output_type": "execute_result"
    }
   ],
   "source": [
    "## Merge dataframes with tables in networks ##\n",
    "p4c.set_current_network(kegg_suid)\n",
    "p4c.load_table_data(kegg_label_df, data_key_column=\"shared name\", network=kegg_suid)\n",
    "p4c.delete_table_column(\"row.names\") \n",
    "\n",
    "p4c.set_current_network(wiki_suid)\n",
    "p4c.load_table_data(wiki_label_df, data_key_column=\"shared name\", network=wiki_suid)\n",
    "p4c.delete_table_column(\"row.names\")\n",
    "\n",
    "p4c.set_current_network(string_suid)\n",
    "p4c.load_table_data(string_04_label_df, data_key_column=\"shared name\", network=string_suid)\n",
    "p4c.delete_table_column(\"row.names\")"
   ]
  },
  {
   "cell_type": "markdown",
   "metadata": {},
   "source": [
    "## Remove rows without canonical name\n",
    "To ensure that the merge will not give conflicting results because some of the column values are empty, all rows that do not have a Uniprot identifier (canonical name) will be removed."
   ]
  },
  {
   "cell_type": "code",
   "execution_count": 34,
   "metadata": {},
   "outputs": [
    {
     "name": "stdout",
     "output_type": "stream",
     "text": [
      "No edges selected.\n",
      "No nodes selected.\n",
      "No edges selected.\n",
      "No nodes selected.\n",
      "No edges selected.\n",
      "No edges selected.\n"
     ]
    },
    {
     "data": {
      "text/plain": [
       "{'nodes': [124201,\n",
       "  127516,\n",
       "  127114,\n",
       "  122377,\n",
       "  125026,\n",
       "  124387,\n",
       "  122608,\n",
       "  126532,\n",
       "  125140,\n",
       "  124234,\n",
       "  122563,\n",
       "  125059,\n",
       "  125257,\n",
       "  123862,\n",
       "  123355,\n",
       "  127357,\n",
       "  125410,\n",
       "  126658,\n",
       "  124447,\n",
       "  124933,\n",
       "  127315,\n",
       "  128194,\n",
       "  126898,\n",
       "  123400,\n",
       "  124462,\n",
       "  127555,\n",
       "  126484,\n",
       "  126718,\n",
       "  123898,\n",
       "  126271,\n",
       "  127786,\n",
       "  128317,\n",
       "  126160,\n",
       "  125515,\n",
       "  126319,\n",
       "  126829,\n",
       "  127501,\n",
       "  126742,\n",
       "  125923,\n",
       "  124309,\n",
       "  125485,\n",
       "  124888,\n",
       "  128038,\n",
       "  126838,\n",
       "  125008,\n",
       "  127099,\n",
       "  126886,\n",
       "  124420,\n",
       "  127321,\n",
       "  123802,\n",
       "  126724,\n",
       "  126634,\n",
       "  124438,\n",
       "  127225,\n",
       "  124060,\n",
       "  124354,\n",
       "  124258,\n",
       "  123352,\n",
       "  122515,\n",
       "  125908,\n",
       "  124291,\n",
       "  126940,\n",
       "  123052,\n",
       "  123100,\n",
       "  122659,\n",
       "  124336,\n",
       "  125581,\n",
       "  123907,\n",
       "  122734,\n",
       "  127300,\n",
       "  124945,\n",
       "  125947,\n",
       "  122800,\n",
       "  122338,\n",
       "  126346,\n",
       "  127831,\n",
       "  122656,\n",
       "  126286,\n",
       "  127807,\n",
       "  126712,\n",
       "  123580,\n",
       "  126805,\n",
       "  127717,\n",
       "  125125,\n",
       "  125770,\n",
       "  126925,\n",
       "  127810,\n",
       "  125197,\n",
       "  127963,\n",
       "  124222,\n",
       "  122503,\n",
       "  125443,\n",
       "  128095,\n",
       "  127336,\n",
       "  124396,\n",
       "  123175,\n",
       "  125038,\n",
       "  126055,\n",
       "  123184],\n",
       " 'edges': [159730,\n",
       "  308212,\n",
       "  382960,\n",
       "  328687,\n",
       "  286705,\n",
       "  376828,\n",
       "  434173,\n",
       "  387067,\n",
       "  360442,\n",
       "  342022,\n",
       "  234502,\n",
       "  208900,\n",
       "  188419,\n",
       "  151555,\n",
       "  321547,\n",
       "  403465,\n",
       "  421897,\n",
       "  356362,\n",
       "  319498,\n",
       "  435208,\n",
       "  328723,\n",
       "  197647,\n",
       "  434194,\n",
       "  196633,\n",
       "  180250,\n",
       "  381982,\n",
       "  213016,\n",
       "  424987,\n",
       "  416794,\n",
       "  339994,\n",
       "  291865,\n",
       "  259099,\n",
       "  317476,\n",
       "  384031,\n",
       "  206884,\n",
       "  377896,\n",
       "  276520,\n",
       "  205867,\n",
       "  432181,\n",
       "  282676,\n",
       "  146479,\n",
       "  161845,\n",
       "  426034,\n",
       "  254005,\n",
       "  430141,\n",
       "  222265,\n",
       "  250936,\n",
       "  273469,\n",
       "  380986,\n",
       "  422980,\n",
       "  360514,\n",
       "  435277,\n",
       "  313420,\n",
       "  174151,\n",
       "  424012,\n",
       "  361543,\n",
       "  311368,\n",
       "  142414,\n",
       "  265288,\n",
       "  320596,\n",
       "  333910,\n",
       "  407635,\n",
       "  421969,\n",
       "  279631,\n",
       "  315472,\n",
       "  205909,\n",
       "  424018,\n",
       "  186457,\n",
       "  424030,\n",
       "  424027,\n",
       "  384094,\n",
       "  323671,\n",
       "  375898,\n",
       "  424024,\n",
       "  415843,\n",
       "  417892,\n",
       "  424036,\n",
       "  405601,\n",
       "  424033,\n",
       "  254053,\n",
       "  413791,\n",
       "  266338,\n",
       "  424045,\n",
       "  386155,\n",
       "  398443,\n",
       "  349294,\n",
       "  230503,\n",
       "  424042,\n",
       "  350311,\n",
       "  331879,\n",
       "  424039,\n",
       "  256108,\n",
       "  424054,\n",
       "  424051,\n",
       "  222319,\n",
       "  221302,\n",
       "  144502,\n",
       "  424048,\n",
       "  147577,\n",
       "  425083,\n",
       "  170104,\n",
       "  424060,\n",
       "  274558,\n",
       "  424057,\n",
       "  404602,\n",
       "  423034,\n",
       "  151678,\n",
       "  148609,\n",
       "  424069,\n",
       "  272518,\n",
       "  424066,\n",
       "  399490,\n",
       "  424063,\n",
       "  129157,\n",
       "  358540,\n",
       "  433294,\n",
       "  424078,\n",
       "  424075,\n",
       "  209038,\n",
       "  315529,\n",
       "  300169,\n",
       "  424072,\n",
       "  425110,\n",
       "  397462,\n",
       "  403612,\n",
       "  313495,\n",
       "  321688,\n",
       "  200860,\n",
       "  313498,\n",
       "  395416,\n",
       "  353446,\n",
       "  213157,\n",
       "  352417,\n",
       "  403630,\n",
       "  283822,\n",
       "  343219,\n",
       "  264370,\n",
       "  161977,\n",
       "  367804,\n",
       "  260281,\n",
       "  261304,\n",
       "  423100,\n",
       "  222391,\n",
       "  138430,\n",
       "  201916,\n",
       "  407743,\n",
       "  351436,\n",
       "  147655,\n",
       "  384205,\n",
       "  174286,\n",
       "  195787,\n",
       "  234706,\n",
       "  371920,\n",
       "  191701,\n",
       "  297169,\n",
       "  434398,\n",
       "  386266,\n",
       "  330970,\n",
       "  379108,\n",
       "  160993,\n",
       "  259297,\n",
       "  367846,\n",
       "  254176,\n",
       "  433390,\n",
       "  188647,\n",
       "  326887,\n",
       "  255214,\n",
       "  431335,\n",
       "  285940,\n",
       "  216304,\n",
       "  430324,\n",
       "  328954,\n",
       "  213250,\n",
       "  277765,\n",
       "  345358,\n",
       "  364813,\n",
       "  281878,\n",
       "  315670,\n",
       "  266512,\n",
       "  347410,\n",
       "  310555,\n",
       "  303388,\n",
       "  276766,\n",
       "  145696,\n",
       "  364834,\n",
       "  315694,\n",
       "  143662,\n",
       "  251179,\n",
       "  270643,\n",
       "  386356,\n",
       "  315700,\n",
       "  366895,\n",
       "  403759,\n",
       "  147763,\n",
       "  343345,\n",
       "  383281,\n",
       "  290098,\n",
       "  296251,\n",
       "  205114,\n",
       "  416062,\n",
       "  311608,\n",
       "  432439,\n",
       "  343354,\n",
       "  409921,\n",
       "  359743,\n",
       "  385345,\n",
       "  435520,\n",
       "  384331,\n",
       "  233800,\n",
       "  376141,\n",
       "  417097,\n",
       "  239950,\n",
       "  347464,\n",
       "  373063,\n",
       "  241996,\n",
       "  433480,\n",
       "  336208,\n",
       "  321871,\n",
       "  136534,\n",
       "  386386,\n",
       "  362833,\n",
       "  275794,\n",
       "  172372,\n",
       "  197971,\n",
       "  200023,\n",
       "  424294,\n",
       "  435556,\n",
       "  230758,\n",
       "  435553,\n",
       "  292192,\n",
       "  385375,\n",
       "  379231,\n",
       "  317812,\n",
       "  290164,\n",
       "  428404,\n",
       "  313714,\n",
       "  428413,\n",
       "  346492,\n",
       "  198013,\n",
       "  202108,\n",
       "  226684,\n",
       "  308611,\n",
       "  415105,\n",
       "  415117,\n",
       "  435595,\n",
       "  354697,\n",
       "  237970,\n",
       "  346516,\n",
       "  381331,\n",
       "  415126,\n",
       "  415123,\n",
       "  330133,\n",
       "  410002,\n",
       "  184726,\n",
       "  195988,\n",
       "  415120,\n",
       "  330139,\n",
       "  234904,\n",
       "  415132,\n",
       "  374173,\n",
       "  415129,\n",
       "  278938,\n",
       "  415141,\n",
       "  388516,\n",
       "  223648,\n",
       "  415138,\n",
       "  415135,\n",
       "  411040,\n",
       "  388513,\n",
       "  421291,\n",
       "  435625,\n",
       "  144814,\n",
       "  263593,\n",
       "  255403,\n",
       "  289204,\n",
       "  351670,\n",
       "  379318,\n",
       "  145840,\n",
       "  143797,\n",
       "  435634,\n",
       "  155062,\n",
       "  435631,\n",
       "  184756,\n",
       "  214456,\n",
       "  407995,\n",
       "  431548,\n",
       "  421306,\n",
       "  366010,\n",
       "  327109,\n",
       "  296395,\n",
       "  177610,\n",
       "  342478,\n",
       "  155080,\n",
       "  412108,\n",
       "  172492,\n",
       "  309715,\n",
       "  394717,\n",
       "  298459,\n",
       "  155095,\n",
       "  187870,\n",
       "  379363,\n",
       "  382435,\n",
       "  382438,\n",
       "  395743,\n",
       "  358894,\n",
       "  416236,\n",
       "  199150,\n",
       "  375274,\n",
       "  308713,\n",
       "  335344,\n",
       "  399868,\n",
       "  380413,\n",
       "  225793,\n",
       "  128515,\n",
       "  420352,\n",
       "  297484,\n",
       "  391693,\n",
       "  339469,\n",
       "  376330,\n",
       "  274963,\n",
       "  293398,\n",
       "  396817,\n",
       "  250390,\n",
       "  259603,\n",
       "  342556,\n",
       "  154138,\n",
       "  346648,\n",
       "  296485,\n",
       "  396835,\n",
       "  433699,\n",
       "  304678,\n",
       "  262687,\n",
       "  385567,\n",
       "  413215,\n",
       "  362017,\n",
       "  287266,\n",
       "  430636,\n",
       "  389677,\n",
       "  393769,\n",
       "  308776,\n",
       "  374311,\n",
       "  158251,\n",
       "  231979,\n",
       "  218671,\n",
       "  159286,\n",
       "  383548,\n",
       "  165433,\n",
       "  182842,\n",
       "  410167,\n",
       "  339514,\n",
       "  379459,\n",
       "  400963,\n",
       "  434755,\n",
       "  159301,\n",
       "  401983,\n",
       "  407104,\n",
       "  361036,\n",
       "  396871,\n",
       "  136786,\n",
       "  412246,\n",
       "  350806,\n",
       "  376399,\n",
       "  432733,\n",
       "  394846,\n",
       "  400987,\n",
       "  413275,\n",
       "  342622,\n",
       "  409180,\n",
       "  333400,\n",
       "  253534,\n",
       "  243295,\n",
       "  314977,\n",
       "  372322,\n",
       "  346732,\n",
       "  161386,\n",
       "  258664,\n",
       "  429673,\n",
       "  274024,\n",
       "  180844,\n",
       "  328309,\n",
       "  434800,\n",
       "  424573,\n",
       "  129658,\n",
       "  163453,\n",
       "  255613,\n",
       "  390778,\n",
       "  368260,\n",
       "  381571,\n",
       "  315007,\n",
       "  355975,\n",
       "  413320,\n",
       "  269962,\n",
       "  249487,\n",
       "  434833,\n",
       "  204442,\n",
       "  404125,\n",
       "  428698,\n",
       "  251548,\n",
       "  245404,\n",
       "  324250,\n",
       "  415384,\n",
       "  389785,\n",
       "  431782,\n",
       "  307876,\n",
       "  410275,\n",
       "  282271,\n",
       "  396973,\n",
       "  430765,\n",
       "  356011,\n",
       "  386731,\n",
       "  325294,\n",
       "  413353,\n",
       "  133804,\n",
       "  354985,\n",
       "  396982,\n",
       "  329398,\n",
       "  360118,\n",
       "  432820,\n",
       "  404143,\n",
       "  422590,\n",
       "  258745,\n",
       "  355006,\n",
       "  396988,\n",
       "  293560,\n",
       "  434872,\n",
       "  396997,\n",
       "  198337,\n",
       "  396994,\n",
       "  396991,\n",
       "  404170,\n",
       "  404167,\n",
       "  432853,\n",
       "  404179,\n",
       "  397012,\n",
       "  397009,\n",
       "  397021,\n",
       "  404188,\n",
       "  211678,\n",
       "  397018,\n",
       "  397015,\n",
       "  410341,\n",
       "  404197,\n",
       "  397030,\n",
       "  397027,\n",
       "  410338,\n",
       "  434914,\n",
       "  404194,\n",
       "  358114,\n",
       "  410335,\n",
       "  416479,\n",
       "  288481,\n",
       "  404191,\n",
       "  397024,\n",
       "  214762,\n",
       "  410350,\n",
       "  358123,\n",
       "  212713,\n",
       "  410347,\n",
       "  159463,\n",
       "  434923,\n",
       "  431851,\n",
       "  144103,\n",
       "  397036,\n",
       "  397033,\n",
       "  159469,\n",
       "  389866,\n",
       "  410344,\n",
       "  397045,\n",
       "  410356,\n",
       "  384757,\n",
       "  261871,\n",
       "  431857,\n",
       "  410353,\n",
       "  310000,\n",
       "  397042,\n",
       "  174838,\n",
       "  397039,\n",
       "  295666,\n",
       "  431869,\n",
       "  410365,\n",
       "  286459,\n",
       "  397054,\n",
       "  231160,\n",
       "  206584,\n",
       "  397051,\n",
       "  384760,\n",
       "  410362,\n",
       "  364279,\n",
       "  431863,\n",
       "  410359,\n",
       "  397048,\n",
       "  405253,\n",
       "  431878,\n",
       "  410374,\n",
       "  382723,\n",
       "  431875,\n",
       "  410371,\n",
       "  244480,\n",
       "  397060,\n",
       "  397057,\n",
       "  431872,\n",
       "  410368,\n",
       "  397069,\n",
       "  281356,\n",
       "  365323,\n",
       "  321292,\n",
       "  431884,\n",
       "  410380,\n",
       "  316174,\n",
       "  431881,\n",
       "  410377,\n",
       "  397066,\n",
       "  181006,\n",
       "  369418,\n",
       "  397063,\n",
       "  431893,\n",
       "  410389,\n",
       "  383764,\n",
       "  389908,\n",
       "  397078,\n",
       "  397075,\n",
       "  290581,\n",
       "  402196,\n",
       "  431890,\n",
       "  410386,\n",
       "  431887,\n",
       "  397072,\n",
       "  434974,\n",
       "  431899,\n",
       "  410395,\n",
       "  395035,\n",
       "  318238,\n",
       "  397084,\n",
       "  403228,\n",
       "  397081,\n",
       "  389911,\n",
       "  410392,\n",
       "  397093,\n",
       "  410404,\n",
       "  354085,\n",
       "  360229,\n",
       "  410401,\n",
       "  397090,\n",
       "  218917,\n",
       "  397087,\n",
       "  133924,\n",
       "  410413,\n",
       "  181033,\n",
       "  360235,\n",
       "  397102,\n",
       "  397099,\n",
       "  369454,\n",
       "  312109,\n",
       "  426793,\n",
       "  410410,\n",
       "  434986,\n",
       "  410407,\n",
       "  397096,\n",
       "  139057,\n",
       "  337717,\n",
       "  397108,\n",
       "  389941,\n",
       "  174901,\n",
       "  397105,\n",
       "  396082,\n",
       "  410416,\n",
       "  330556,\n",
       "  397117,\n",
       "  328510,\n",
       "  395068,\n",
       "  433978,\n",
       "  397114,\n",
       "  381754,\n",
       "  397111,\n",
       "  333625,\n",
       "  410437,\n",
       "  397126,\n",
       "  424771,\n",
       "  281407,\n",
       "  339778,\n",
       "  397120,\n",
       "  404302,\n",
       "  177994,\n",
       "  205639,\n",
       "  430933,\n",
       "  357205,\n",
       "  302929,\n",
       "  309085,\n",
       "  302941,\n",
       "  209755,\n",
       "  408421,\n",
       "  188257,\n",
       "  435043,\n",
       "  235360,\n",
       "  307039,\n",
       "  417631,\n",
       "  342892,\n",
       "  172906,\n",
       "  423787,\n",
       "  431980,\n",
       "  174952,\n",
       "  371560,\n",
       "  363367,\n",
       "  388969,\n",
       "  393076,\n",
       "  223087,\n",
       "  418672,\n",
       "  188281,\n",
       "  326524,\n",
       "  368509,\n",
       "  302974,\n",
       "  383863,\n",
       "  246658,\n",
       "  219010,\n",
       "  434047,\n",
       "  207748,\n",
       "  393100,\n",
       "  433033,\n",
       "  207757,\n",
       "  433045,\n",
       "  320404,\n",
       "  416659,\n",
       "  410515,\n",
       "  368527,\n",
       "  405403,\n",
       "  265111,\n",
       "  356260,\n",
       "  141217,\n",
       "  180130,\n",
       "  385957,\n",
       "  308134,\n",
       "  235429,\n",
       "  234409,\n",
       "  364462,\n",
       "  401323,\n",
       "  297901,\n",
       "  212908,\n",
       "  169900,\n",
       "  294826,\n",
       "  342964,\n",
       "  169906,\n",
       "  388021,\n",
       "  356272,\n",
       "  191413,\n",
       "  128947,\n",
       "  382897,\n",
       "  323506,\n",
       "  302011,\n",
       "  146362,\n",
       "  412603,\n",
       "  315319,\n",
       "  267193,\n",
       "  380869,\n",
       "  315328,\n",
       "  431053,\n",
       "  379852,\n",
       "  371659,\n",
       "  328654,\n",
       "  403399,\n",
       "  311251,\n",
       "  150481,\n",
       "  248788,\n",
       "  236500,\n",
       "  312274,\n",
       "  353233,\n",
       "  288733,\n",
       "  365533,\n",
       "  195544,\n",
       "  171997,\n",
       "  324568,\n",
       "  380887,\n",
       "  314329,\n",
       "  413656,\n",
       "  348121,\n",
       "  286687,\n",
       "  297952,\n",
       "  394210,\n",
       "  296929,\n",
       "  345067,\n",
       "  348136,\n",
       "  152557]}"
      ]
     },
     "execution_count": 34,
     "metadata": {},
     "output_type": "execute_result"
    }
   ],
   "source": [
    "## Create filter for entries that don't have a stringdb canonical name (uniprot ID). Delete selected rows in each network. ##\n",
    "p4c.create_column_filter(filter_name=\"Columns without canonical name\", \n",
    "                         column=\"stringdb::canonical name\", \n",
    "                         criterion=\"\", predicate=\"DOES_NOT_CONTAIN\") \n",
    "\n",
    "# Apply filter and delete nodes for Wikipathways\n",
    "p4c.apply_filter(\"Columns without canonical name\", network=kegg_suid)\n",
    "p4c.delete_selected_nodes(kegg_suid)\n",
    "\n",
    "# Apply filter and delete nodes for Wikipathways\n",
    "p4c.apply_filter(\"Columns without canonical name\", network=wiki_suid)\n",
    "p4c.delete_selected_nodes(wiki_suid)\n",
    "\n",
    "# Apply filter and delete nodes for STRING networks\n",
    "p4c.apply_filter(\"Columns without canonical name\", network=string_suid)\n",
    "p4c.delete_selected_nodes(string_suid)"
   ]
  },
  {
   "cell_type": "markdown",
   "metadata": {},
   "source": [
    "# Network merging"
   ]
  },
  {
   "cell_type": "code",
   "execution_count": 37,
   "metadata": {},
   "outputs": [],
   "source": [
    "## Merge the three networks ##\n",
    "network_names = ['KEGG hsa05016 network stringified', f'STRING 12858 network C{string_confidence}', 'Wikipathways WP3853 network stringified']\n",
    "node_keys_list = [\"stringdb::canonical name\", \"stringdb::canonical name\", \"stringdb::canonical name\"]\n",
    "merged_network_name = f\"Merged STRING KEGG Wiki network cutoff {string_confidence}\"\n",
    "\n",
    "## This try except structure is to catch a type error in the py4cytoscape library\n",
    "try: \n",
    "    p4c.merge_networks(sources=network_names, \n",
    "                       title=merged_network_name, \n",
    "                       node_keys=node_keys_list)\n",
    "except TypeError:\n",
    "    print(p4c.get_network_list())\n",
    "\n",
    "merged_network_suid = p4c.get_network_suid(merged_network_name)"
   ]
  },
  {
   "cell_type": "markdown",
   "metadata": {},
   "source": [
    "## Filtering database columns\n",
    "To check the overlap between the databases, a filter will be applied."
   ]
  },
  {
   "cell_type": "code",
   "execution_count": 38,
   "metadata": {},
   "outputs": [
    {
     "name": "stdout",
     "output_type": "stream",
     "text": [
      "database\n",
      "kegg                 130\n",
      "kegg;string          169\n",
      "kegg;wiki;string       3\n",
      "string              1718\n",
      "wiki                   3\n",
      "wiki;string            8\n",
      "Name: database, dtype: int64\n"
     ]
    },
    {
     "data": {
      "text/plain": [
       "''"
      ]
     },
     "execution_count": 38,
     "metadata": {},
     "output_type": "execute_result"
    }
   ],
   "source": [
    "## Create dataframe with the column indicators ##\n",
    "database_filter_df = p4c.get_table_columns('node', columns=[\"name\", \"kegg_db\", \"wiki_db\", \"string_db\"], network=merged_network_suid)\n",
    "database_filter_df[\"database\"] = \"\" # Create new column with empty string values\n",
    "\n",
    "## Give the database column a value based on which databases the nodes are from\n",
    "database_filter_df.loc[(database_filter_df['kegg_db'] == 1) & (database_filter_df[\"string_db\"] == 1) &\n",
    "                    (database_filter_df[\"wiki_db\"] == 1), \"database\"] = \"kegg;wiki;string\"\n",
    "database_filter_df.loc[(database_filter_df['kegg_db'] == 1) & (database_filter_df[\"string_db\"] == 1) &\n",
    "                    (database_filter_df[\"wiki_db\"] != 1), \"database\"] = \"kegg;string\"\n",
    "database_filter_df.loc[(database_filter_df['kegg_db'] == 1) & (database_filter_df[\"string_db\"] != 1) &\n",
    "                    (database_filter_df[\"wiki_db\"] == 1), \"database\"] = \"kegg;wiki\"\n",
    "database_filter_df.loc[(database_filter_df['kegg_db'] != 1) & (database_filter_df[\"string_db\"] == 1) &\n",
    "                    (database_filter_df[\"wiki_db\"] == 1), \"database\"] = \"wiki;string\"\n",
    "database_filter_df.loc[(database_filter_df['kegg_db'] == 1) & (database_filter_df[\"string_db\"] != 1) &\n",
    "                    (database_filter_df[\"wiki_db\"] != 1), \"database\"] = \"kegg\"\n",
    "database_filter_df.loc[((database_filter_df['kegg_db'] != 1) & (database_filter_df[\"string_db\"] != 1)) &\n",
    "                    (database_filter_df[\"wiki_db\"] == 1), \"database\"] = \"wiki\"\n",
    "database_filter_df.loc[(database_filter_df['kegg_db'] != 1) & (database_filter_df[\"string_db\"] == 1) &\n",
    "                    (database_filter_df[\"wiki_db\"] != 1), \"database\"] = \"string\"\n",
    "\n",
    "print(database_filter_df.groupby(\"database\")[\"database\"].count()) # Give the distribution of nodes in the merged network\n",
    "\n",
    "p4c.set_current_network(merged_network_suid)\n",
    "p4c.load_table_data(database_filter_df, data_key_column=\"name\") # Add the database filter column to the network\n",
    "p4c.delete_table_column(\"row.names\")"
   ]
  },
  {
   "cell_type": "markdown",
   "metadata": {},
   "source": [
    "## Network expansion\n",
    "Expand the merged network with another 2000 nodes"
   ]
  },
  {
   "cell_type": "code",
   "execution_count": 39,
   "metadata": {},
   "outputs": [],
   "source": [
    "## Expand Merged STRING_0.4 KEGG Wiki network ##\n",
    "p4c.clone_network(merged_network_suid) # Creates a clone of the merged network, with \"_1\" added to the name\n",
    "expansion_cmd_list = ['string expand', 'additionalNodes=2000', f'network=\"{merged_network_name}_1\"', \n",
    "                      'nodeTypes=\"Homo sapiens\"', 'selectivityAlpha=0.5']\n",
    "expansion_cmd = \" \".join(expansion_cmd_list)\n",
    "p4c.commands.commands_run(expansion_cmd)\n",
    "p4c.rename_network(f\"{merged_network_name} expanded\")\n",
    "merged_network_expanded_suid = p4c.get_network_suid(f\"{merged_network_name} expanded\")"
   ]
  },
  {
   "cell_type": "markdown",
   "metadata": {},
   "source": [
    "## Visualization\n",
    "More additional visualization can be done in Cytoscape itself, this only visualizes the database distribution and the nervous tissue confidence."
   ]
  },
  {
   "cell_type": "code",
   "execution_count": 40,
   "metadata": {},
   "outputs": [
    {
     "data": {
      "text/plain": [
       "''"
      ]
     },
     "execution_count": 40,
     "metadata": {},
     "output_type": "execute_result"
    }
   ],
   "source": [
    "## Set color of nodes according to a gradient for the confidence that the protein is active in the nervous system\n",
    "if \"ADCN style\" not in p4c.get_visual_style_names():\n",
    "    p4c.create_visual_style(\"ADCN style\")\n",
    "\n",
    "p4c.set_current_network(merged_network_expanded_suid)\n",
    "p4c.set_node_color_mapping(**p4c.gen_node_color_map('tissue::nervous system', p4c.palette_color_brewer_s_YlOrBr(), style_name=\"ADCN style\"))"
   ]
  },
  {
   "cell_type": "code",
   "execution_count": 41,
   "metadata": {},
   "outputs": [
    {
     "data": {
      "text/plain": [
       "''"
      ]
     },
     "execution_count": 41,
     "metadata": {},
     "output_type": "execute_result"
    }
   ],
   "source": [
    "## Set shape of nodes according to database values\n",
    "database_values = [\"kegg\", \"string\", \"wiki\", \"kegg;string\", \"kegg;wiki\", \"wiki;string\", \"kegg;wiki;string\"]\n",
    "mapping_shapes = [\"HEXAGON\", \"ROUND_RECTANGLE\", \"VEE\", \"PARALLELOGRAM\", \"DIAMOND\", \"ELLIPSE\", \"TRIANGLE\"]\n",
    "\n",
    "p4c.set_node_shape_mapping(table_column=\"database\", table_column_values=database_values,\n",
    "                            shapes=mapping_shapes, default_shape=\"RECTANGLE\", style_name=\"ADCN style\")"
   ]
  },
  {
   "cell_type": "code",
   "execution_count": 42,
   "metadata": {},
   "outputs": [
    {
     "data": {
      "text/plain": [
       "{'message': 'Visual Style applied.'}"
      ]
     },
     "execution_count": 42,
     "metadata": {},
     "output_type": "execute_result"
    }
   ],
   "source": [
    "## Set ADCN style for the two networks\n",
    "p4c.set_visual_style(\"ADCN style\", merged_network_suid)\n",
    "p4c.set_visual_style(\"ADCN style\", merged_network_expanded_suid)"
   ]
  },
  {
   "cell_type": "markdown",
   "metadata": {},
   "source": [
    "## Analyse the networks\n",
    "Analyse the normal and expanded networks with the analysis software from Cytoscape"
   ]
  },
  {
   "cell_type": "code",
   "execution_count": 44,
   "metadata": {},
   "outputs": [
    {
     "name": "stdout",
     "output_type": "stream",
     "text": [
      "                                                                0\n",
      "networkTitle    Merged STRING KEGG Wiki network cutoff 0.4 (un...\n",
      "nodeCount                                                    2031\n",
      "edgeCount                                                  105642\n",
      "avNeighbors                                    103.27846229669788\n",
      "diameter                                                        5\n",
      "radius                                                          3\n",
      "avSpl                                           2.229900175269247\n",
      "cc                                             0.4319631282057894\n",
      "density                                        0.0509262634599102\n",
      "heterogeneity                                   0.944561566460152\n",
      "centralization                                 0.3937419297083067\n",
      "ncc                                                             3\n",
      "time                                                        4.299\n"
     ]
    }
   ],
   "source": [
    "## Analyse network\n",
    "p4c.set_current_network(merged_network_suid)\n",
    "analysis = p4c.analyze_network()\n",
    "analysis_df = pd.DataFrame.from_dict(analysis, 'index')\n",
    "print(analysis_df)"
   ]
  },
  {
   "cell_type": "code",
   "execution_count": 45,
   "metadata": {},
   "outputs": [
    {
     "name": "stdout",
     "output_type": "stream",
     "text": [
      "                                                                0\n",
      "networkTitle    Merged STRING KEGG Wiki network cutoff 0.4 exp...\n",
      "nodeCount                                                    4031\n",
      "edgeCount                                                  317355\n",
      "avNeighbors                                     157.1054852320675\n",
      "diameter                                                        5\n",
      "radius                                                          3\n",
      "avSpl                                           2.211373204643692\n",
      "cc                                             0.3826036381717503\n",
      "density                                       0.03900334787290653\n",
      "heterogeneity                                  0.8403900351616043\n",
      "centralization                                0.35466824111034034\n",
      "ncc                                                             3\n",
      "time                                                       30.872\n"
     ]
    }
   ],
   "source": [
    "## Analyse expanded network\n",
    "p4c.set_current_network(merged_network_expanded_suid)\n",
    "analysis_expanded = p4c.analyze_network()\n",
    "analysis_expanded_df = pd.DataFrame.from_dict(analysis_expanded, 'index')\n",
    "print(analysis_expanded_df)"
   ]
  }
 ],
 "metadata": {
  "kernelspec": {
   "display_name": "Python 3 (ipykernel)",
   "language": "python",
   "name": "python3"
  },
  "language_info": {
   "codemirror_mode": {
    "name": "ipython",
    "version": 3
   },
   "file_extension": ".py",
   "mimetype": "text/x-python",
   "name": "python",
   "nbconvert_exporter": "python",
   "pygments_lexer": "ipython3",
   "version": "3.11.5"
  }
 },
 "nbformat": 4,
 "nbformat_minor": 2
}
