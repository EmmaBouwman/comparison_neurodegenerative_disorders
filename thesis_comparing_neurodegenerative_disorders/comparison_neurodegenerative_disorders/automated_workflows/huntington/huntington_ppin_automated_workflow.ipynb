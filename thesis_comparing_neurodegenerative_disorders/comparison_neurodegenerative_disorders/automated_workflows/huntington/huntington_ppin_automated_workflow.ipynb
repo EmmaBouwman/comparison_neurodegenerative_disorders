{
 "cells": [
  {
   "cell_type": "markdown",
   "metadata": {},
   "source": [
    "# Huntington consensus network automated workflow\n",
    "This notebook gives a workflow for creating a consensus protein-protein interaction network using the library *py4cytoscape*. This uses the *CyREST* framework to make contact with Cytoscape where the commands will be executed. So, the **Cytoscape app needs to be opened in the browser** when executing this file. Also, pay attention to the amount of proteins imported from STRING, there are 2000 proteins imported and an additional 2000 for the expansion. Running the whole workflow can then take up to thirty minutes."
   ]
  },
  {
   "cell_type": "markdown",
   "metadata": {},
   "source": [
    "## Setup"
   ]
  },
  {
   "cell_type": "code",
   "execution_count": 4,
   "metadata": {},
   "outputs": [
    {
     "name": "stdout",
     "output_type": "stream",
     "text": [
      "Requirement already satisfied: py4cytoscape in c:\\users\\emmab\\anaconda3\\lib\\site-packages (1.9.0)\n",
      "Requirement already satisfied: pandas in c:\\users\\emmab\\anaconda3\\lib\\site-packages (from py4cytoscape) (2.0.3)\n",
      "Requirement already satisfied: networkx in c:\\users\\emmab\\anaconda3\\lib\\site-packages (from py4cytoscape) (3.1)\n",
      "Requirement already satisfied: requests in c:\\users\\emmab\\anaconda3\\lib\\site-packages (from py4cytoscape) (2.31.0)\n",
      "Requirement already satisfied: igraph in c:\\users\\emmab\\anaconda3\\lib\\site-packages (from py4cytoscape) (0.11.4)\n",
      "Requirement already satisfied: colorbrewer in c:\\users\\emmab\\anaconda3\\lib\\site-packages (from py4cytoscape) (0.2.0)\n",
      "Requirement already satisfied: chardet in c:\\users\\emmab\\anaconda3\\lib\\site-packages (from py4cytoscape) (4.0.0)\n",
      "Requirement already satisfied: decorator in c:\\users\\emmab\\anaconda3\\lib\\site-packages (from py4cytoscape) (5.1.1)\n",
      "Requirement already satisfied: backoff in c:\\users\\emmab\\anaconda3\\lib\\site-packages (from py4cytoscape) (2.2.1)\n",
      "Requirement already satisfied: colour in c:\\users\\emmab\\anaconda3\\lib\\site-packages (from py4cytoscape) (0.1.5)\n",
      "Requirement already satisfied: six in c:\\users\\emmab\\anaconda3\\lib\\site-packages (from colorbrewer->py4cytoscape) (1.16.0)\n",
      "Requirement already satisfied: texttable>=1.6.2 in c:\\users\\emmab\\anaconda3\\lib\\site-packages (from igraph->py4cytoscape) (1.7.0)\n",
      "Requirement already satisfied: python-dateutil>=2.8.2 in c:\\users\\emmab\\anaconda3\\lib\\site-packages (from pandas->py4cytoscape) (2.8.2)\n",
      "Requirement already satisfied: pytz>=2020.1 in c:\\users\\emmab\\anaconda3\\lib\\site-packages (from pandas->py4cytoscape) (2023.3.post1)\n",
      "Requirement already satisfied: tzdata>=2022.1 in c:\\users\\emmab\\anaconda3\\lib\\site-packages (from pandas->py4cytoscape) (2023.3)\n",
      "Requirement already satisfied: numpy>=1.21.0 in c:\\users\\emmab\\anaconda3\\lib\\site-packages (from pandas->py4cytoscape) (1.24.3)\n",
      "Requirement already satisfied: charset-normalizer<4,>=2 in c:\\users\\emmab\\anaconda3\\lib\\site-packages (from requests->py4cytoscape) (2.0.4)\n",
      "Requirement already satisfied: idna<4,>=2.5 in c:\\users\\emmab\\anaconda3\\lib\\site-packages (from requests->py4cytoscape) (3.4)\n",
      "Requirement already satisfied: urllib3<3,>=1.21.1 in c:\\users\\emmab\\anaconda3\\lib\\site-packages (from requests->py4cytoscape) (1.26.16)\n",
      "Requirement already satisfied: certifi>=2017.4.17 in c:\\users\\emmab\\anaconda3\\lib\\site-packages (from requests->py4cytoscape) (2024.2.2)\n",
      "Note: you may need to restart the kernel to use updated packages.\n"
     ]
    }
   ],
   "source": [
    "pip install py4cytoscape"
   ]
  },
  {
   "cell_type": "code",
   "execution_count": 5,
   "metadata": {},
   "outputs": [],
   "source": [
    "## Imports\n",
    "import py4cytoscape as p4c\n",
    "import pandas as pd"
   ]
  },
  {
   "cell_type": "code",
   "execution_count": 6,
   "metadata": {
    "scrolled": true
   },
   "outputs": [
    {
     "data": {
      "text/plain": [
       "{'apiVersion': 'v1',\n",
       " 'cytoscapeVersion': '3.10.2',\n",
       " 'automationAPIVersion': '1.9.0',\n",
       " 'py4cytoscapeVersion': '1.9.0'}"
      ]
     },
     "execution_count": 6,
     "metadata": {},
     "output_type": "execute_result"
    }
   ],
   "source": [
    "## Execute to check whether contact with the Cytoscape app via CyREST works \n",
    "p4c.cytoscape_version_info()"
   ]
  },
  {
   "cell_type": "markdown",
   "metadata": {},
   "source": [
    "## Load networks\n",
    "Three types of networks will be loaded, firstly from KEGG, then Wikipathways and lastly STRING. It is important to indicate the desired STRING cutoff score in the beginning, which will influence the number of edges in the network. "
   ]
  },
  {
   "cell_type": "markdown",
   "metadata": {},
   "source": [
    "### Load KEGG"
   ]
  },
  {
   "cell_type": "code",
   "execution_count": 7,
   "metadata": {},
   "outputs": [],
   "source": [
    "## Set string confidence in a variable with 0 > confidence >= 1.0 ##\n",
    "string_confidence = 0.4"
   ]
  },
  {
   "cell_type": "code",
   "execution_count": 8,
   "metadata": {},
   "outputs": [
    {
     "data": {
      "text/plain": [
       "{'network': 28191, 'title': 'KEGG hsa05016 network'}"
      ]
     },
     "execution_count": 8,
     "metadata": {},
     "output_type": "execute_result"
    }
   ],
   "source": [
    "## Load KEGG network ##\n",
    "p4c.networks.import_network_from_file(\"HD_hsa05016.gml\")\n",
    "p4c.layout_network('force-directed', network=\"current\") # the gml file does not contain any layout information so layout has to be set\n",
    "p4c.rename_network(\"KEGG hsa05016 network\")"
   ]
  },
  {
   "cell_type": "code",
   "execution_count": 9,
   "metadata": {},
   "outputs": [
    {
     "data": {
      "text/plain": [
       "{'network': 42845, 'title': 'KEGG hsa05016 network stringified'}"
      ]
     },
     "execution_count": 9,
     "metadata": {},
     "output_type": "execute_result"
    }
   ],
   "source": [
    "## Create a Stringified version of KEGG network ##\n",
    "cmd_list = ['string', 'stringify', 'colDisplayName=\"name\"', 'column=\"uniprot\"',\n",
    "            'compoundQuery=\"false\"', 'includeNotMapped=\"false\"', \n",
    "            'networkNoGui=\"KEGG hsa05016 network\"', 'species=\"Homo sapiens\"']\n",
    "cmd = \" \".join(cmd_list)\n",
    "p4c.commands.commands_run(cmd) \n",
    "p4c.rename_network(\"KEGG hsa05016 network stringified\")"
   ]
  },
  {
   "cell_type": "code",
   "execution_count": 10,
   "metadata": {},
   "outputs": [
    {
     "data": {
      "text/plain": [
       "['']"
      ]
     },
     "execution_count": 10,
     "metadata": {},
     "output_type": "execute_result"
    }
   ],
   "source": [
    "## Set cutoff ##\n",
    "change_cutoff_cmd_list = ['string change confidence', f'confidence={string_confidence}', 'network=\"KEGG hsa05016 network stringified\"']\n",
    "change_cutoff_cmd = \" \".join(change_cutoff_cmd_list)\n",
    "p4c.commands.commands_run(change_cutoff_cmd)"
   ]
  },
  {
   "cell_type": "markdown",
   "metadata": {},
   "source": [
    "### Load Wikipathways "
   ]
  },
  {
   "cell_type": "code",
   "execution_count": 25,
   "metadata": {
    "scrolled": true
   },
   "outputs": [
    {
     "data": {
      "text/plain": [
       "{'network': 82921, 'title': 'Wikipathways WP3853 network'}"
      ]
     },
     "execution_count": 25,
     "metadata": {},
     "output_type": "execute_result"
    }
   ],
   "source": [
    "## Load Wikipathways network ##\n",
    "cmd_list = ['wikipathways','import-as-network','id=\"WP3853\"']\n",
    "cmd = \" \".join(cmd_list)\n",
    "p4c.commands.commands_get(cmd) \n",
    "p4c.rename_network(\"Wikipathways WP3853 network\")"
   ]
  },
  {
   "cell_type": "code",
   "execution_count": 26,
   "metadata": {},
   "outputs": [
    {
     "data": {
      "text/plain": [
       "{'network': 82921, 'title': 'Wikipathways WP3853 network uniprot'}"
      ]
     },
     "execution_count": 26,
     "metadata": {},
     "output_type": "execute_result"
    }
   ],
   "source": [
    "## Clone and rename Wikipathways network ##\n",
    "p4c.clone_network(\"Wikipathways WP3853 network\")\n",
    "p4c.rename_network(title=\"Wikipathways WP3853 network uniprot\", network=\"Wikipathways WP3853 network\")"
   ]
  },
  {
   "cell_type": "code",
   "execution_count": 32,
   "metadata": {},
   "outputs": [
    {
     "data": {
      "text/plain": [
       "{'mappedTables': [82892, 82930]}"
      ]
     },
     "execution_count": 32,
     "metadata": {},
     "output_type": "execute_result"
    }
   ],
   "source": [
    "## Add uniprot columns to Wikipathways network ##\n",
    "p4c.load_table_data_from_file(\"wikipathway_to_uniprot_HD.xlsx\", first_row_as_column_names=True,\n",
    "                              data_key_column_index=1, network=\"Wikipathways WP3853 network uniprot\")"
   ]
  },
  {
   "cell_type": "code",
   "execution_count": 33,
   "metadata": {},
   "outputs": [
    {
     "name": "stdout",
     "output_type": "stream",
     "text": [
      "No edges selected.\n",
      "No edges selected.\n"
     ]
    },
    {
     "data": {
      "text/plain": [
       "{'nodes': [83070, 83096, 83103, 83043, 83089, 83082, 83034, 83028],\n",
       " 'edges': [83152,\n",
       "  83122,\n",
       "  83091,\n",
       "  83093,\n",
       "  83128,\n",
       "  83098,\n",
       "  83100,\n",
       "  83131,\n",
       "  83105,\n",
       "  83137,\n",
       "  83140,\n",
       "  83107,\n",
       "  83110,\n",
       "  83143,\n",
       "  83146,\n",
       "  83113,\n",
       "  83084,\n",
       "  83116,\n",
       "  83086]}"
      ]
     },
     "execution_count": 33,
     "metadata": {},
     "output_type": "execute_result"
    }
   ],
   "source": [
    "## Remove nodes without uniprot ID ##\n",
    "p4c.create_column_filter(filter_name=\"Columns without uniprot\", \n",
    "                         column=\"uniprot\", \n",
    "                         criterion=\"\", predicate=\"DOES_NOT_CONTAIN\") \n",
    "\n",
    "# Apply filter and delete nodes for Wikipathways\n",
    "p4c.apply_filter(\"Columns without uniprot\", network=\"Wikipathways WP3853 network uniprot\")\n",
    "p4c.delete_selected_nodes(\"Wikipathways WP3853 network uniprot\")"
   ]
  },
  {
   "cell_type": "code",
   "execution_count": 34,
   "metadata": {
    "scrolled": true
   },
   "outputs": [
    {
     "data": {
      "text/plain": [
       "{'network': 83918, 'title': 'Wikipathways WP3853 network stringified'}"
      ]
     },
     "execution_count": 34,
     "metadata": {},
     "output_type": "execute_result"
    }
   ],
   "source": [
    "## Create a Stringified version of Wikipathways network ##\n",
    "cmd_list_stringify_wp = ['string', 'stringify', 'colDisplayName=\"name\"', 'column=\"uniprot\"',\n",
    "                        'compoundQuery=\"false\"', 'includeNotMapped=\"false\"', \n",
    "                        'networkNoGui=\"Wikipathways WP3853 network uniprot\"', 'species=\"Homo sapiens\"']\n",
    "cmd_stringify_wp = \" \".join(cmd_list_stringify_wp)\n",
    "p4c.commands.commands_run(cmd_stringify_wp)\n",
    "p4c.rename_network(\"Wikipathways WP3853 network stringified\")"
   ]
  },
  {
   "cell_type": "code",
   "execution_count": 35,
   "metadata": {},
   "outputs": [
    {
     "data": {
      "text/plain": [
       "['']"
      ]
     },
     "execution_count": 35,
     "metadata": {},
     "output_type": "execute_result"
    }
   ],
   "source": [
    "## Set cutoff to string confidence ##\n",
    "change_cutoff_cmd_list = ['string change confidence', f'confidence={string_confidence}', 'network=\"Wikipathways WP3853 network stringified\"']\n",
    "change_cutoff_cmd = \" \".join(change_cutoff_cmd_list)\n",
    "p4c.commands.commands_run(change_cutoff_cmd)"
   ]
  },
  {
   "cell_type": "markdown",
   "metadata": {},
   "source": [
    "### Load STRING"
   ]
  },
  {
   "cell_type": "code",
   "execution_count": 13,
   "metadata": {},
   "outputs": [
    {
     "name": "stderr",
     "output_type": "stream",
     "text": [
      "In commands_post(): Task Cancelled. Could not validate Tunable inputs: Duplicated network name.\n"
     ]
    },
    {
     "ename": "CyError",
     "evalue": "In commands_post(): Task Cancelled. Could not validate Tunable inputs: Duplicated network name.",
     "output_type": "error",
     "traceback": [
      "\u001b[1;31m---------------------------------------------------------------------------\u001b[0m",
      "\u001b[1;31mHTTPError\u001b[0m                                 Traceback (most recent call last)",
      "File \u001b[1;32m~\\anaconda3\\Lib\\site-packages\\py4cytoscape\\commands.py:391\u001b[0m, in \u001b[0;36mcommands_post\u001b[1;34m(cmd, base_url)\u001b[0m\n\u001b[0;32m    390\u001b[0m r \u001b[38;5;241m=\u001b[39m _do_request(\u001b[38;5;124m'\u001b[39m\u001b[38;5;124mPOST\u001b[39m\u001b[38;5;124m'\u001b[39m, post_url, json\u001b[38;5;241m=\u001b[39mpost_body, headers\u001b[38;5;241m=\u001b[39mheaders, base_url\u001b[38;5;241m=\u001b[39mbase_url)\n\u001b[1;32m--> 391\u001b[0m r\u001b[38;5;241m.\u001b[39mraise_for_status()\n\u001b[0;32m    392\u001b[0m res \u001b[38;5;241m=\u001b[39m json\u001b[38;5;241m.\u001b[39mloads(r\u001b[38;5;241m.\u001b[39mtext)\n",
      "File \u001b[1;32m~\\anaconda3\\Lib\\site-packages\\requests\\models.py:1021\u001b[0m, in \u001b[0;36mResponse.raise_for_status\u001b[1;34m(self)\u001b[0m\n\u001b[0;32m   1020\u001b[0m \u001b[38;5;28;01mif\u001b[39;00m http_error_msg:\n\u001b[1;32m-> 1021\u001b[0m     \u001b[38;5;28;01mraise\u001b[39;00m HTTPError(http_error_msg, response\u001b[38;5;241m=\u001b[39m\u001b[38;5;28mself\u001b[39m)\n",
      "\u001b[1;31mHTTPError\u001b[0m: 500 Server Error: Internal Server Error for url: http://127.0.0.1:1234/v1/commands/network/rename",
      "\nDuring handling of the above exception, another exception occurred:\n",
      "\u001b[1;31mCyError\u001b[0m                                   Traceback (most recent call last)",
      "Cell \u001b[1;32mIn[13], line 5\u001b[0m\n\u001b[0;32m      3\u001b[0m string_cmd \u001b[38;5;241m=\u001b[39m \u001b[38;5;124m\"\u001b[39m\u001b[38;5;124m \u001b[39m\u001b[38;5;124m\"\u001b[39m\u001b[38;5;241m.\u001b[39mjoin(string_cmd_list)\n\u001b[0;32m      4\u001b[0m p4c\u001b[38;5;241m.\u001b[39mcommands\u001b[38;5;241m.\u001b[39mcommands_run(string_cmd)\n\u001b[1;32m----> 5\u001b[0m p4c\u001b[38;5;241m.\u001b[39mrename_network(\u001b[38;5;124mf\u001b[39m\u001b[38;5;124m\"\u001b[39m\u001b[38;5;124mSTRING 12858 network C\u001b[39m\u001b[38;5;132;01m{\u001b[39;00mstring_confidence\u001b[38;5;132;01m}\u001b[39;00m\u001b[38;5;124m\"\u001b[39m)\n",
      "File \u001b[1;32m~\\anaconda3\\Lib\\site-packages\\py4cytoscape\\py4cytoscape_logger.py:133\u001b[0m, in \u001b[0;36mcy_log.<locals>.wrapper_log\u001b[1;34m(*args, **kwargs)\u001b[0m\n\u001b[0;32m    131\u001b[0m     \u001b[38;5;28;01mreturn\u001b[39;00m log_return(func, value)\n\u001b[0;32m    132\u001b[0m \u001b[38;5;28;01mexcept\u001b[39;00m \u001b[38;5;167;01mException\u001b[39;00m \u001b[38;5;28;01mas\u001b[39;00m e:\n\u001b[1;32m--> 133\u001b[0m     log_exception(func, e)\n\u001b[0;32m    134\u001b[0m \u001b[38;5;28;01mfinally\u001b[39;00m:\n\u001b[0;32m    135\u001b[0m     log_finally()\n",
      "File \u001b[1;32m~\\anaconda3\\Lib\\site-packages\\py4cytoscape\\py4cytoscape_logger.py:130\u001b[0m, in \u001b[0;36mcy_log.<locals>.wrapper_log\u001b[1;34m(*args, **kwargs)\u001b[0m\n\u001b[0;32m    128\u001b[0m log_incoming(func, \u001b[38;5;241m*\u001b[39margs, \u001b[38;5;241m*\u001b[39m\u001b[38;5;241m*\u001b[39mkwargs)\n\u001b[0;32m    129\u001b[0m \u001b[38;5;28;01mtry\u001b[39;00m:\n\u001b[1;32m--> 130\u001b[0m     value \u001b[38;5;241m=\u001b[39m func(\u001b[38;5;241m*\u001b[39margs, \u001b[38;5;241m*\u001b[39m\u001b[38;5;241m*\u001b[39mkwargs) \u001b[38;5;66;03m# Call function being logged\u001b[39;00m\n\u001b[0;32m    131\u001b[0m     \u001b[38;5;28;01mreturn\u001b[39;00m log_return(func, value)\n\u001b[0;32m    132\u001b[0m \u001b[38;5;28;01mexcept\u001b[39;00m \u001b[38;5;167;01mException\u001b[39;00m \u001b[38;5;28;01mas\u001b[39;00m e:\n",
      "File \u001b[1;32m~\\anaconda3\\Lib\\site-packages\\py4cytoscape\\networks.py:133\u001b[0m, in \u001b[0;36mrename_network\u001b[1;34m(title, network, base_url)\u001b[0m\n\u001b[0;32m    131\u001b[0m cmd \u001b[38;5;241m=\u001b[39m \u001b[38;5;124mf\u001b[39m\u001b[38;5;124m'\u001b[39m\u001b[38;5;124mnetwork rename name=\u001b[39m\u001b[38;5;124m\"\u001b[39m\u001b[38;5;132;01m{\u001b[39;00mtitle\u001b[38;5;132;01m}\u001b[39;00m\u001b[38;5;124m\"\u001b[39m\u001b[38;5;124m sourceNetwork=\u001b[39m\u001b[38;5;124m\"\u001b[39m\u001b[38;5;124mSUID:\u001b[39m\u001b[38;5;132;01m{\u001b[39;00mold_suid\u001b[38;5;132;01m}\u001b[39;00m\u001b[38;5;124m\"\u001b[39m\u001b[38;5;124m'\u001b[39m\n\u001b[0;32m    132\u001b[0m \u001b[38;5;66;03m# TODO: Put double quotes around SUID\u001b[39;00m\n\u001b[1;32m--> 133\u001b[0m \u001b[38;5;28;01mreturn\u001b[39;00m commands\u001b[38;5;241m.\u001b[39mcommands_post(cmd, base_url\u001b[38;5;241m=\u001b[39mbase_url)\n",
      "File \u001b[1;32m~\\anaconda3\\Lib\\site-packages\\py4cytoscape\\py4cytoscape_logger.py:133\u001b[0m, in \u001b[0;36mcy_log.<locals>.wrapper_log\u001b[1;34m(*args, **kwargs)\u001b[0m\n\u001b[0;32m    131\u001b[0m     \u001b[38;5;28;01mreturn\u001b[39;00m log_return(func, value)\n\u001b[0;32m    132\u001b[0m \u001b[38;5;28;01mexcept\u001b[39;00m \u001b[38;5;167;01mException\u001b[39;00m \u001b[38;5;28;01mas\u001b[39;00m e:\n\u001b[1;32m--> 133\u001b[0m     log_exception(func, e)\n\u001b[0;32m    134\u001b[0m \u001b[38;5;28;01mfinally\u001b[39;00m:\n\u001b[0;32m    135\u001b[0m     log_finally()\n",
      "File \u001b[1;32m~\\anaconda3\\Lib\\site-packages\\py4cytoscape\\py4cytoscape_logger.py:130\u001b[0m, in \u001b[0;36mcy_log.<locals>.wrapper_log\u001b[1;34m(*args, **kwargs)\u001b[0m\n\u001b[0;32m    128\u001b[0m log_incoming(func, \u001b[38;5;241m*\u001b[39margs, \u001b[38;5;241m*\u001b[39m\u001b[38;5;241m*\u001b[39mkwargs)\n\u001b[0;32m    129\u001b[0m \u001b[38;5;28;01mtry\u001b[39;00m:\n\u001b[1;32m--> 130\u001b[0m     value \u001b[38;5;241m=\u001b[39m func(\u001b[38;5;241m*\u001b[39margs, \u001b[38;5;241m*\u001b[39m\u001b[38;5;241m*\u001b[39mkwargs) \u001b[38;5;66;03m# Call function being logged\u001b[39;00m\n\u001b[0;32m    131\u001b[0m     \u001b[38;5;28;01mreturn\u001b[39;00m log_return(func, value)\n\u001b[0;32m    132\u001b[0m \u001b[38;5;28;01mexcept\u001b[39;00m \u001b[38;5;167;01mException\u001b[39;00m \u001b[38;5;28;01mas\u001b[39;00m e:\n",
      "File \u001b[1;32m~\\anaconda3\\Lib\\site-packages\\py4cytoscape\\commands.py:397\u001b[0m, in \u001b[0;36mcommands_post\u001b[1;34m(cmd, base_url)\u001b[0m\n\u001b[0;32m    395\u001b[0m     \u001b[38;5;28;01mreturn\u001b[39;00m res[\u001b[38;5;124m'\u001b[39m\u001b[38;5;124mdata\u001b[39m\u001b[38;5;124m'\u001b[39m]\n\u001b[0;32m    396\u001b[0m \u001b[38;5;28;01mexcept\u001b[39;00m requests\u001b[38;5;241m.\u001b[39mexceptions\u001b[38;5;241m.\u001b[39mRequestException \u001b[38;5;28;01mas\u001b[39;00m e:\n\u001b[1;32m--> 397\u001b[0m     _handle_error(e)\n",
      "File \u001b[1;32m~\\anaconda3\\Lib\\site-packages\\py4cytoscape\\commands.py:683\u001b[0m, in \u001b[0;36m_handle_error\u001b[1;34m(e, force_cy_error)\u001b[0m\n\u001b[0;32m    681\u001b[0m     \u001b[38;5;28;01melse\u001b[39;00m:\n\u001b[0;32m    682\u001b[0m         show_error(\u001b[38;5;124mf\u001b[39m\u001b[38;5;124m'\u001b[39m\u001b[38;5;124mIn \u001b[39m\u001b[38;5;132;01m{\u001b[39;00mcaller\u001b[38;5;132;01m}\u001b[39;00m\u001b[38;5;124m: \u001b[39m\u001b[38;5;132;01m{\u001b[39;00me\u001b[38;5;132;01m}\u001b[39;00m\u001b[38;5;130;01m\\n\u001b[39;00m\u001b[38;5;132;01m{\u001b[39;00mcontent\u001b[38;5;132;01m}\u001b[39;00m\u001b[38;5;124m'\u001b[39m)\n\u001b[1;32m--> 683\u001b[0m \u001b[38;5;28;01mraise\u001b[39;00m e\n",
      "\u001b[1;31mCyError\u001b[0m: In commands_post(): Task Cancelled. Could not validate Tunable inputs: Duplicated network name."
     ]
    }
   ],
   "source": [
    "## Load STRING network ##\n",
    "string_cmd_list = ['string disease query','disease=\"doid:12858\"', 'species=\"Homo sapiens\"', 'limit=5000', f'cutoff={string_confidence}'] # 2000 proteins takes quite long\n",
    "string_cmd = \" \".join(string_cmd_list)\n",
    "p4c.commands.commands_run(string_cmd)\n",
    "p4c.rename_network(f\"STRING 12858 network C{string_confidence}\")"
   ]
  },
  {
   "cell_type": "code",
   "execution_count": 17,
   "metadata": {},
   "outputs": [
    {
     "name": "stderr",
     "output_type": "stream",
     "text": [
      "In commands_get(): Failed: Cannot invoke \"org.cytoscape.model.CyColumn.getValues(java.lang.Class)\" because \"col\" is null\n"
     ]
    },
    {
     "ename": "CyError",
     "evalue": "In commands_get(): Failed: Cannot invoke \"org.cytoscape.model.CyColumn.getValues(java.lang.Class)\" because \"col\" is null",
     "output_type": "error",
     "traceback": [
      "\u001b[1;31m---------------------------------------------------------------------------\u001b[0m",
      "\u001b[1;31mHTTPError\u001b[0m                                 Traceback (most recent call last)",
      "File \u001b[1;32m~\\anaconda3\\Lib\\site-packages\\py4cytoscape\\commands.py:304\u001b[0m, in \u001b[0;36mcommands_get\u001b[1;34m(cmd_string, base_url)\u001b[0m\n\u001b[0;32m    303\u001b[0m r \u001b[38;5;241m=\u001b[39m _do_request(\u001b[38;5;124m'\u001b[39m\u001b[38;5;124mGET\u001b[39m\u001b[38;5;124m'\u001b[39m, get_url, params\u001b[38;5;241m=\u001b[39mparameters, headers\u001b[38;5;241m=\u001b[39m{\u001b[38;5;124m'\u001b[39m\u001b[38;5;124mAccept\u001b[39m\u001b[38;5;124m'\u001b[39m: \u001b[38;5;124m'\u001b[39m\u001b[38;5;124mtext/plain\u001b[39m\u001b[38;5;124m'\u001b[39m}, base_url\u001b[38;5;241m=\u001b[39mbase_url)\n\u001b[1;32m--> 304\u001b[0m r\u001b[38;5;241m.\u001b[39mraise_for_status()\n\u001b[0;32m    306\u001b[0m \u001b[38;5;66;03m# Break response into a list of lines and return it\u001b[39;00m\n",
      "File \u001b[1;32m~\\anaconda3\\Lib\\site-packages\\requests\\models.py:1021\u001b[0m, in \u001b[0;36mResponse.raise_for_status\u001b[1;34m(self)\u001b[0m\n\u001b[0;32m   1020\u001b[0m \u001b[38;5;28;01mif\u001b[39;00m http_error_msg:\n\u001b[1;32m-> 1021\u001b[0m     \u001b[38;5;28;01mraise\u001b[39;00m HTTPError(http_error_msg, response\u001b[38;5;241m=\u001b[39m\u001b[38;5;28mself\u001b[39m)\n",
      "\u001b[1;31mHTTPError\u001b[0m: 500 Server Error: Internal Server Error for url: http://127.0.0.1:1234/v1/commands/string/stringify?colDisplayName=name&column=uniprot&compoundQuery=false&includeNotMapped=false&networkNoGui=STRING+12858+network+C0.4&species=Homo+sapiens",
      "\nDuring handling of the above exception, another exception occurred:\n",
      "\u001b[1;31mCyError\u001b[0m                                   Traceback (most recent call last)",
      "Cell \u001b[1;32mIn[17], line 6\u001b[0m\n\u001b[0;32m      2\u001b[0m cmd_list_stringify_wp \u001b[38;5;241m=\u001b[39m [\u001b[38;5;124m'\u001b[39m\u001b[38;5;124mstring\u001b[39m\u001b[38;5;124m'\u001b[39m, \u001b[38;5;124m'\u001b[39m\u001b[38;5;124mstringify\u001b[39m\u001b[38;5;124m'\u001b[39m, \u001b[38;5;124m'\u001b[39m\u001b[38;5;124mcolDisplayName=\u001b[39m\u001b[38;5;124m\"\u001b[39m\u001b[38;5;124mname\u001b[39m\u001b[38;5;124m\"\u001b[39m\u001b[38;5;124m'\u001b[39m, \u001b[38;5;124m'\u001b[39m\u001b[38;5;124mcolumn=\u001b[39m\u001b[38;5;124m\"\u001b[39m\u001b[38;5;124muniprot\u001b[39m\u001b[38;5;124m\"\u001b[39m\u001b[38;5;124m'\u001b[39m,\n\u001b[0;32m      3\u001b[0m                         \u001b[38;5;124m'\u001b[39m\u001b[38;5;124mcompoundQuery=\u001b[39m\u001b[38;5;124m\"\u001b[39m\u001b[38;5;124mfalse\u001b[39m\u001b[38;5;124m\"\u001b[39m\u001b[38;5;124m'\u001b[39m, \u001b[38;5;124m'\u001b[39m\u001b[38;5;124mincludeNotMapped=\u001b[39m\u001b[38;5;124m\"\u001b[39m\u001b[38;5;124mfalse\u001b[39m\u001b[38;5;124m\"\u001b[39m\u001b[38;5;124m'\u001b[39m, \n\u001b[0;32m      4\u001b[0m                         \u001b[38;5;124m'\u001b[39m\u001b[38;5;124mnetworkNoGui=\u001b[39m\u001b[38;5;124m\"\u001b[39m\u001b[38;5;124mSTRING 12858 network C0.4\u001b[39m\u001b[38;5;124m\"\u001b[39m\u001b[38;5;124m'\u001b[39m, \u001b[38;5;124m'\u001b[39m\u001b[38;5;124mspecies=\u001b[39m\u001b[38;5;124m\"\u001b[39m\u001b[38;5;124mHomo sapiens\u001b[39m\u001b[38;5;124m\"\u001b[39m\u001b[38;5;124m'\u001b[39m]\n\u001b[0;32m      5\u001b[0m cmd_stringify_wp \u001b[38;5;241m=\u001b[39m \u001b[38;5;124m\"\u001b[39m\u001b[38;5;124m \u001b[39m\u001b[38;5;124m\"\u001b[39m\u001b[38;5;241m.\u001b[39mjoin(cmd_list_stringify_wp)\n\u001b[1;32m----> 6\u001b[0m p4c\u001b[38;5;241m.\u001b[39mcommands\u001b[38;5;241m.\u001b[39mcommands_run(cmd_stringify_wp)\n\u001b[0;32m      7\u001b[0m p4c\u001b[38;5;241m.\u001b[39mrename_network(\u001b[38;5;124m\"\u001b[39m\u001b[38;5;124mSTRING 12858 network C0.4 test\u001b[39m\u001b[38;5;124m\"\u001b[39m)\n",
      "File \u001b[1;32m~\\anaconda3\\Lib\\site-packages\\py4cytoscape\\py4cytoscape_logger.py:133\u001b[0m, in \u001b[0;36mcy_log.<locals>.wrapper_log\u001b[1;34m(*args, **kwargs)\u001b[0m\n\u001b[0;32m    131\u001b[0m     \u001b[38;5;28;01mreturn\u001b[39;00m log_return(func, value)\n\u001b[0;32m    132\u001b[0m \u001b[38;5;28;01mexcept\u001b[39;00m \u001b[38;5;167;01mException\u001b[39;00m \u001b[38;5;28;01mas\u001b[39;00m e:\n\u001b[1;32m--> 133\u001b[0m     log_exception(func, e)\n\u001b[0;32m    134\u001b[0m \u001b[38;5;28;01mfinally\u001b[39;00m:\n\u001b[0;32m    135\u001b[0m     log_finally()\n",
      "File \u001b[1;32m~\\anaconda3\\Lib\\site-packages\\py4cytoscape\\py4cytoscape_logger.py:130\u001b[0m, in \u001b[0;36mcy_log.<locals>.wrapper_log\u001b[1;34m(*args, **kwargs)\u001b[0m\n\u001b[0;32m    128\u001b[0m log_incoming(func, \u001b[38;5;241m*\u001b[39margs, \u001b[38;5;241m*\u001b[39m\u001b[38;5;241m*\u001b[39mkwargs)\n\u001b[0;32m    129\u001b[0m \u001b[38;5;28;01mtry\u001b[39;00m:\n\u001b[1;32m--> 130\u001b[0m     value \u001b[38;5;241m=\u001b[39m func(\u001b[38;5;241m*\u001b[39margs, \u001b[38;5;241m*\u001b[39m\u001b[38;5;241m*\u001b[39mkwargs) \u001b[38;5;66;03m# Call function being logged\u001b[39;00m\n\u001b[0;32m    131\u001b[0m     \u001b[38;5;28;01mreturn\u001b[39;00m log_return(func, value)\n\u001b[0;32m    132\u001b[0m \u001b[38;5;28;01mexcept\u001b[39;00m \u001b[38;5;167;01mException\u001b[39;00m \u001b[38;5;28;01mas\u001b[39;00m e:\n",
      "File \u001b[1;32m~\\anaconda3\\Lib\\site-packages\\py4cytoscape\\commands.py:424\u001b[0m, in \u001b[0;36mcommands_run\u001b[1;34m(cmd_string, base_url)\u001b[0m\n\u001b[0;32m    400\u001b[0m \u001b[38;5;129m@cy_log\u001b[39m\n\u001b[0;32m    401\u001b[0m \u001b[38;5;28;01mdef\u001b[39;00m \u001b[38;5;21mcommands_run\u001b[39m(cmd_string, base_url\u001b[38;5;241m=\u001b[39mDEFAULT_BASE_URL):\n\u001b[0;32m    402\u001b[0m \u001b[38;5;250m    \u001b[39m\u001b[38;5;124;03m\"\"\"Run a Command.\u001b[39;00m\n\u001b[0;32m    403\u001b[0m \n\u001b[0;32m    404\u001b[0m \u001b[38;5;124;03m    Using the same syntax as Cytoscape's Command Line Dialog, this function converts a command string into a CyREST\u001b[39;00m\n\u001b[1;32m   (...)\u001b[0m\n\u001b[0;32m    422\u001b[0m \u001b[38;5;124;03m        []\u001b[39;00m\n\u001b[0;32m    423\u001b[0m \u001b[38;5;124;03m    \"\"\"\u001b[39;00m\n\u001b[1;32m--> 424\u001b[0m     \u001b[38;5;28;01mreturn\u001b[39;00m commands_get(cmd_string, base_url\u001b[38;5;241m=\u001b[39mbase_url)\n",
      "File \u001b[1;32m~\\anaconda3\\Lib\\site-packages\\py4cytoscape\\py4cytoscape_logger.py:133\u001b[0m, in \u001b[0;36mcy_log.<locals>.wrapper_log\u001b[1;34m(*args, **kwargs)\u001b[0m\n\u001b[0;32m    131\u001b[0m     \u001b[38;5;28;01mreturn\u001b[39;00m log_return(func, value)\n\u001b[0;32m    132\u001b[0m \u001b[38;5;28;01mexcept\u001b[39;00m \u001b[38;5;167;01mException\u001b[39;00m \u001b[38;5;28;01mas\u001b[39;00m e:\n\u001b[1;32m--> 133\u001b[0m     log_exception(func, e)\n\u001b[0;32m    134\u001b[0m \u001b[38;5;28;01mfinally\u001b[39;00m:\n\u001b[0;32m    135\u001b[0m     log_finally()\n",
      "File \u001b[1;32m~\\anaconda3\\Lib\\site-packages\\py4cytoscape\\py4cytoscape_logger.py:130\u001b[0m, in \u001b[0;36mcy_log.<locals>.wrapper_log\u001b[1;34m(*args, **kwargs)\u001b[0m\n\u001b[0;32m    128\u001b[0m log_incoming(func, \u001b[38;5;241m*\u001b[39margs, \u001b[38;5;241m*\u001b[39m\u001b[38;5;241m*\u001b[39mkwargs)\n\u001b[0;32m    129\u001b[0m \u001b[38;5;28;01mtry\u001b[39;00m:\n\u001b[1;32m--> 130\u001b[0m     value \u001b[38;5;241m=\u001b[39m func(\u001b[38;5;241m*\u001b[39margs, \u001b[38;5;241m*\u001b[39m\u001b[38;5;241m*\u001b[39mkwargs) \u001b[38;5;66;03m# Call function being logged\u001b[39;00m\n\u001b[0;32m    131\u001b[0m     \u001b[38;5;28;01mreturn\u001b[39;00m log_return(func, value)\n\u001b[0;32m    132\u001b[0m \u001b[38;5;28;01mexcept\u001b[39;00m \u001b[38;5;167;01mException\u001b[39;00m \u001b[38;5;28;01mas\u001b[39;00m e:\n",
      "File \u001b[1;32m~\\anaconda3\\Lib\\site-packages\\py4cytoscape\\commands.py:313\u001b[0m, in \u001b[0;36mcommands_get\u001b[1;34m(cmd_string, base_url)\u001b[0m\n\u001b[0;32m    311\u001b[0m     \u001b[38;5;28;01mreturn\u001b[39;00m res_list\n\u001b[0;32m    312\u001b[0m \u001b[38;5;28;01mexcept\u001b[39;00m requests\u001b[38;5;241m.\u001b[39mexceptions\u001b[38;5;241m.\u001b[39mRequestException \u001b[38;5;28;01mas\u001b[39;00m e:\n\u001b[1;32m--> 313\u001b[0m     _handle_error(e, force_cy_error\u001b[38;5;241m=\u001b[39m\u001b[38;5;28;01mTrue\u001b[39;00m)\n",
      "File \u001b[1;32m~\\anaconda3\\Lib\\site-packages\\py4cytoscape\\commands.py:683\u001b[0m, in \u001b[0;36m_handle_error\u001b[1;34m(e, force_cy_error)\u001b[0m\n\u001b[0;32m    681\u001b[0m     \u001b[38;5;28;01melse\u001b[39;00m:\n\u001b[0;32m    682\u001b[0m         show_error(\u001b[38;5;124mf\u001b[39m\u001b[38;5;124m'\u001b[39m\u001b[38;5;124mIn \u001b[39m\u001b[38;5;132;01m{\u001b[39;00mcaller\u001b[38;5;132;01m}\u001b[39;00m\u001b[38;5;124m: \u001b[39m\u001b[38;5;132;01m{\u001b[39;00me\u001b[38;5;132;01m}\u001b[39;00m\u001b[38;5;130;01m\\n\u001b[39;00m\u001b[38;5;132;01m{\u001b[39;00mcontent\u001b[38;5;132;01m}\u001b[39;00m\u001b[38;5;124m'\u001b[39m)\n\u001b[1;32m--> 683\u001b[0m \u001b[38;5;28;01mraise\u001b[39;00m e\n",
      "\u001b[1;31mCyError\u001b[0m: In commands_get(): Failed: Cannot invoke \"org.cytoscape.model.CyColumn.getValues(java.lang.Class)\" because \"col\" is null"
     ]
    }
   ],
   "source": [
    "## Create a Stringified version of Wikipathways network ##\n",
    "cmd_list_stringify_wp = ['string', 'stringify', 'colDisplayName=\"name\"', 'column=\"uniprot\"',\n",
    "                        'compoundQuery=\"false\"', 'includeNotMapped=\"false\"', \n",
    "                        'networkNoGui=\"STRING 12858 network C0.4\"', 'species=\"Homo sapiens\"']\n",
    "cmd_stringify_wp = \" \".join(cmd_list_stringify_wp)\n",
    "p4c.commands.commands_run(cmd_stringify_wp)\n",
    "p4c.rename_network(\"STRING 12858 network C0.4 test\")"
   ]
  },
  {
   "cell_type": "code",
   "execution_count": 14,
   "metadata": {},
   "outputs": [
    {
     "name": "stdout",
     "output_type": "stream",
     "text": [
      "['KEGG hsa05016 network stringified', 'Wikipathways WP3853 network stringified', 'Wikipathways WP3853 network_1', 'Wikipathways WP3853 network uniprot', 'KEGG hsa05016 network', 'STRING 12858 network C0.4']\n",
      "128 15360 21598\n"
     ]
    }
   ],
   "source": [
    "## Check whether networks are imported and store suids ##\n",
    "network_names = p4c.get_network_list()\n",
    "kegg_suid = p4c.get_network_suid(\"KEGG hsa05016 network stringified\")\n",
    "wiki_suid = p4c.get_network_suid(\"Wikipathways WP3853 network stringified\")\n",
    "string_suid = p4c.get_network_suid(f\"STRING 12858 network C{string_confidence}\")\n",
    "\n",
    "print(network_names)\n",
    "print(kegg_suid, wiki_suid, string_suid)"
   ]
  },
  {
   "cell_type": "markdown",
   "metadata": {},
   "source": [
    "## Add database columns to tables\n",
    "This part is so that there is an extra column in every node table that indicates the database where the data is from. This way, in the merged network, it will be easier to find where the overlap is between the databases."
   ]
  },
  {
   "cell_type": "code",
   "execution_count": 15,
   "metadata": {},
   "outputs": [],
   "source": [
    "## Create dataframe with new column that indicates which database the data originates from ##\n",
    "kegg_nodes = p4c.get_all_nodes(kegg_suid)\n",
    "kegg_label_df = pd.DataFrame(data=kegg_nodes, columns=[\"shared name\"])\n",
    "kegg_label_df[\"kegg_db\"] = 1 # Column value will be 1 for all data in kegg network\n",
    "\n",
    "wiki_nodes = p4c.get_all_nodes(wiki_suid)\n",
    "wiki_label_df = pd.DataFrame(data=wiki_nodes, columns=[\"shared name\"])\n",
    "wiki_label_df[\"wiki_db\"] = 1 # Column value will be 1 for all data in wikipathways network\n",
    "\n",
    "string_04_nodes = p4c.get_all_nodes(string_suid)\n",
    "string_04_label_df = pd.DataFrame(data=string_04_nodes, columns=[\"shared name\"])\n",
    "string_04_label_df[\"string_db\"] = 1 # Column value will be 1 for all data in string network"
   ]
  },
  {
   "cell_type": "code",
   "execution_count": 16,
   "metadata": {},
   "outputs": [
    {
     "data": {
      "text/plain": [
       "''"
      ]
     },
     "execution_count": 16,
     "metadata": {},
     "output_type": "execute_result"
    }
   ],
   "source": [
    "## Merge dataframes with tables in networks ##\n",
    "p4c.set_current_network(kegg_suid)\n",
    "p4c.load_table_data(kegg_label_df, data_key_column=\"shared name\", network=kegg_suid)\n",
    "p4c.delete_table_column(\"row.names\") \n",
    "\n",
    "p4c.set_current_network(wiki_suid)\n",
    "p4c.load_table_data(wiki_label_df, data_key_column=\"shared name\", network=wiki_suid)\n",
    "p4c.delete_table_column(\"row.names\")\n",
    "\n",
    "p4c.set_current_network(string_suid)\n",
    "p4c.load_table_data(string_04_label_df, data_key_column=\"shared name\", network=string_suid)\n",
    "p4c.delete_table_column(\"row.names\")"
   ]
  },
  {
   "cell_type": "markdown",
   "metadata": {},
   "source": [
    "## Remove rows without canonical name\n",
    "To ensure that the merge will not give conflicting results because some of the column values are empty, all rows that do not have a Uniprot identifier (canonical name) will be removed."
   ]
  },
  {
   "cell_type": "code",
   "execution_count": 11,
   "metadata": {},
   "outputs": [
    {
     "name": "stderr",
     "output_type": "stream",
     "text": [
      "In create_column_filter(): Column \"stringdb::canonical name\" does not exist in the \"node\" table\n"
     ]
    },
    {
     "ename": "CyError",
     "evalue": "In create_column_filter(): Column \"stringdb::canonical name\" does not exist in the \"node\" table",
     "output_type": "error",
     "traceback": [
      "\u001b[1;31m---------------------------------------------------------------------------\u001b[0m",
      "\u001b[1;31mCyError\u001b[0m                                   Traceback (most recent call last)",
      "Cell \u001b[1;32mIn[11], line 2\u001b[0m\n\u001b[0;32m      1\u001b[0m \u001b[38;5;66;03m## Create filter for entries that don't have a stringdb canonical name (uniprot ID). Delete selected rows in each network. ##\u001b[39;00m\n\u001b[1;32m----> 2\u001b[0m p4c\u001b[38;5;241m.\u001b[39mcreate_column_filter(filter_name\u001b[38;5;241m=\u001b[39m\u001b[38;5;124m\"\u001b[39m\u001b[38;5;124mColumns without canonical name\u001b[39m\u001b[38;5;124m\"\u001b[39m, \n\u001b[0;32m      3\u001b[0m                          column\u001b[38;5;241m=\u001b[39m\u001b[38;5;124m\"\u001b[39m\u001b[38;5;124mstringdb::canonical name\u001b[39m\u001b[38;5;124m\"\u001b[39m, \n\u001b[0;32m      4\u001b[0m                          criterion\u001b[38;5;241m=\u001b[39m\u001b[38;5;124m\"\u001b[39m\u001b[38;5;124m\"\u001b[39m, predicate\u001b[38;5;241m=\u001b[39m\u001b[38;5;124m\"\u001b[39m\u001b[38;5;124mDOES_NOT_CONTAIN\u001b[39m\u001b[38;5;124m\"\u001b[39m) \n\u001b[0;32m      6\u001b[0m \u001b[38;5;66;03m# Apply filter and delete nodes for Wikipathways\u001b[39;00m\n\u001b[0;32m      7\u001b[0m p4c\u001b[38;5;241m.\u001b[39mapply_filter(\u001b[38;5;124m\"\u001b[39m\u001b[38;5;124mColumns without canonical name\u001b[39m\u001b[38;5;124m\"\u001b[39m, network\u001b[38;5;241m=\u001b[39mkegg_suid)\n",
      "File \u001b[1;32m~\\anaconda3\\Lib\\site-packages\\py4cytoscape\\py4cytoscape_logger.py:133\u001b[0m, in \u001b[0;36mcy_log.<locals>.wrapper_log\u001b[1;34m(*args, **kwargs)\u001b[0m\n\u001b[0;32m    131\u001b[0m     \u001b[38;5;28;01mreturn\u001b[39;00m log_return(func, value)\n\u001b[0;32m    132\u001b[0m \u001b[38;5;28;01mexcept\u001b[39;00m \u001b[38;5;167;01mException\u001b[39;00m \u001b[38;5;28;01mas\u001b[39;00m e:\n\u001b[1;32m--> 133\u001b[0m     log_exception(func, e)\n\u001b[0;32m    134\u001b[0m \u001b[38;5;28;01mfinally\u001b[39;00m:\n\u001b[0;32m    135\u001b[0m     log_finally()\n",
      "File \u001b[1;32m~\\anaconda3\\Lib\\site-packages\\py4cytoscape\\py4cytoscape_logger.py:130\u001b[0m, in \u001b[0;36mcy_log.<locals>.wrapper_log\u001b[1;34m(*args, **kwargs)\u001b[0m\n\u001b[0;32m    128\u001b[0m log_incoming(func, \u001b[38;5;241m*\u001b[39margs, \u001b[38;5;241m*\u001b[39m\u001b[38;5;241m*\u001b[39mkwargs)\n\u001b[0;32m    129\u001b[0m \u001b[38;5;28;01mtry\u001b[39;00m:\n\u001b[1;32m--> 130\u001b[0m     value \u001b[38;5;241m=\u001b[39m func(\u001b[38;5;241m*\u001b[39margs, \u001b[38;5;241m*\u001b[39m\u001b[38;5;241m*\u001b[39mkwargs) \u001b[38;5;66;03m# Call function being logged\u001b[39;00m\n\u001b[0;32m    131\u001b[0m     \u001b[38;5;28;01mreturn\u001b[39;00m log_return(func, value)\n\u001b[0;32m    132\u001b[0m \u001b[38;5;28;01mexcept\u001b[39;00m \u001b[38;5;167;01mException\u001b[39;00m \u001b[38;5;28;01mas\u001b[39;00m e:\n",
      "File \u001b[1;32m~\\anaconda3\\Lib\\site-packages\\py4cytoscape\\filters.py:146\u001b[0m, in \u001b[0;36mcreate_column_filter\u001b[1;34m(filter_name, column, criterion, predicate, caseSensitive, anyMatch, type, hide, network, base_url, apply)\u001b[0m\n\u001b[0;32m    143\u001b[0m networks\u001b[38;5;241m.\u001b[39mset_current_network(network, base_url\u001b[38;5;241m=\u001b[39mbase_url)\n\u001b[0;32m    145\u001b[0m \u001b[38;5;28;01mif\u001b[39;00m column \u001b[38;5;129;01mnot\u001b[39;00m \u001b[38;5;129;01min\u001b[39;00m tables\u001b[38;5;241m.\u001b[39mget_table_column_names(\u001b[38;5;28mtype\u001b[39m[:\u001b[38;5;241m4\u001b[39m], base_url\u001b[38;5;241m=\u001b[39mbase_url):\n\u001b[1;32m--> 146\u001b[0m     \u001b[38;5;28;01mraise\u001b[39;00m CyError(\u001b[38;5;124m'\u001b[39m\u001b[38;5;124mColumn \u001b[39m\u001b[38;5;124m\"\u001b[39m\u001b[38;5;132;01m%s\u001b[39;00m\u001b[38;5;124m\"\u001b[39m\u001b[38;5;124m does not exist in the \u001b[39m\u001b[38;5;124m\"\u001b[39m\u001b[38;5;132;01m%s\u001b[39;00m\u001b[38;5;124m\"\u001b[39m\u001b[38;5;124m table\u001b[39m\u001b[38;5;124m'\u001b[39m \u001b[38;5;241m%\u001b[39m (column, \u001b[38;5;28mtype\u001b[39m[:\u001b[38;5;241m4\u001b[39m]))\n\u001b[0;32m    148\u001b[0m \u001b[38;5;28;01mif\u001b[39;00m predicate \u001b[38;5;241m==\u001b[39m \u001b[38;5;124m\"\u001b[39m\u001b[38;5;124mREGEX\u001b[39m\u001b[38;5;124m\"\u001b[39m \u001b[38;5;129;01mand\u001b[39;00m check_supported_versions(cytoscape\u001b[38;5;241m=\u001b[39m\u001b[38;5;124m'\u001b[39m\u001b[38;5;124m3.9\u001b[39m\u001b[38;5;124m'\u001b[39m):\n\u001b[0;32m    149\u001b[0m     show_error(\u001b[38;5;124m'\u001b[39m\u001b[38;5;124mWarning -- Cytoscape version pre-3.9 in use ... REGEX filter may hang forever\u001b[39m\u001b[38;5;124m'\u001b[39m)\n",
      "\u001b[1;31mCyError\u001b[0m: In create_column_filter(): Column \"stringdb::canonical name\" does not exist in the \"node\" table"
     ]
    }
   ],
   "source": [
    "## Create filter for entries that don't have a stringdb canonical name (uniprot ID). Delete selected rows in each network. ##\n",
    "p4c.create_column_filter(filter_name=\"Columns without canonical name\", \n",
    "                         column=\"stringdb::canonical name\", \n",
    "                         criterion=\"\", predicate=\"DOES_NOT_CONTAIN\") \n",
    "\n",
    "# Apply filter and delete nodes for Wikipathways\n",
    "p4c.apply_filter(\"Columns without canonical name\", network=kegg_suid)\n",
    "p4c.delete_selected_nodes(kegg_suid)\n",
    "\n",
    "# Apply filter and delete nodes for Wikipathways\n",
    "p4c.apply_filter(\"Columns without canonical name\", network=wiki_suid)\n",
    "p4c.delete_selected_nodes(wiki_suid)\n",
    "\n",
    "# Apply filter and delete nodes for STRING networks\n",
    "p4c.apply_filter(\"Columns without canonical name\", network=string_suid)\n",
    "p4c.delete_selected_nodes(string_suid)"
   ]
  },
  {
   "cell_type": "markdown",
   "metadata": {},
   "source": [
    "# Network merging"
   ]
  },
  {
   "cell_type": "code",
   "execution_count": 12,
   "metadata": {},
   "outputs": [],
   "source": [
    "## Merge the three networks ##\n",
    "network_names = ['KEGG hsa05016 network stringified', f'STRING 12858 network C{string_confidence}', 'Wikipathways WP3853 network stringified']\n",
    "node_keys_list = [\"stringdb::canonical name\", \"stringdb::canonical name\", \"stringdb::canonical name\"]\n",
    "merged_network_name = f\"Merged STRING KEGG Wiki network cutoff {string_confidence}\"\n",
    "\n",
    "## This try except structure is to catch a type error in the py4cytoscape library\n",
    "try: \n",
    "    p4c.merge_networks(sources=network_names, \n",
    "                       title=merged_network_name, \n",
    "                       node_keys=node_keys_list)\n",
    "except TypeError:\n",
    "    print(p4c.get_network_list())\n",
    "\n",
    "merged_network_suid = p4c.get_network_suid(merged_network_name)"
   ]
  },
  {
   "cell_type": "markdown",
   "metadata": {},
   "source": [
    "## Filtering database columns\n",
    "To check the overlap between the databases, a filter will be applied."
   ]
  },
  {
   "cell_type": "code",
   "execution_count": 64,
   "metadata": {},
   "outputs": [
    {
     "name": "stdout",
     "output_type": "stream",
     "text": [
      "database\n",
      "kegg                298\n",
      "kegg;wiki             2\n",
      "kegg;wiki;string      1\n",
      "string                1\n",
      "wiki                 11\n",
      "Name: database, dtype: int64\n"
     ]
    },
    {
     "data": {
      "text/plain": [
       "''"
      ]
     },
     "execution_count": 64,
     "metadata": {},
     "output_type": "execute_result"
    }
   ],
   "source": [
    "## Create dataframe with the column indicators ##\n",
    "database_filter_df = p4c.get_table_columns('node', columns=[\"name\", \"kegg_db\", \"wiki_db\", \"string_db\"], network=merged_network_suid)\n",
    "database_filter_df[\"database\"] = \"\" # Create new column with empty string values\n",
    "\n",
    "## Give the database column a value based on which databases the nodes are from\n",
    "database_filter_df.loc[(database_filter_df['kegg_db'] == 1) & (database_filter_df[\"string_db\"] == 1) &\n",
    "                    (database_filter_df[\"wiki_db\"] == 1), \"database\"] = \"kegg;wiki;string\"\n",
    "database_filter_df.loc[(database_filter_df['kegg_db'] == 1) & (database_filter_df[\"string_db\"] == 1) &\n",
    "                    (database_filter_df[\"wiki_db\"] != 1), \"database\"] = \"kegg;string\"\n",
    "database_filter_df.loc[(database_filter_df['kegg_db'] == 1) & (database_filter_df[\"string_db\"] != 1) &\n",
    "                    (database_filter_df[\"wiki_db\"] == 1), \"database\"] = \"kegg;wiki\"\n",
    "database_filter_df.loc[(database_filter_df['kegg_db'] != 1) & (database_filter_df[\"string_db\"] == 1) &\n",
    "                    (database_filter_df[\"wiki_db\"] == 1), \"database\"] = \"wiki;string\"\n",
    "database_filter_df.loc[(database_filter_df['kegg_db'] == 1) & (database_filter_df[\"string_db\"] != 1) &\n",
    "                    (database_filter_df[\"wiki_db\"] != 1), \"database\"] = \"kegg\"\n",
    "database_filter_df.loc[((database_filter_df['kegg_db'] != 1) & (database_filter_df[\"string_db\"] != 1)) &\n",
    "                    (database_filter_df[\"wiki_db\"] == 1), \"database\"] = \"wiki\"\n",
    "database_filter_df.loc[(database_filter_df['kegg_db'] != 1) & (database_filter_df[\"string_db\"] == 1) &\n",
    "                    (database_filter_df[\"wiki_db\"] != 1), \"database\"] = \"string\"\n",
    "\n",
    "print(database_filter_df.groupby(\"database\")[\"database\"].count()) # Give the distribution of nodes in the merged network\n",
    "\n",
    "p4c.set_current_network(merged_network_suid)\n",
    "p4c.load_table_data(database_filter_df, data_key_column=\"name\") # Add the database filter column to the network\n",
    "p4c.delete_table_column(\"row.names\")"
   ]
  },
  {
   "cell_type": "markdown",
   "metadata": {},
   "source": [
    "## Network expansion\n",
    "Expand the merged network with another 2000 nodes"
   ]
  },
  {
   "cell_type": "code",
   "execution_count": 65,
   "metadata": {},
   "outputs": [],
   "source": [
    "## Expand Merged STRING_0.4 KEGG Wiki network ##\n",
    "p4c.clone_network(merged_network_suid) # Creates a clone of the merged network, with \"_1\" added to the name\n",
    "expansion_cmd_list = ['string expand', 'additionalNodes=2000', f'network=\"{merged_network_name}_1\"', \n",
    "                      'nodeTypes=\"Homo sapiens\"', 'selectivityAlpha=0.5']\n",
    "expansion_cmd = \" \".join(expansion_cmd_list)\n",
    "p4c.commands.commands_run(expansion_cmd)\n",
    "p4c.rename_network(f\"{merged_network_name} expanded\")\n",
    "merged_network_expanded_suid = p4c.get_network_suid(f\"{merged_network_name} expanded\")"
   ]
  },
  {
   "cell_type": "markdown",
   "metadata": {},
   "source": [
    "## Visualization\n",
    "More additional visualization can be done in Cytoscape itself, this only visualizes the database distribution and the nervous tissue confidence."
   ]
  },
  {
   "cell_type": "code",
   "execution_count": 66,
   "metadata": {},
   "outputs": [
    {
     "data": {
      "text/plain": [
       "''"
      ]
     },
     "execution_count": 66,
     "metadata": {},
     "output_type": "execute_result"
    }
   ],
   "source": [
    "## Set color of nodes according to a gradient for the confidence that the protein is active in the nervous system\n",
    "if \"ADCN style\" not in p4c.get_visual_style_names():\n",
    "    p4c.create_visual_style(\"ADCN style\")\n",
    "\n",
    "p4c.set_current_network(merged_network_expanded_suid)\n",
    "p4c.set_node_color_mapping(**p4c.gen_node_color_map('tissue::nervous system', p4c.palette_color_brewer_s_YlOrBr(), style_name=\"ADCN style\"))"
   ]
  },
  {
   "cell_type": "code",
   "execution_count": 67,
   "metadata": {},
   "outputs": [
    {
     "data": {
      "text/plain": [
       "''"
      ]
     },
     "execution_count": 67,
     "metadata": {},
     "output_type": "execute_result"
    }
   ],
   "source": [
    "## Set shape of nodes according to database values\n",
    "database_values = [\"kegg\", \"string\", \"wiki\", \"kegg;string\", \"kegg;wiki\", \"wiki;string\", \"kegg;wiki;string\"]\n",
    "mapping_shapes = [\"HEXAGON\", \"ROUND_RECTANGLE\", \"VEE\", \"PARALLELOGRAM\", \"DIAMOND\", \"ELLIPSE\", \"TRIANGLE\"]\n",
    "\n",
    "p4c.set_node_shape_mapping(table_column=\"database\", table_column_values=database_values,\n",
    "                            shapes=mapping_shapes, default_shape=\"RECTANGLE\", style_name=\"ADCN style\")"
   ]
  },
  {
   "cell_type": "code",
   "execution_count": 68,
   "metadata": {},
   "outputs": [
    {
     "data": {
      "text/plain": [
       "{'message': 'Visual Style applied.'}"
      ]
     },
     "execution_count": 68,
     "metadata": {},
     "output_type": "execute_result"
    }
   ],
   "source": [
    "## Set ADCN style for the two networks\n",
    "p4c.set_visual_style(\"ADCN style\", merged_network_suid)\n",
    "p4c.set_visual_style(\"ADCN style\", merged_network_expanded_suid)"
   ]
  },
  {
   "cell_type": "markdown",
   "metadata": {},
   "source": [
    "## Analyse the networks\n",
    "Analyse the normal and expanded networks with the analysis software from Cytoscape"
   ]
  },
  {
   "cell_type": "code",
   "execution_count": 69,
   "metadata": {},
   "outputs": [
    {
     "name": "stdout",
     "output_type": "stream",
     "text": [
      "                                                                0\n",
      "networkTitle    Merged STRING KEGG Wiki network cutoff 0.4 (un...\n",
      "nodeCount                                                     313\n",
      "edgeCount                                                    7266\n",
      "avNeighbors                                     46.34504792332268\n",
      "diameter                                                        4\n",
      "radius                                                          2\n",
      "avSpl                                           2.216965675432129\n",
      "cc                                             0.7474970609227527\n",
      "density                                       0.14854182026705987\n",
      "heterogeneity                                  0.7452214164559688\n",
      "centralization                                0.24726894220463352\n",
      "ncc                                                             1\n",
      "time                                                         0.19\n"
     ]
    }
   ],
   "source": [
    "## Analyse network\n",
    "p4c.set_current_network(merged_network_suid)\n",
    "analysis = p4c.analyze_network()\n",
    "analysis_df = pd.DataFrame.from_dict(analysis, 'index')\n",
    "print(analysis_df)"
   ]
  },
  {
   "cell_type": "code",
   "execution_count": 70,
   "metadata": {},
   "outputs": [
    {
     "name": "stdout",
     "output_type": "stream",
     "text": [
      "                                                                0\n",
      "networkTitle    Merged STRING KEGG Wiki network cutoff 0.4 exp...\n",
      "nodeCount                                                    2313\n",
      "edgeCount                                                  148866\n",
      "avNeighbors                                    128.70990056204064\n",
      "diameter                                                        4\n",
      "radius                                                          3\n",
      "avSpl                                          2.2440355176174385\n",
      "cc                                            0.49465858071111674\n",
      "density                                        0.0556703722154155\n",
      "heterogeneity                                  0.7629084926933136\n",
      "centralization                                 0.3092163775174845\n",
      "ncc                                                             1\n",
      "time                                                        8.755\n"
     ]
    }
   ],
   "source": [
    "## Analyse expanded network\n",
    "p4c.set_current_network(merged_network_expanded_suid)\n",
    "analysis_expanded = p4c.analyze_network()\n",
    "analysis_expanded_df = pd.DataFrame.from_dict(analysis_expanded, 'index')\n",
    "print(analysis_expanded_df)"
   ]
  }
 ],
 "metadata": {
  "kernelspec": {
   "display_name": "Python 3 (ipykernel)",
   "language": "python",
   "name": "python3"
  },
  "language_info": {
   "codemirror_mode": {
    "name": "ipython",
    "version": 3
   },
   "file_extension": ".py",
   "mimetype": "text/x-python",
   "name": "python",
   "nbconvert_exporter": "python",
   "pygments_lexer": "ipython3",
   "version": "3.11.5"
  }
 },
 "nbformat": 4,
 "nbformat_minor": 2
}
