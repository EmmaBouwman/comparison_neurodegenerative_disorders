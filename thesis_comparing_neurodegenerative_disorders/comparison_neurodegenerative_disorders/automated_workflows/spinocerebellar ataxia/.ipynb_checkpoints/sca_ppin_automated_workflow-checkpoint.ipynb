{
 "cells": [
  {
   "cell_type": "markdown",
   "metadata": {},
   "source": [
    "# Alzheimer consensus network automated workflow\n",
    "This notebook gives a workflow for creating a consensus protein-protein interaction network using the library *py4cytoscape*. This uses the *CyREST* framework to make contact with Cytoscape where the commands will be executed. So, the **Cytoscape app needs to be opened in the browser** when executing this file. Also, pay attention to the amount of proteins imported from STRING, there are 2000 proteins imported and an additional 2000 for the expansion. Running the whole workflow can then take up to thirty minutes."
   ]
  },
  {
   "cell_type": "markdown",
   "metadata": {},
   "source": [
    "## Setup"
   ]
  },
  {
   "cell_type": "code",
   "execution_count": 1,
   "metadata": {},
   "outputs": [
    {
     "name": "stdout",
     "output_type": "stream",
     "text": [
      "Requirement already satisfied: py4cytoscape in c:\\users\\emmab\\anaconda3\\lib\\site-packages (1.9.0)\n",
      "Requirement already satisfied: pandas in c:\\users\\emmab\\anaconda3\\lib\\site-packages (from py4cytoscape) (2.0.3)\n",
      "Requirement already satisfied: networkx in c:\\users\\emmab\\anaconda3\\lib\\site-packages (from py4cytoscape) (3.1)\n",
      "Requirement already satisfied: requests in c:\\users\\emmab\\anaconda3\\lib\\site-packages (from py4cytoscape) (2.31.0)\n",
      "Requirement already satisfied: igraph in c:\\users\\emmab\\anaconda3\\lib\\site-packages (from py4cytoscape) (0.11.4)\n",
      "Requirement already satisfied: colorbrewer in c:\\users\\emmab\\anaconda3\\lib\\site-packages (from py4cytoscape) (0.2.0)\n",
      "Requirement already satisfied: chardet in c:\\users\\emmab\\anaconda3\\lib\\site-packages (from py4cytoscape) (4.0.0)\n",
      "Requirement already satisfied: decorator in c:\\users\\emmab\\anaconda3\\lib\\site-packages (from py4cytoscape) (5.1.1)\n",
      "Requirement already satisfied: backoff in c:\\users\\emmab\\anaconda3\\lib\\site-packages (from py4cytoscape) (2.2.1)\n",
      "Requirement already satisfied: colour in c:\\users\\emmab\\anaconda3\\lib\\site-packages (from py4cytoscape) (0.1.5)\n",
      "Requirement already satisfied: six in c:\\users\\emmab\\anaconda3\\lib\\site-packages (from colorbrewer->py4cytoscape) (1.16.0)\n",
      "Requirement already satisfied: texttable>=1.6.2 in c:\\users\\emmab\\anaconda3\\lib\\site-packages (from igraph->py4cytoscape) (1.7.0)\n",
      "Requirement already satisfied: python-dateutil>=2.8.2 in c:\\users\\emmab\\anaconda3\\lib\\site-packages (from pandas->py4cytoscape) (2.8.2)\n",
      "Requirement already satisfied: pytz>=2020.1 in c:\\users\\emmab\\anaconda3\\lib\\site-packages (from pandas->py4cytoscape) (2023.3.post1)\n",
      "Requirement already satisfied: tzdata>=2022.1 in c:\\users\\emmab\\anaconda3\\lib\\site-packages (from pandas->py4cytoscape) (2023.3)\n",
      "Requirement already satisfied: numpy>=1.21.0 in c:\\users\\emmab\\anaconda3\\lib\\site-packages (from pandas->py4cytoscape) (1.24.3)\n",
      "Requirement already satisfied: charset-normalizer<4,>=2 in c:\\users\\emmab\\anaconda3\\lib\\site-packages (from requests->py4cytoscape) (2.0.4)\n",
      "Requirement already satisfied: idna<4,>=2.5 in c:\\users\\emmab\\anaconda3\\lib\\site-packages (from requests->py4cytoscape) (3.4)\n",
      "Requirement already satisfied: urllib3<3,>=1.21.1 in c:\\users\\emmab\\anaconda3\\lib\\site-packages (from requests->py4cytoscape) (1.26.16)\n",
      "Requirement already satisfied: certifi>=2017.4.17 in c:\\users\\emmab\\anaconda3\\lib\\site-packages (from requests->py4cytoscape) (2024.2.2)\n",
      "Note: you may need to restart the kernel to use updated packages.\n"
     ]
    }
   ],
   "source": [
    "pip install py4cytoscape"
   ]
  },
  {
   "cell_type": "code",
   "execution_count": 2,
   "metadata": {},
   "outputs": [],
   "source": [
    "## Imports\n",
    "import py4cytoscape as p4c\n",
    "import pandas as pd"
   ]
  },
  {
   "cell_type": "code",
   "execution_count": 3,
   "metadata": {
    "scrolled": true
   },
   "outputs": [
    {
     "data": {
      "text/plain": [
       "{'apiVersion': 'v1',\n",
       " 'cytoscapeVersion': '3.10.1',\n",
       " 'automationAPIVersion': '1.9.0',\n",
       " 'py4cytoscapeVersion': '1.9.0'}"
      ]
     },
     "execution_count": 3,
     "metadata": {},
     "output_type": "execute_result"
    }
   ],
   "source": [
    "## Execute to check whether contact with the Cytoscape app via CyREST works \n",
    "p4c.cytoscape_version_info()"
   ]
  },
  {
   "cell_type": "markdown",
   "metadata": {},
   "source": [
    "## Load networks\n",
    "Three types of networks will be loaded, firstly from KEGG, then Wikipathways and lastly STRING. It is important to indicate the desired STRING cutoff score in the beginning, which will influence the number of edges in the network. "
   ]
  },
  {
   "cell_type": "markdown",
   "metadata": {},
   "source": [
    "### Load KEGG"
   ]
  },
  {
   "cell_type": "code",
   "execution_count": 4,
   "metadata": {},
   "outputs": [],
   "source": [
    "## Set string confidence in a variable with 0 > confidence >= 1.0 ##\n",
    "string_confidence = 0.4"
   ]
  },
  {
   "cell_type": "code",
   "execution_count": 5,
   "metadata": {},
   "outputs": [
    {
     "data": {
      "text/plain": [
       "{'network': 25559, 'title': 'KEGG hsa05017 network'}"
      ]
     },
     "execution_count": 5,
     "metadata": {},
     "output_type": "execute_result"
    }
   ],
   "source": [
    "## Load KEGG network ##\n",
    "p4c.networks.import_network_from_file(\"hsa05017.gml\")\n",
    "p4c.layout_network('force-directed', network=\"current\") # the gml file does not contain any layout information so layout has to be set\n",
    "p4c.rename_network(\"KEGG hsa05017 network\")"
   ]
  },
  {
   "cell_type": "code",
   "execution_count": 6,
   "metadata": {},
   "outputs": [
    {
     "data": {
      "text/plain": [
       "{'network': 29758, 'title': 'KEGG hsa05017 network stringified'}"
      ]
     },
     "execution_count": 6,
     "metadata": {},
     "output_type": "execute_result"
    }
   ],
   "source": [
    "## Create a Stringified version of KEGG network ##\n",
    "cmd_list = ['string', 'stringify', 'colDisplayName=\"name\"', 'column=\"uniprot\"',\n",
    "            'compoundQuery=\"false\"', 'includeNotMapped=\"false\"', \n",
    "            'networkNoGui=\"KEGG hsa05017 network\"', 'species=\"Homo sapiens\"']\n",
    "cmd = \" \".join(cmd_list)\n",
    "p4c.commands.commands_run(cmd) \n",
    "p4c.rename_network(\"KEGG hsa05017 network stringified\")"
   ]
  },
  {
   "cell_type": "code",
   "execution_count": 7,
   "metadata": {},
   "outputs": [
    {
     "data": {
      "text/plain": [
       "['']"
      ]
     },
     "execution_count": 7,
     "metadata": {},
     "output_type": "execute_result"
    }
   ],
   "source": [
    "## Set cutoff ##\n",
    "change_cutoff_cmd_list = ['string change confidence', f'confidence={string_confidence}', 'network=\"KEGG hsa05017 network stringified\"']\n",
    "change_cutoff_cmd = \" \".join(change_cutoff_cmd_list)\n",
    "p4c.commands.commands_run(change_cutoff_cmd)"
   ]
  },
  {
   "cell_type": "markdown",
   "metadata": {},
   "source": [
    "### Load Wikipathways "
   ]
  },
  {
   "cell_type": "code",
   "execution_count": 10,
   "metadata": {},
   "outputs": [],
   "source": [
    "## Load Wikipathways network ##\n",
    "cmd_list = ['wikipathways','import-as-network','id=\"WP5124\"']\n",
    "cmd = \" \".join(cmd_list)\n",
    "p4c.commands.commands_get(cmd) \n",
    "p4c.rename_network(\"Wikipathways WP5124 network\")"
   ]
  },
  {
   "cell_type": "code",
   "execution_count": 11,
   "metadata": {},
   "outputs": [],
   "source": [
    "## Clone and rename Wikipathways network ##\n",
    "p4c.clone_network(\"Wikipathways WP5124 network\")\n",
    "p4c.rename_network(title=\"Wikipathways WP5124 network uniprot\", network=\"Wikipathways WP5124 network_2\")"
   ]
  },
  {
   "cell_type": "code",
   "execution_count": 12,
   "metadata": {},
   "outputs": [],
   "source": [
    "## Add uniprot columns to Wikipathways network ##\n",
    "p4c.load_table_data_from_file(\"wikipathway_to_uniprot.xlsx\", first_row_as_column_names=True,\n",
    "                              data_key_column_index=1, network=\"Wikipathways WP5124 network uniprot\")"
   ]
  },
  {
   "cell_type": "code",
   "execution_count": 13,
   "metadata": {},
   "outputs": [],
   "source": [
    "# ## Remove nodes without uniprot ID ##\n",
    "p4c.create_column_filter(filter_name=\"Columns without uniprot\", \n",
    "                         column=\"uniprot\", \n",
    "                         criterion=\"\", predicate=\"DOES_NOT_CONTAIN\") \n",
    "\n",
    "# Apply filter and delete nodes for Wikipathways\n",
    "p4c.apply_filter(\"Columns without uniprot\", network=\"Wikipathways WP5124 network uniprot\")\n",
    "p4c.delete_selected_nodes(\"Wikipathways WP5124 network uniprot\")"
   ]
  },
  {
   "cell_type": "code",
   "execution_count": 14,
   "metadata": {},
   "outputs": [],
   "source": [
    "# ## Create a Stringified version of Wikipathways network ##\n",
    "cmd_list_stringify_wp = ['string', 'stringify', 'colDisplayName=\"name\"', 'column=\"uniprot\"',\n",
    "                        'compoundQuery=\"false\"', 'includeNotMapped=\"false\"', \n",
    "                        'networkNoGui=\"Wikipathways WP5124 network uniprot\"', 'species=\"Homo sapiens\"']\n",
    "cmd_stringify_wp = \" \".join(cmd_list_stringify_wp)\n",
    "p4c.commands.commands_run(cmd_stringify_wp)\n",
    "p4c.rename_network(\"Wikipathways WP5124 network stringified\")"
   ]
  },
  {
   "cell_type": "code",
   "execution_count": 15,
   "metadata": {},
   "outputs": [],
   "source": [
    "# ## Set cutoff to string confidence ##\n",
    "# change_cutoff_cmd_list = ['string change confidence', f'confidence={string_confidence}', 'network=\"Wikipathways WP5124 network stringified\"']\n",
    "# change_cutoff_cmd = \" \".join(change_cutoff_cmd_list)\n",
    "# p4c.commands.commands_run(change_cutoff_cmd)"
   ]
  },
  {
   "cell_type": "markdown",
   "metadata": {},
   "source": [
    "### Load STRING"
   ]
  },
  {
   "cell_type": "code",
   "execution_count": 16,
   "metadata": {},
   "outputs": [],
   "source": [
    "# ## Load STRING network ##\n",
    "# string_cmd_list = ['string disease query','disease=\"doid:10652\"', 'species=\"Homo sapiens\"', 'limit=2000', f'cutoff={string_confidence}'] # 2000 proteins takes quite long\n",
    "# string_cmd = \" \".join(string_cmd_list)\n",
    "# p4c.commands.commands_run(string_cmd)\n",
    "# p4c.rename_network(f\"STRING 10652 network C{string_confidence}\")"
   ]
  },
  {
   "cell_type": "code",
   "execution_count": 22,
   "metadata": {},
   "outputs": [],
   "source": [
    "# ## Check whether networks are imported and store suids ##\n",
    "network_names = p4c.get_network_list()\n",
    "kegg_suid = p4c.get_network_suid(\"KEGG hsa05017 network stringified\")\n",
    "# wiki_suid = p4c.get_network_suid(\"Wikipathways WP5124 network stringified\")\n",
    "# string_suid = p4c.get_network_suid(f\"STRING 10652 network C{string_confidence}\")\n",
    "\n",
    "# print(network_names)\n",
    "# print(kegg_suid, wiki_suid, string_suid)"
   ]
  },
  {
   "cell_type": "markdown",
   "metadata": {},
   "source": [
    "## Add database columns to tables\n",
    "This part is so that there is an extra column in every node table that indicates the database where the data is from. This way, in the merged network, it will be easier to find where the overlap is between the databases."
   ]
  },
  {
   "cell_type": "code",
   "execution_count": 23,
   "metadata": {},
   "outputs": [],
   "source": [
    "## Create dataframe with new column that indicates which database the data originates from ##\n",
    "kegg_nodes = p4c.get_all_nodes(kegg_suid)\n",
    "kegg_label_df = pd.DataFrame(data=kegg_nodes, columns=[\"shared name\"])\n",
    "kegg_label_df[\"kegg_db\"] = 1 # Column value will be 1 for all data in kegg network\n",
    "\n",
    "# wiki_nodes = p4c.get_all_nodes(wiki_suid)\n",
    "# wiki_label_df = pd.DataFrame(data=wiki_nodes, columns=[\"shared name\"])\n",
    "# wiki_label_df[\"wiki_db\"] = 1 # Column value will be 1 for all data in wikipathways network\n",
    "\n",
    "# string_04_nodes = p4c.get_all_nodes(string_suid)\n",
    "# string_04_label_df = pd.DataFrame(data=string_04_nodes, columns=[\"shared name\"])\n",
    "# string_04_label_df[\"string_db\"] = 1 # Column value will be 1 for all data in string network"
   ]
  },
  {
   "cell_type": "code",
   "execution_count": 35,
   "metadata": {},
   "outputs": [
    {
     "data": {
      "text/plain": [
       "''"
      ]
     },
     "execution_count": 35,
     "metadata": {},
     "output_type": "execute_result"
    }
   ],
   "source": [
    "## Merge dataframes with tables in networks ##\n",
    "p4c.set_current_network(kegg_suid)\n",
    "p4c.load_table_data(kegg_label_df, data_key_column=\"shared name\", network=kegg_suid)\n",
    "p4c.delete_table_column(\"row.names\") \n",
    "\n",
    "# p4c.set_current_network(wiki_suid)\n",
    "# p4c.load_table_data(wiki_label_df, data_key_column=\"shared name\", network=wiki_suid)\n",
    "# p4c.delete_table_column(\"row.names\")\n",
    "\n",
    "# p4c.set_current_network(string_suid)\n",
    "# p4c.load_table_data(string_04_label_df, data_key_column=\"shared name\", network=string_suid)\n",
    "# p4c.delete_table_column(\"row.names\")"
   ]
  },
  {
   "cell_type": "markdown",
   "metadata": {},
   "source": [
    "## Remove rows without canonical name\n",
    "To ensure that the merge will not give conflicting results because some of the column values are empty, all rows that do not have a Uniprot identifier (canonical name) will be removed."
   ]
  },
  {
   "cell_type": "code",
   "execution_count": 36,
   "metadata": {
    "scrolled": true
   },
   "outputs": [
    {
     "name": "stdout",
     "output_type": "stream",
     "text": [
      "No nodes selected.\n",
      "No edges selected.\n",
      "No nodes selected.\n",
      "No edges selected.\n"
     ]
    },
    {
     "data": {
      "text/plain": [
       "{}"
      ]
     },
     "execution_count": 36,
     "metadata": {},
     "output_type": "execute_result"
    }
   ],
   "source": [
    "## Create filter for entries that don't have a stringdb canonical name (uniprot ID). Delete selected rows in each network. ##\n",
    "p4c.create_column_filter(filter_name=\"Columns without canonical name\", \n",
    "                         column=\"stringdb::canonical name\", \n",
    "                         criterion=\"\", predicate=\"DOES_NOT_CONTAIN\") \n",
    "\n",
    "# Apply filter and delete nodes for Wikipathways\n",
    "p4c.apply_filter(\"Columns without canonical name\", network=kegg_suid)\n",
    "p4c.delete_selected_nodes(kegg_suid)\n",
    "\n",
    "# # Apply filter and delete nodes for Wikipathways\n",
    "# p4c.apply_filter(\"Columns without canonical name\", network=wiki_suid)\n",
    "# p4c.delete_selected_nodes(wiki_suid)\n",
    "\n",
    "# # Apply filter and delete nodes for STRING networks\n",
    "# p4c.apply_filter(\"Columns without canonical name\", network=string_suid)\n",
    "# p4c.delete_selected_nodes(string_suid)"
   ]
  },
  {
   "cell_type": "markdown",
   "metadata": {},
   "source": [
    "# Network merging"
   ]
  },
  {
   "cell_type": "code",
   "execution_count": null,
   "metadata": {},
   "outputs": [],
   "source": []
  },
  {
   "cell_type": "markdown",
   "metadata": {},
   "source": [
    "## Filtering database columns\n",
    "To check the overlap between the databases, a filter will be applied."
   ]
  },
  {
   "cell_type": "code",
   "execution_count": 37,
   "metadata": {},
   "outputs": [
    {
     "ename": "NameError",
     "evalue": "name 'merged_network_suid' is not defined",
     "output_type": "error",
     "traceback": [
      "\u001b[1;31m---------------------------------------------------------------------------\u001b[0m",
      "\u001b[1;31mNameError\u001b[0m                                 Traceback (most recent call last)",
      "Cell \u001b[1;32mIn[37], line 2\u001b[0m\n\u001b[0;32m      1\u001b[0m \u001b[38;5;66;03m## Create dataframe with the column indicators ##\u001b[39;00m\n\u001b[1;32m----> 2\u001b[0m database_filter_df \u001b[38;5;241m=\u001b[39m p4c\u001b[38;5;241m.\u001b[39mget_table_columns(\u001b[38;5;124m'\u001b[39m\u001b[38;5;124mnode\u001b[39m\u001b[38;5;124m'\u001b[39m, columns\u001b[38;5;241m=\u001b[39m[\u001b[38;5;124m\"\u001b[39m\u001b[38;5;124mname\u001b[39m\u001b[38;5;124m\"\u001b[39m, \u001b[38;5;124m\"\u001b[39m\u001b[38;5;124mkegg_db\u001b[39m\u001b[38;5;124m\"\u001b[39m, \u001b[38;5;124m\"\u001b[39m\u001b[38;5;124mwiki_db\u001b[39m\u001b[38;5;124m\"\u001b[39m, \u001b[38;5;124m\"\u001b[39m\u001b[38;5;124mstring_db\u001b[39m\u001b[38;5;124m\"\u001b[39m], network\u001b[38;5;241m=\u001b[39mmerged_network_suid)\n\u001b[0;32m      3\u001b[0m database_filter_df[\u001b[38;5;124m\"\u001b[39m\u001b[38;5;124mdatabase\u001b[39m\u001b[38;5;124m\"\u001b[39m] \u001b[38;5;241m=\u001b[39m \u001b[38;5;124m\"\u001b[39m\u001b[38;5;124m\"\u001b[39m \u001b[38;5;66;03m# Create new column with empty string values\u001b[39;00m\n\u001b[0;32m      5\u001b[0m \u001b[38;5;66;03m## Give the database column a value based on which databases the nodes are from\u001b[39;00m\n",
      "\u001b[1;31mNameError\u001b[0m: name 'merged_network_suid' is not defined"
     ]
    }
   ],
   "source": [
    "## Create dataframe with the column indicators ##\n",
    "database_filter_df = p4c.get_table_columns('node', columns=[\"name\", \"kegg_db\", \"wiki_db\", \"string_db\"], network=merged_network_suid)\n",
    "database_filter_df[\"database\"] = \"\" # Create new column with empty string values\n",
    "\n",
    "## Give the database column a value based on which databases the nodes are from\n",
    "database_filter_df.loc[(database_filter_df['kegg_db'] == 1) & (database_filter_df[\"string_db\"] == 1) &\n",
    "                    (database_filter_df[\"wiki_db\"] == 1), \"database\"] = \"kegg;wiki;string\"\n",
    "database_filter_df.loc[(database_filter_df['kegg_db'] == 1) & (database_filter_df[\"string_db\"] == 1) &\n",
    "                    (database_filter_df[\"wiki_db\"] != 1), \"database\"] = \"kegg;string\"\n",
    "database_filter_df.loc[(database_filter_df['kegg_db'] == 1) & (database_filter_df[\"string_db\"] != 1) &\n",
    "                    (database_filter_df[\"wiki_db\"] == 1), \"database\"] = \"kegg;wiki\"\n",
    "database_filter_df.loc[(database_filter_df['kegg_db'] != 1) & (database_filter_df[\"string_db\"] == 1) &\n",
    "                    (database_filter_df[\"wiki_db\"] == 1), \"database\"] = \"wiki;string\"\n",
    "database_filter_df.loc[(database_filter_df['kegg_db'] == 1) & (database_filter_df[\"string_db\"] != 1) &\n",
    "                    (database_filter_df[\"wiki_db\"] != 1), \"database\"] = \"kegg\"\n",
    "database_filter_df.loc[((database_filter_df['kegg_db'] != 1) & (database_filter_df[\"string_db\"] != 1)) &\n",
    "                    (database_filter_df[\"wiki_db\"] == 1), \"database\"] = \"wiki\"\n",
    "database_filter_df.loc[(database_filter_df['kegg_db'] != 1) & (database_filter_df[\"string_db\"] == 1) &\n",
    "                    (database_filter_df[\"wiki_db\"] != 1), \"database\"] = \"string\"\n",
    "\n",
    "print(database_filter_df.groupby(\"database\")[\"database\"].count()) # Give the distribution of nodes in the merged network\n",
    "\n",
    "p4c.set_current_network(merged_network_suid)\n",
    "p4c.load_table_data(database_filter_df, data_key_column=\"name\") # Add the database filter column to the network\n",
    "p4c.delete_table_column(\"row.names\")"
   ]
  },
  {
   "cell_type": "markdown",
   "metadata": {},
   "source": [
    "## Network expansion\n",
    "Expand the merged network with another 2000 nodes"
   ]
  },
  {
   "cell_type": "code",
   "execution_count": 38,
   "metadata": {},
   "outputs": [],
   "source": [
    "## Expand Merged STRING_0.4 KEGG Wiki network ##\n",
    "p4c.clone_network(kegg_suid) # Creates a clone of the merged network, with \"_1\" added to the name\n",
    "expansion_cmd_list = ['string expand', 'additionalNodes=2000', f'network=\"{kegg_suid}_1\"', \n",
    "                      'nodeTypes=\"Homo sapiens\"', 'selectivityAlpha=0.5']\n",
    "expansion_cmd = \" \".join(expansion_cmd_list)\n",
    "p4c.commands.commands_run(expansion_cmd)\n",
    "p4c.rename_network(f\"{merged_network_name} expanded\")\n",
    "merged_network_expanded_suid = p4c.get_network_suid(f\"{merged_network_name} expanded\")"
   ]
  },
  {
   "cell_type": "markdown",
   "metadata": {},
   "source": [
    "## Visualization\n",
    "More additional visualization can be done in Cytoscape itself, this only visualizes the database distribution and the nervous tissue confidence."
   ]
  },
  {
   "cell_type": "code",
   "execution_count": 39,
   "metadata": {},
   "outputs": [
    {
     "data": {
      "text/plain": [
       "''"
      ]
     },
     "execution_count": 39,
     "metadata": {},
     "output_type": "execute_result"
    }
   ],
   "source": [
    "## Set color of nodes according to a gradient for the confidence that the protein is active in the nervous system\n",
    "if \"ADCN style\" not in p4c.get_visual_style_names():\n",
    "    p4c.create_visual_style(\"ADCN style\")\n",
    "\n",
    "p4c.set_current_network(merged_network_expanded_suid)\n",
    "p4c.set_node_color_mapping(**p4c.gen_node_color_map('tissue::nervous system', p4c.palette_color_brewer_s_YlOrBr(), style_name=\"ADCN style\"))"
   ]
  },
  {
   "cell_type": "code",
   "execution_count": 40,
   "metadata": {},
   "outputs": [
    {
     "name": "stdout",
     "output_type": "stream",
     "text": [
      "Column database does not exist in the node table.\n"
     ]
    },
    {
     "name": "stderr",
     "output_type": "stream",
     "text": [
      "In _update_visual_property(): Table column \"database\" does not exist\n"
     ]
    },
    {
     "ename": "CyError",
     "evalue": "In _update_visual_property(): Table column \"database\" does not exist",
     "output_type": "error",
     "traceback": [
      "\u001b[1;31m---------------------------------------------------------------------------\u001b[0m",
      "\u001b[1;31mCyError\u001b[0m                                   Traceback (most recent call last)",
      "Cell \u001b[1;32mIn[40], line 5\u001b[0m\n\u001b[0;32m      2\u001b[0m database_values \u001b[38;5;241m=\u001b[39m [\u001b[38;5;124m\"\u001b[39m\u001b[38;5;124mkegg\u001b[39m\u001b[38;5;124m\"\u001b[39m, \u001b[38;5;124m\"\u001b[39m\u001b[38;5;124mstring\u001b[39m\u001b[38;5;124m\"\u001b[39m, \u001b[38;5;124m\"\u001b[39m\u001b[38;5;124mwiki\u001b[39m\u001b[38;5;124m\"\u001b[39m, \u001b[38;5;124m\"\u001b[39m\u001b[38;5;124mkegg;string\u001b[39m\u001b[38;5;124m\"\u001b[39m, \u001b[38;5;124m\"\u001b[39m\u001b[38;5;124mkegg;wiki\u001b[39m\u001b[38;5;124m\"\u001b[39m, \u001b[38;5;124m\"\u001b[39m\u001b[38;5;124mwiki;string\u001b[39m\u001b[38;5;124m\"\u001b[39m, \u001b[38;5;124m\"\u001b[39m\u001b[38;5;124mkegg;wiki;string\u001b[39m\u001b[38;5;124m\"\u001b[39m]\n\u001b[0;32m      3\u001b[0m mapping_shapes \u001b[38;5;241m=\u001b[39m [\u001b[38;5;124m\"\u001b[39m\u001b[38;5;124mHEXAGON\u001b[39m\u001b[38;5;124m\"\u001b[39m, \u001b[38;5;124m\"\u001b[39m\u001b[38;5;124mROUND_RECTANGLE\u001b[39m\u001b[38;5;124m\"\u001b[39m, \u001b[38;5;124m\"\u001b[39m\u001b[38;5;124mVEE\u001b[39m\u001b[38;5;124m\"\u001b[39m, \u001b[38;5;124m\"\u001b[39m\u001b[38;5;124mPARALLELOGRAM\u001b[39m\u001b[38;5;124m\"\u001b[39m, \u001b[38;5;124m\"\u001b[39m\u001b[38;5;124mDIAMOND\u001b[39m\u001b[38;5;124m\"\u001b[39m, \u001b[38;5;124m\"\u001b[39m\u001b[38;5;124mELLIPSE\u001b[39m\u001b[38;5;124m\"\u001b[39m, \u001b[38;5;124m\"\u001b[39m\u001b[38;5;124mTRIANGLE\u001b[39m\u001b[38;5;124m\"\u001b[39m]\n\u001b[1;32m----> 5\u001b[0m p4c\u001b[38;5;241m.\u001b[39mset_node_shape_mapping(table_column\u001b[38;5;241m=\u001b[39m\u001b[38;5;124m\"\u001b[39m\u001b[38;5;124mdatabase\u001b[39m\u001b[38;5;124m\"\u001b[39m, table_column_values\u001b[38;5;241m=\u001b[39mdatabase_values,\n\u001b[0;32m      6\u001b[0m                             shapes\u001b[38;5;241m=\u001b[39mmapping_shapes, default_shape\u001b[38;5;241m=\u001b[39m\u001b[38;5;124m\"\u001b[39m\u001b[38;5;124mRECTANGLE\u001b[39m\u001b[38;5;124m\"\u001b[39m, style_name\u001b[38;5;241m=\u001b[39m\u001b[38;5;124m\"\u001b[39m\u001b[38;5;124mADCN style\u001b[39m\u001b[38;5;124m\"\u001b[39m)\n",
      "File \u001b[1;32m~\\anaconda3\\Lib\\site-packages\\py4cytoscape\\py4cytoscape_logger.py:133\u001b[0m, in \u001b[0;36mcy_log.<locals>.wrapper_log\u001b[1;34m(*args, **kwargs)\u001b[0m\n\u001b[0;32m    131\u001b[0m     \u001b[38;5;28;01mreturn\u001b[39;00m log_return(func, value)\n\u001b[0;32m    132\u001b[0m \u001b[38;5;28;01mexcept\u001b[39;00m \u001b[38;5;167;01mException\u001b[39;00m \u001b[38;5;28;01mas\u001b[39;00m e:\n\u001b[1;32m--> 133\u001b[0m     log_exception(func, e)\n\u001b[0;32m    134\u001b[0m \u001b[38;5;28;01mfinally\u001b[39;00m:\n\u001b[0;32m    135\u001b[0m     log_finally()\n",
      "File \u001b[1;32m~\\anaconda3\\Lib\\site-packages\\py4cytoscape\\py4cytoscape_logger.py:130\u001b[0m, in \u001b[0;36mcy_log.<locals>.wrapper_log\u001b[1;34m(*args, **kwargs)\u001b[0m\n\u001b[0;32m    128\u001b[0m log_incoming(func, \u001b[38;5;241m*\u001b[39margs, \u001b[38;5;241m*\u001b[39m\u001b[38;5;241m*\u001b[39mkwargs)\n\u001b[0;32m    129\u001b[0m \u001b[38;5;28;01mtry\u001b[39;00m:\n\u001b[1;32m--> 130\u001b[0m     value \u001b[38;5;241m=\u001b[39m func(\u001b[38;5;241m*\u001b[39margs, \u001b[38;5;241m*\u001b[39m\u001b[38;5;241m*\u001b[39mkwargs) \u001b[38;5;66;03m# Call function being logged\u001b[39;00m\n\u001b[0;32m    131\u001b[0m     \u001b[38;5;28;01mreturn\u001b[39;00m log_return(func, value)\n\u001b[0;32m    132\u001b[0m \u001b[38;5;28;01mexcept\u001b[39;00m \u001b[38;5;167;01mException\u001b[39;00m \u001b[38;5;28;01mas\u001b[39;00m e:\n",
      "File \u001b[1;32m~\\anaconda3\\Lib\\site-packages\\py4cytoscape\\style_mappings.py:1062\u001b[0m, in \u001b[0;36mset_node_shape_mapping\u001b[1;34m(table_column, table_column_values, shapes, default_shape, style_name, network, base_url)\u001b[0m\n\u001b[0;32m   1059\u001b[0m \u001b[38;5;28;01mif\u001b[39;00m default_shape \u001b[38;5;129;01mis\u001b[39;00m \u001b[38;5;129;01mnot\u001b[39;00m \u001b[38;5;28;01mNone\u001b[39;00m:\n\u001b[0;32m   1060\u001b[0m     style_defaults\u001b[38;5;241m.\u001b[39mset_node_shape_default(default_shape, style_name, base_url\u001b[38;5;241m=\u001b[39mbase_url)\n\u001b[1;32m-> 1062\u001b[0m \u001b[38;5;28;01mreturn\u001b[39;00m _update_visual_property(\u001b[38;5;124m'\u001b[39m\u001b[38;5;124mNODE_SHAPE\u001b[39m\u001b[38;5;124m'\u001b[39m, table_column, table_column_values\u001b[38;5;241m=\u001b[39mtable_column_values,\n\u001b[0;32m   1063\u001b[0m                                range_map\u001b[38;5;241m=\u001b[39mshapes, mapping_type\u001b[38;5;241m=\u001b[39m\u001b[38;5;124m'\u001b[39m\u001b[38;5;124md\u001b[39m\u001b[38;5;124m'\u001b[39m, style_name\u001b[38;5;241m=\u001b[39mstyle_name, network\u001b[38;5;241m=\u001b[39mnetwork,\n\u001b[0;32m   1064\u001b[0m                                base_url\u001b[38;5;241m=\u001b[39mbase_url, supported_mappings\u001b[38;5;241m=\u001b[39m[\u001b[38;5;124m'\u001b[39m\u001b[38;5;124md\u001b[39m\u001b[38;5;124m'\u001b[39m])\n",
      "File \u001b[1;32m~\\anaconda3\\Lib\\site-packages\\py4cytoscape\\style_mappings.py:2027\u001b[0m, in \u001b[0;36m_update_visual_property\u001b[1;34m(visual_prop_name, table_column, table_column_values, range_map, mapping_type, style_name, network, base_url, supported_mappings, table)\u001b[0m\n\u001b[0;32m   2021\u001b[0m \u001b[38;5;28;01mdef\u001b[39;00m \u001b[38;5;21m_update_visual_property\u001b[39m(visual_prop_name, table_column, table_column_values\u001b[38;5;241m=\u001b[39m[], range_map\u001b[38;5;241m=\u001b[39m[], mapping_type\u001b[38;5;241m=\u001b[39m\u001b[38;5;124m'\u001b[39m\u001b[38;5;124mc\u001b[39m\u001b[38;5;124m'\u001b[39m,\n\u001b[0;32m   2022\u001b[0m                             style_name\u001b[38;5;241m=\u001b[39m\u001b[38;5;28;01mNone\u001b[39;00m, network\u001b[38;5;241m=\u001b[39m\u001b[38;5;28;01mNone\u001b[39;00m, base_url\u001b[38;5;241m=\u001b[39mDEFAULT_BASE_URL,\n\u001b[0;32m   2023\u001b[0m                             supported_mappings\u001b[38;5;241m=\u001b[39m[\u001b[38;5;124m'\u001b[39m\u001b[38;5;124mc\u001b[39m\u001b[38;5;124m'\u001b[39m, \u001b[38;5;124m'\u001b[39m\u001b[38;5;124md\u001b[39m\u001b[38;5;124m'\u001b[39m, \u001b[38;5;124m'\u001b[39m\u001b[38;5;124mp\u001b[39m\u001b[38;5;124m'\u001b[39m], table\u001b[38;5;241m=\u001b[39m\u001b[38;5;124m'\u001b[39m\u001b[38;5;124mnode\u001b[39m\u001b[38;5;124m'\u001b[39m):\n\u001b[0;32m   2024\u001b[0m \n\u001b[0;32m   2025\u001b[0m     \u001b[38;5;66;03m# TODO: Added because all mappings need to do this. R code should probably adopt this, too\u001b[39;00m\n\u001b[0;32m   2026\u001b[0m     \u001b[38;5;28;01mif\u001b[39;00m \u001b[38;5;129;01mnot\u001b[39;00m table_column_exists(table_column, table, network\u001b[38;5;241m=\u001b[39mnetwork, base_url\u001b[38;5;241m=\u001b[39mbase_url):\n\u001b[1;32m-> 2027\u001b[0m         \u001b[38;5;28;01mraise\u001b[39;00m CyError(\u001b[38;5;124mf\u001b[39m\u001b[38;5;124m'\u001b[39m\u001b[38;5;124mTable column \u001b[39m\u001b[38;5;124m\"\u001b[39m\u001b[38;5;132;01m{\u001b[39;00mtable_column\u001b[38;5;132;01m}\u001b[39;00m\u001b[38;5;124m\"\u001b[39m\u001b[38;5;124m does not exist\u001b[39m\u001b[38;5;124m'\u001b[39m)\n\u001b[0;32m   2029\u001b[0m     \u001b[38;5;66;03m# perform mapping\u001b[39;00m\n\u001b[0;32m   2030\u001b[0m     mapping_type \u001b[38;5;241m=\u001b[39m normalize_mapping(mapping_type, visual_prop_name, supported_mappings)\n",
      "\u001b[1;31mCyError\u001b[0m: In _update_visual_property(): Table column \"database\" does not exist"
     ]
    }
   ],
   "source": [
    "## Set shape of nodes according to database values\n",
    "database_values = [\"kegg\", \"string\", \"wiki\", \"kegg;string\", \"kegg;wiki\", \"wiki;string\", \"kegg;wiki;string\"]\n",
    "mapping_shapes = [\"HEXAGON\", \"ROUND_RECTANGLE\", \"VEE\", \"PARALLELOGRAM\", \"DIAMOND\", \"ELLIPSE\", \"TRIANGLE\"]\n",
    "\n",
    "p4c.set_node_shape_mapping(table_column=\"database\", table_column_values=database_values,\n",
    "                            shapes=mapping_shapes, default_shape=\"RECTANGLE\", style_name=\"ADCN style\")"
   ]
  },
  {
   "cell_type": "code",
   "execution_count": 28,
   "metadata": {},
   "outputs": [
    {
     "data": {
      "text/plain": [
       "{'message': 'Visual Style applied.'}"
      ]
     },
     "execution_count": 28,
     "metadata": {},
     "output_type": "execute_result"
    }
   ],
   "source": [
    "## Set ADCN style for the two networks\n",
    "p4c.set_visual_style(\"ADCN style\", merged_network_suid)\n",
    "p4c.set_visual_style(\"ADCN style\", merged_network_expanded_suid)"
   ]
  },
  {
   "cell_type": "markdown",
   "metadata": {},
   "source": [
    "## Analyse the networks\n",
    "Analyse the normal and expanded networks with the analysis software from Cytoscape"
   ]
  },
  {
   "cell_type": "code",
   "execution_count": 41,
   "metadata": {},
   "outputs": [
    {
     "name": "stdout",
     "output_type": "stream",
     "text": [
      "                                                            0\n",
      "networkTitle    KEGG network cutoff 0.4 expanded (undirected)\n",
      "nodeCount                                                 141\n",
      "edgeCount                                                1540\n",
      "avNeighbors                                21.134751773049647\n",
      "diameter                                                    4\n",
      "radius                                                      3\n",
      "avSpl                                       2.335764944275583\n",
      "cc                                          0.673249058486184\n",
      "density                                   0.15096251266464034\n",
      "heterogeneity                              0.5390143433356083\n",
      "centralization                             0.2236382322713258\n",
      "ncc                                                         1\n",
      "time                                                    0.089\n"
     ]
    }
   ],
   "source": [
    "## Analyse network\n",
    "p4c.set_current_network(kegg_suid)\n",
    "analysis = p4c.analyze_network()\n",
    "analysis_df = pd.DataFrame.from_dict(analysis, 'index')\n",
    "print(analysis_df)"
   ]
  },
  {
   "cell_type": "code",
   "execution_count": 30,
   "metadata": {},
   "outputs": [
    {
     "name": "stdout",
     "output_type": "stream",
     "text": [
      "                                                                0\n",
      "networkTitle    Merged STRING KEGG Wiki network cutoff 0.4 exp...\n",
      "nodeCount                                                    4112\n",
      "edgeCount                                                  304017\n",
      "avNeighbors                                    147.39041595718803\n",
      "diameter                                                        4\n",
      "radius                                                          3\n",
      "avSpl                                          2.2220682626458834\n",
      "cc                                            0.37497471018937084\n",
      "density                                       0.03586141507474161\n",
      "heterogeneity                                  0.8935457576140715\n",
      "centralization                                 0.3355913877258335\n",
      "ncc                                                             2\n",
      "time                                                       60.312\n"
     ]
    }
   ],
   "source": [
    "## Analyse expanded network\n",
    "p4c.set_current_network(merged_network_expanded_suid)\n",
    "analysis_expanded = p4c.analyze_network()\n",
    "analysis_expanded_df = pd.DataFrame.from_dict(analysis_expanded, 'index')\n",
    "print(analysis_expanded_df)"
   ]
  }
 ],
 "metadata": {
  "kernelspec": {
   "display_name": "Python 3 (ipykernel)",
   "language": "python",
   "name": "python3"
  },
  "language_info": {
   "codemirror_mode": {
    "name": "ipython",
    "version": 3
   },
   "file_extension": ".py",
   "mimetype": "text/x-python",
   "name": "python",
   "nbconvert_exporter": "python",
   "pygments_lexer": "ipython3",
   "version": "3.11.5"
  }
 },
 "nbformat": 4,
 "nbformat_minor": 2
}
