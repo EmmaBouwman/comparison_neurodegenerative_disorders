{
 "cells": [
  {
   "cell_type": "markdown",
   "metadata": {},
   "source": [
    "# Spinocerebellar ataxia consensus network automated workflow\n",
    "This notebook gives a workflow for creating a consensus protein-protein interaction network using the library *py4cytoscape*. This uses the *CyREST* framework to make contact with Cytoscape where the commands will be executed. So, the **Cytoscape app needs to be opened in the browser** when executing this file. Also, pay attention to the amount of proteins imported from STRING, there are 2000 proteins imported and an additional 2000 for the expansion. Running the whole workflow can then take up to thirty minutes."
   ]
  },
  {
   "cell_type": "markdown",
   "metadata": {},
   "source": [
    "## Setup"
   ]
  },
  {
   "cell_type": "code",
   "execution_count": 1,
   "metadata": {},
   "outputs": [
    {
     "name": "stdout",
     "output_type": "stream",
     "text": [
      "Requirement already satisfied: py4cytoscape in c:\\users\\emmab\\anaconda3\\lib\\site-packages (1.9.0)\n",
      "Requirement already satisfied: pandas in c:\\users\\emmab\\anaconda3\\lib\\site-packages (from py4cytoscape) (2.0.3)\n",
      "Requirement already satisfied: networkx in c:\\users\\emmab\\anaconda3\\lib\\site-packages (from py4cytoscape) (3.1)\n",
      "Requirement already satisfied: requests in c:\\users\\emmab\\anaconda3\\lib\\site-packages (from py4cytoscape) (2.31.0)\n",
      "Requirement already satisfied: igraph in c:\\users\\emmab\\anaconda3\\lib\\site-packages (from py4cytoscape) (0.11.4)\n",
      "Requirement already satisfied: colorbrewer in c:\\users\\emmab\\anaconda3\\lib\\site-packages (from py4cytoscape) (0.2.0)\n",
      "Requirement already satisfied: chardet in c:\\users\\emmab\\anaconda3\\lib\\site-packages (from py4cytoscape) (4.0.0)\n",
      "Requirement already satisfied: decorator in c:\\users\\emmab\\anaconda3\\lib\\site-packages (from py4cytoscape) (5.1.1)\n",
      "Requirement already satisfied: backoff in c:\\users\\emmab\\anaconda3\\lib\\site-packages (from py4cytoscape) (2.2.1)\n",
      "Requirement already satisfied: colour in c:\\users\\emmab\\anaconda3\\lib\\site-packages (from py4cytoscape) (0.1.5)\n",
      "Requirement already satisfied: six in c:\\users\\emmab\\anaconda3\\lib\\site-packages (from colorbrewer->py4cytoscape) (1.16.0)\n",
      "Requirement already satisfied: texttable>=1.6.2 in c:\\users\\emmab\\anaconda3\\lib\\site-packages (from igraph->py4cytoscape) (1.7.0)\n",
      "Requirement already satisfied: python-dateutil>=2.8.2 in c:\\users\\emmab\\anaconda3\\lib\\site-packages (from pandas->py4cytoscape) (2.8.2)\n",
      "Requirement already satisfied: pytz>=2020.1 in c:\\users\\emmab\\anaconda3\\lib\\site-packages (from pandas->py4cytoscape) (2023.3.post1)\n",
      "Requirement already satisfied: tzdata>=2022.1 in c:\\users\\emmab\\anaconda3\\lib\\site-packages (from pandas->py4cytoscape) (2023.3)\n",
      "Requirement already satisfied: numpy>=1.21.0 in c:\\users\\emmab\\anaconda3\\lib\\site-packages (from pandas->py4cytoscape) (1.24.3)\n",
      "Requirement already satisfied: charset-normalizer<4,>=2 in c:\\users\\emmab\\anaconda3\\lib\\site-packages (from requests->py4cytoscape) (2.0.4)\n",
      "Requirement already satisfied: idna<4,>=2.5 in c:\\users\\emmab\\anaconda3\\lib\\site-packages (from requests->py4cytoscape) (3.4)\n",
      "Requirement already satisfied: urllib3<3,>=1.21.1 in c:\\users\\emmab\\anaconda3\\lib\\site-packages (from requests->py4cytoscape) (1.26.16)\n",
      "Requirement already satisfied: certifi>=2017.4.17 in c:\\users\\emmab\\anaconda3\\lib\\site-packages (from requests->py4cytoscape) (2024.2.2)\n",
      "Note: you may need to restart the kernel to use updated packages.\n"
     ]
    }
   ],
   "source": [
    "pip install py4cytoscape"
   ]
  },
  {
   "cell_type": "code",
   "execution_count": 2,
   "metadata": {},
   "outputs": [],
   "source": [
    "## Imports\n",
    "import py4cytoscape as p4c\n",
    "import pandas as pd"
   ]
  },
  {
   "cell_type": "code",
   "execution_count": 3,
   "metadata": {
    "scrolled": true
   },
   "outputs": [
    {
     "data": {
      "text/plain": [
       "{'apiVersion': 'v1',\n",
       " 'cytoscapeVersion': '3.10.1',\n",
       " 'automationAPIVersion': '1.9.0',\n",
       " 'py4cytoscapeVersion': '1.9.0'}"
      ]
     },
     "execution_count": 3,
     "metadata": {},
     "output_type": "execute_result"
    }
   ],
   "source": [
    "## Execute to check whether contact with the Cytoscape app via CyREST works \n",
    "p4c.cytoscape_version_info()"
   ]
  },
  {
   "cell_type": "markdown",
   "metadata": {},
   "source": [
    "## Load networks\n",
    "Three types of networks will be loaded, firstly from KEGG, then Wikipathways and lastly STRING. It is important to indicate the desired STRING cutoff score in the beginning, which will influence the number of edges in the network. "
   ]
  },
  {
   "cell_type": "markdown",
   "metadata": {},
   "source": [
    "### Load KEGG"
   ]
  },
  {
   "cell_type": "code",
   "execution_count": 5,
   "metadata": {},
   "outputs": [],
   "source": [
    "## Set string confidence in a variable with 0 > confidence >= 1.0 ##\n",
    "string_confidence = 0.4"
   ]
  },
  {
   "cell_type": "code",
   "execution_count": 6,
   "metadata": {},
   "outputs": [
    {
     "data": {
      "text/plain": [
       "{'network': 21981, 'title': 'KEGG hsa05017 network'}"
      ]
     },
     "execution_count": 6,
     "metadata": {},
     "output_type": "execute_result"
    }
   ],
   "source": [
    "## Load KEGG network ##\n",
    "p4c.networks.import_network_from_file(\"sca_hsa05017.gml\")\n",
    "p4c.layout_network('force-directed', network=\"current\") # the gml file does not contain any layout information so layout has to be set\n",
    "p4c.rename_network(\"KEGG hsa05017 network\")"
   ]
  },
  {
   "cell_type": "code",
   "execution_count": 7,
   "metadata": {},
   "outputs": [
    {
     "data": {
      "text/plain": [
       "{'network': 26235, 'title': 'KEGG hsa05017 network stringified'}"
      ]
     },
     "execution_count": 7,
     "metadata": {},
     "output_type": "execute_result"
    }
   ],
   "source": [
    "## Create a Stringified version of KEGG network ##\n",
    "cmd_list = ['string', 'stringify', 'colDisplayName=\"name\"', 'column=\"uniprot\"',\n",
    "            'compoundQuery=\"false\"', 'includeNotMapped=\"false\"', \n",
    "            'networkNoGui=\"KEGG hsa05017 network\"', 'species=\"Homo sapiens\"']\n",
    "cmd = \" \".join(cmd_list)\n",
    "p4c.commands.commands_run(cmd) \n",
    "p4c.rename_network(\"KEGG hsa05017 network stringified\")"
   ]
  },
  {
   "cell_type": "code",
   "execution_count": 8,
   "metadata": {},
   "outputs": [
    {
     "data": {
      "text/plain": [
       "['']"
      ]
     },
     "execution_count": 8,
     "metadata": {},
     "output_type": "execute_result"
    }
   ],
   "source": [
    "## Set cutoff ##\n",
    "change_cutoff_cmd_list = ['string change confidence', f'confidence={string_confidence}', 'network=\"KEGG hsa05017 network stringified\"']\n",
    "change_cutoff_cmd = \" \".join(change_cutoff_cmd_list)\n",
    "p4c.commands.commands_run(change_cutoff_cmd)"
   ]
  },
  {
   "cell_type": "markdown",
   "metadata": {},
   "source": [
    "### Load Wikipathways "
   ]
  },
  {
   "cell_type": "code",
   "execution_count": 42,
   "metadata": {
    "scrolled": true
   },
   "outputs": [
    {
     "data": {
      "text/plain": [
       "{'network': 40096, 'title': 'Wikipathways WP4760 network'}"
      ]
     },
     "execution_count": 42,
     "metadata": {},
     "output_type": "execute_result"
    }
   ],
   "source": [
    "## Load Wikipathways network ##\n",
    "cmd_list = ['wikipathways','import-as-network','id=\"WP4760\"']\n",
    "cmd = \" \".join(cmd_list)\n",
    "p4c.commands.commands_get(cmd) \n",
    "p4c.rename_network(\"Wikipathways WP4760 network\")"
   ]
  },
  {
   "cell_type": "code",
   "execution_count": 43,
   "metadata": {},
   "outputs": [
    {
     "data": {
      "text/plain": [
       "{'network': 40096, 'title': 'Wikipathways WP4760 network uniprot'}"
      ]
     },
     "execution_count": 43,
     "metadata": {},
     "output_type": "execute_result"
    }
   ],
   "source": [
    "## Clone and rename Wikipathways network ##\n",
    "p4c.clone_network(\"Wikipathways WP4760 network\")\n",
    "p4c.rename_network(title=\"Wikipathways WP4760 network uniprot\", network=\"Wikipathways WP4760 network\")"
   ]
  },
  {
   "cell_type": "code",
   "execution_count": 48,
   "metadata": {},
   "outputs": [
    {
     "data": {
      "text/plain": [
       "{'mappedTables': [40067, 40105]}"
      ]
     },
     "execution_count": 48,
     "metadata": {},
     "output_type": "execute_result"
    }
   ],
   "source": [
    "## Add uniprot columns to Wikipathways network ##\n",
    "p4c.load_table_data_from_file(\"wikipathway_to_uniprot_sca.xlsx\", first_row_as_column_names=True,\n",
    "                              data_key_column_index=1, network=\"Wikipathways WP4760 network uniprot\")"
   ]
  },
  {
   "cell_type": "code",
   "execution_count": 49,
   "metadata": {},
   "outputs": [
    {
     "name": "stdout",
     "output_type": "stream",
     "text": [
      "No edges selected.\n",
      "No edges selected.\n"
     ]
    },
    {
     "data": {
      "text/plain": [
       "{'nodes': [40323,\n",
       "  40224,\n",
       "  40341,\n",
       "  40206,\n",
       "  40239,\n",
       "  40312,\n",
       "  40338,\n",
       "  40347,\n",
       "  40332,\n",
       "  40326,\n",
       "  40215,\n",
       "  40301,\n",
       "  40287,\n",
       "  40329,\n",
       "  40344,\n",
       "  40242,\n",
       "  40218,\n",
       "  40298,\n",
       "  40335,\n",
       "  40254],\n",
       " 'edges': [40431,\n",
       "  40303,\n",
       "  40368,\n",
       "  40305,\n",
       "  40434,\n",
       "  40371,\n",
       "  40307,\n",
       "  40437,\n",
       "  40309,\n",
       "  40374,\n",
       "  40440,\n",
       "  40377,\n",
       "  40314,\n",
       "  40443,\n",
       "  40380,\n",
       "  40316,\n",
       "  40446,\n",
       "  40318,\n",
       "  40383,\n",
       "  40320,\n",
       "  40386,\n",
       "  40389,\n",
       "  40392,\n",
       "  40395,\n",
       "  40398,\n",
       "  40401,\n",
       "  40404,\n",
       "  40407,\n",
       "  40410,\n",
       "  40413,\n",
       "  40350,\n",
       "  40416,\n",
       "  40353,\n",
       "  40289,\n",
       "  40419,\n",
       "  40291,\n",
       "  40293,\n",
       "  40422,\n",
       "  40295,\n",
       "  40425,\n",
       "  40362,\n",
       "  40428,\n",
       "  40365]}"
      ]
     },
     "execution_count": 49,
     "metadata": {},
     "output_type": "execute_result"
    }
   ],
   "source": [
    "## Remove nodes without uniprot ID ##\n",
    "p4c.create_column_filter(filter_name=\"Columns without uniprot\", \n",
    "                         column=\"uniprot\", \n",
    "                         criterion=\"\", predicate=\"DOES_NOT_CONTAIN\") \n",
    "\n",
    "# Apply filter and delete nodes for Wikipathways\n",
    "p4c.apply_filter(\"Columns without uniprot\", network=\"Wikipathways WP4760 network uniprot\")\n",
    "p4c.delete_selected_nodes(\"Wikipathways WP4760 network uniprot\")"
   ]
  },
  {
   "cell_type": "code",
   "execution_count": 50,
   "metadata": {
    "scrolled": true
   },
   "outputs": [
    {
     "data": {
      "text/plain": [
       "{'network': 41686, 'title': 'Wikipathways WP4760 network stringified'}"
      ]
     },
     "execution_count": 50,
     "metadata": {},
     "output_type": "execute_result"
    }
   ],
   "source": [
    "## Create a Stringified version of Wikipathways network ##\n",
    "cmd_list_stringify_wp = ['string', 'stringify', 'colDisplayName=\"name\"', 'column=\"uniprot\"',\n",
    "                        'compoundQuery=\"false\"', 'includeNotMapped=\"false\"', \n",
    "                        'networkNoGui=\"Wikipathways WP4760 network uniprot\"', 'species=\"Homo sapiens\"']\n",
    "cmd_stringify_wp = \" \".join(cmd_list_stringify_wp)\n",
    "p4c.commands.commands_run(cmd_stringify_wp)\n",
    "p4c.rename_network(\"Wikipathways WP4760 network stringified\")"
   ]
  },
  {
   "cell_type": "code",
   "execution_count": 51,
   "metadata": {},
   "outputs": [
    {
     "data": {
      "text/plain": [
       "['']"
      ]
     },
     "execution_count": 51,
     "metadata": {},
     "output_type": "execute_result"
    }
   ],
   "source": [
    "## Set cutoff to string confidence ##\n",
    "change_cutoff_cmd_list = ['string change confidence', f'confidence={string_confidence}', 'network=\"Wikipathways WP4760 network stringified\"']\n",
    "change_cutoff_cmd = \" \".join(change_cutoff_cmd_list)\n",
    "p4c.commands.commands_run(change_cutoff_cmd)"
   ]
  },
  {
   "cell_type": "markdown",
   "metadata": {},
   "source": [
    "### Load STRING"
   ]
  },
  {
   "cell_type": "code",
   "execution_count": 52,
   "metadata": {},
   "outputs": [
    {
     "data": {
      "text/plain": [
       "{'network': 42582, 'title': 'STRING 0050954 network C0.4'}"
      ]
     },
     "execution_count": 52,
     "metadata": {},
     "output_type": "execute_result"
    }
   ],
   "source": [
    "## Load STRING network ##\n",
    "string_cmd_list = ['string disease query','disease=\"doid:0050954\"', 'species=\"Homo sapiens\"', 'limit=2000', f'cutoff={string_confidence}'] # 2000 proteins takes quite long\n",
    "string_cmd = \" \".join(string_cmd_list)\n",
    "p4c.commands.commands_run(string_cmd)\n",
    "p4c.rename_network(f\"STRING 0050954 network C{string_confidence}\")"
   ]
  },
  {
   "cell_type": "code",
   "execution_count": 54,
   "metadata": {},
   "outputs": [
    {
     "name": "stdout",
     "output_type": "stream",
     "text": [
      "['Wikipathways WP4760 network uniprot', 'Wikipathways WP4760 network stringified', 'STRING 0050954 network C0.4', 'KEGG hsa05017 network stringified', 'Wikipathways WP4760 network_1', 'KEGG hsa05017 network']\n",
      "26235 41686 42582\n"
     ]
    }
   ],
   "source": [
    "## Check whether networks are imported and store suids ##\n",
    "network_names = p4c.get_network_list()\n",
    "kegg_suid = p4c.get_network_suid(\"KEGG hsa05017 network stringified\")\n",
    "wiki_suid = p4c.get_network_suid(\"Wikipathways WP4760 network stringified\")\n",
    "string_suid = p4c.get_network_suid(f\"STRING 0050954 network C{string_confidence}\")\n",
    "\n",
    "print(network_names)\n",
    "print(kegg_suid, wiki_suid, string_suid)"
   ]
  },
  {
   "cell_type": "markdown",
   "metadata": {},
   "source": [
    "## Add database columns to tables\n",
    "This part is so that there is an extra column in every node table that indicates the database where the data is from. This way, in the merged network, it will be easier to find where the overlap is between the databases."
   ]
  },
  {
   "cell_type": "code",
   "execution_count": 55,
   "metadata": {},
   "outputs": [],
   "source": [
    "## Create dataframe with new column that indicates which database the data originates from ##\n",
    "kegg_nodes = p4c.get_all_nodes(kegg_suid)\n",
    "kegg_label_df = pd.DataFrame(data=kegg_nodes, columns=[\"shared name\"])\n",
    "kegg_label_df[\"kegg_db\"] = 1 # Column value will be 1 for all data in kegg network\n",
    "\n",
    "wiki_nodes = p4c.get_all_nodes(wiki_suid)\n",
    "wiki_label_df = pd.DataFrame(data=wiki_nodes, columns=[\"shared name\"])\n",
    "wiki_label_df[\"wiki_db\"] = 1 # Column value will be 1 for all data in wikipathways network\n",
    "\n",
    "string_04_nodes = p4c.get_all_nodes(string_suid)\n",
    "string_04_label_df = pd.DataFrame(data=string_04_nodes, columns=[\"shared name\"])\n",
    "string_04_label_df[\"string_db\"] = 1 # Column value will be 1 for all data in string network"
   ]
  },
  {
   "cell_type": "code",
   "execution_count": 56,
   "metadata": {},
   "outputs": [
    {
     "data": {
      "text/plain": [
       "''"
      ]
     },
     "execution_count": 56,
     "metadata": {},
     "output_type": "execute_result"
    }
   ],
   "source": [
    "## Merge dataframes with tables in networks ##\n",
    "p4c.set_current_network(kegg_suid)\n",
    "p4c.load_table_data(kegg_label_df, data_key_column=\"shared name\", network=kegg_suid)\n",
    "p4c.delete_table_column(\"row.names\") \n",
    "\n",
    "p4c.set_current_network(wiki_suid)\n",
    "p4c.load_table_data(wiki_label_df, data_key_column=\"shared name\", network=wiki_suid)\n",
    "p4c.delete_table_column(\"row.names\")\n",
    "\n",
    "p4c.set_current_network(string_suid)\n",
    "p4c.load_table_data(string_04_label_df, data_key_column=\"shared name\", network=string_suid)\n",
    "p4c.delete_table_column(\"row.names\")"
   ]
  },
  {
   "cell_type": "markdown",
   "metadata": {},
   "source": [
    "## Remove rows without canonical name\n",
    "To ensure that the merge will not give conflicting results because some of the column values are empty, all rows that do not have a Uniprot identifier (canonical name) will be removed."
   ]
  },
  {
   "cell_type": "code",
   "execution_count": 57,
   "metadata": {},
   "outputs": [
    {
     "name": "stdout",
     "output_type": "stream",
     "text": [
      "No edges selected.\n",
      "No nodes selected.\n",
      "No edges selected.\n",
      "No nodes selected.\n",
      "No edges selected.\n",
      "No edges selected.\n"
     ]
    },
    {
     "data": {
      "text/plain": [
       "{'nodes': [42866,\n",
       "  43460,\n",
       "  43529,\n",
       "  42824,\n",
       "  44228,\n",
       "  44612,\n",
       "  43520,\n",
       "  43913,\n",
       "  42767,\n",
       "  43871,\n",
       "  44696,\n",
       "  43103,\n",
       "  42878,\n",
       "  43988,\n",
       "  43685,\n",
       "  44936,\n",
       "  43670,\n",
       "  44090,\n",
       "  42965,\n",
       "  44891,\n",
       "  44420,\n",
       "  42884,\n",
       "  44486,\n",
       "  42911,\n",
       "  43421,\n",
       "  44441,\n",
       "  44060,\n",
       "  44021,\n",
       "  44549,\n",
       "  44378,\n",
       "  44075,\n",
       "  42905,\n",
       "  43433,\n",
       "  44153,\n",
       "  44132,\n",
       "  44003,\n",
       "  42875,\n",
       "  43571,\n",
       "  43535,\n",
       "  44165,\n",
       "  43349,\n",
       "  43442,\n",
       "  44141,\n",
       "  44453,\n",
       "  43892],\n",
       " 'edges': [73976,\n",
       "  91127,\n",
       "  65786,\n",
       "  82685,\n",
       "  89090,\n",
       "  45569,\n",
       "  52739,\n",
       "  87299,\n",
       "  88328,\n",
       "  79367,\n",
       "  48398,\n",
       "  73487,\n",
       "  89105,\n",
       "  89108,\n",
       "  87830,\n",
       "  71957,\n",
       "  70421,\n",
       "  51734,\n",
       "  72983,\n",
       "  89114,\n",
       "  77081,\n",
       "  68894,\n",
       "  49694,\n",
       "  89117,\n",
       "  89120,\n",
       "  64799,\n",
       "  88097,\n",
       "  88100,\n",
       "  89123,\n",
       "  88103,\n",
       "  89129,\n",
       "  63275,\n",
       "  89132,\n",
       "  47915,\n",
       "  89135,\n",
       "  89138,\n",
       "  49202,\n",
       "  84788,\n",
       "  88118,\n",
       "  54581,\n",
       "  89141,\n",
       "  88124,\n",
       "  78140,\n",
       "  88127,\n",
       "  88130,\n",
       "  49217,\n",
       "  82499,\n",
       "  88133,\n",
       "  59462,\n",
       "  77384,\n",
       "  90695,\n",
       "  88139,\n",
       "  63056,\n",
       "  78674,\n",
       "  53843,\n",
       "  92243,\n",
       "  87635,\n",
       "  83030,\n",
       "  92246,\n",
       "  51287,\n",
       "  88919,\n",
       "  59480,\n",
       "  54617,\n",
       "  92249,\n",
       "  74075,\n",
       "  84062,\n",
       "  60254,\n",
       "  92255,\n",
       "  92258,\n",
       "  91745,\n",
       "  51299,\n",
       "  88166,\n",
       "  92261,\n",
       "  92264,\n",
       "  51563,\n",
       "  81260,\n",
       "  60017,\n",
       "  55412,\n",
       "  64886,\n",
       "  72569,\n",
       "  81788,\n",
       "  92030,\n",
       "  78974,\n",
       "  78977,\n",
       "  62852,\n",
       "  92294,\n",
       "  69254,\n",
       "  80261,\n",
       "  84869,\n",
       "  84368,\n",
       "  83600,\n",
       "  48017,\n",
       "  45464,\n",
       "  66458,\n",
       "  59291,\n",
       "  92063,\n",
       "  80291,\n",
       "  85157,\n",
       "  62375,\n",
       "  73895,\n",
       "  89513,\n",
       "  81068,\n",
       "  85166,\n",
       "  56759,\n",
       "  83384,\n",
       "  81080,\n",
       "  80567,\n",
       "  64697,\n",
       "  80570,\n",
       "  72635,\n",
       "  72638,\n",
       "  48833,\n",
       "  84932,\n",
       "  76739,\n",
       "  92102,\n",
       "  49097,\n",
       "  89033,\n",
       "  64205,\n",
       "  56783,\n",
       "  64211,\n",
       "  88019,\n",
       "  57305,\n",
       "  87257,\n",
       "  74969,\n",
       "  48347,\n",
       "  86495,\n",
       "  53987,\n",
       "  85475,\n",
       "  50660,\n",
       "  88550,\n",
       "  73958,\n",
       "  80357,\n",
       "  84455,\n",
       "  82151,\n",
       "  70892,\n",
       "  50924,\n",
       "  88046,\n",
       "  81902]}"
      ]
     },
     "execution_count": 57,
     "metadata": {},
     "output_type": "execute_result"
    }
   ],
   "source": [
    "## Create filter for entries that don't have a stringdb canonical name (uniprot ID). Delete selected rows in each network. ##\n",
    "p4c.create_column_filter(filter_name=\"Columns without canonical name\", \n",
    "                         column=\"stringdb::canonical name\", \n",
    "                         criterion=\"\", predicate=\"DOES_NOT_CONTAIN\") \n",
    "\n",
    "# Apply filter and delete nodes for Wikipathways\n",
    "p4c.apply_filter(\"Columns without canonical name\", network=kegg_suid)\n",
    "p4c.delete_selected_nodes(kegg_suid)\n",
    "\n",
    "# Apply filter and delete nodes for Wikipathways\n",
    "p4c.apply_filter(\"Columns without canonical name\", network=wiki_suid)\n",
    "p4c.delete_selected_nodes(wiki_suid)\n",
    "\n",
    "# Apply filter and delete nodes for STRING networks\n",
    "p4c.apply_filter(\"Columns without canonical name\", network=string_suid)\n",
    "p4c.delete_selected_nodes(string_suid)"
   ]
  },
  {
   "cell_type": "markdown",
   "metadata": {},
   "source": [
    "# Network merging"
   ]
  },
  {
   "cell_type": "code",
   "execution_count": 59,
   "metadata": {},
   "outputs": [],
   "source": [
    "## Merge the three networks ##\n",
    "network_names = ['KEGG hsa05017 network stringified', f'STRING 0050954 network C{string_confidence}', 'Wikipathways WP4760 network stringified']\n",
    "node_keys_list = [\"stringdb::canonical name\", \"stringdb::canonical name\", \"stringdb::canonical name\"]\n",
    "merged_network_name = f\"Merged STRING KEGG Wiki network cutoff {string_confidence}\"\n",
    "\n",
    "## This try except structure is to catch a type error in the py4cytoscape library\n",
    "try: \n",
    "    p4c.merge_networks(sources=network_names, \n",
    "                       title=merged_network_name, \n",
    "                       node_keys=node_keys_list)\n",
    "except TypeError:\n",
    "    print(p4c.get_network_list())\n",
    "\n",
    "merged_network_suid = p4c.get_network_suid(merged_network_name)"
   ]
  },
  {
   "cell_type": "markdown",
   "metadata": {},
   "source": [
    "## Filtering database columns\n",
    "To check the overlap between the databases, a filter will be applied."
   ]
  },
  {
   "cell_type": "code",
   "execution_count": 61,
   "metadata": {},
   "outputs": [
    {
     "name": "stdout",
     "output_type": "stream",
     "text": [
      "database\n",
      "kegg                 80\n",
      "kegg;string          49\n",
      "kegg;wiki             4\n",
      "kegg;wiki;string      8\n",
      "string              630\n",
      "wiki                  7\n",
      "wiki;string           2\n",
      "Name: database, dtype: int64\n"
     ]
    },
    {
     "data": {
      "text/plain": [
       "''"
      ]
     },
     "execution_count": 61,
     "metadata": {},
     "output_type": "execute_result"
    }
   ],
   "source": [
    "## Create dataframe with the column indicators ##\n",
    "database_filter_df = p4c.get_table_columns('node', columns=[\"name\", \"kegg_db\", \"wiki_db\", \"string_db\"], network=merged_network_suid)\n",
    "database_filter_df[\"database\"] = \"\" # Create new column with empty string values\n",
    "\n",
    "## Give the database column a value based on which databases the nodes are from\n",
    "database_filter_df.loc[(database_filter_df['kegg_db'] == 1) & (database_filter_df[\"string_db\"] == 1) &\n",
    "                    (database_filter_df[\"wiki_db\"] == 1), \"database\"] = \"kegg;wiki;string\"\n",
    "database_filter_df.loc[(database_filter_df['kegg_db'] == 1) & (database_filter_df[\"string_db\"] == 1) &\n",
    "                    (database_filter_df[\"wiki_db\"] != 1), \"database\"] = \"kegg;string\"\n",
    "database_filter_df.loc[(database_filter_df['kegg_db'] == 1) & (database_filter_df[\"string_db\"] != 1) &\n",
    "                    (database_filter_df[\"wiki_db\"] == 1), \"database\"] = \"kegg;wiki\"\n",
    "database_filter_df.loc[(database_filter_df['kegg_db'] != 1) & (database_filter_df[\"string_db\"] == 1) &\n",
    "                    (database_filter_df[\"wiki_db\"] == 1), \"database\"] = \"wiki;string\"\n",
    "database_filter_df.loc[(database_filter_df['kegg_db'] == 1) & (database_filter_df[\"string_db\"] != 1) &\n",
    "                    (database_filter_df[\"wiki_db\"] != 1), \"database\"] = \"kegg\"\n",
    "database_filter_df.loc[((database_filter_df['kegg_db'] != 1) & (database_filter_df[\"string_db\"] != 1)) &\n",
    "                    (database_filter_df[\"wiki_db\"] == 1), \"database\"] = \"wiki\"\n",
    "database_filter_df.loc[(database_filter_df['kegg_db'] != 1) & (database_filter_df[\"string_db\"] == 1) &\n",
    "                    (database_filter_df[\"wiki_db\"] != 1), \"database\"] = \"string\"\n",
    "\n",
    "print(database_filter_df.groupby(\"database\")[\"database\"].count()) # Give the distribution of nodes in the merged network\n",
    "\n",
    "p4c.set_current_network(merged_network_suid)\n",
    "p4c.load_table_data(database_filter_df, data_key_column=\"name\") # Add the database filter column to the network\n",
    "p4c.delete_table_column(\"row.names\")"
   ]
  },
  {
   "cell_type": "markdown",
   "metadata": {},
   "source": [
    "## Network expansion\n",
    "Expand the merged network with another 2000 nodes"
   ]
  },
  {
   "cell_type": "code",
   "execution_count": 62,
   "metadata": {},
   "outputs": [],
   "source": [
    "## Expand Merged STRING_0.4 KEGG Wiki network ##\n",
    "p4c.clone_network(merged_network_suid) # Creates a clone of the merged network, with \"_1\" added to the name\n",
    "expansion_cmd_list = ['string expand', 'additionalNodes=2000', f'network=\"{merged_network_name}_1\"', \n",
    "                      'nodeTypes=\"Homo sapiens\"', 'selectivityAlpha=0.5']\n",
    "expansion_cmd = \" \".join(expansion_cmd_list)\n",
    "p4c.commands.commands_run(expansion_cmd)\n",
    "p4c.rename_network(f\"{merged_network_name} expanded\")\n",
    "merged_network_expanded_suid = p4c.get_network_suid(f\"{merged_network_name} expanded\")"
   ]
  },
  {
   "cell_type": "markdown",
   "metadata": {},
   "source": [
    "## Visualization\n",
    "More additional visualization can be done in Cytoscape itself, this only visualizes the database distribution and the nervous tissue confidence."
   ]
  },
  {
   "cell_type": "code",
   "execution_count": 63,
   "metadata": {},
   "outputs": [
    {
     "data": {
      "text/plain": [
       "''"
      ]
     },
     "execution_count": 63,
     "metadata": {},
     "output_type": "execute_result"
    }
   ],
   "source": [
    "## Set color of nodes according to a gradient for the confidence that the protein is active in the nervous system\n",
    "if \"ADCN style\" not in p4c.get_visual_style_names():\n",
    "    p4c.create_visual_style(\"ADCN style\")\n",
    "\n",
    "p4c.set_current_network(merged_network_expanded_suid)\n",
    "p4c.set_node_color_mapping(**p4c.gen_node_color_map('tissue::nervous system', p4c.palette_color_brewer_s_YlOrBr(), style_name=\"ADCN style\"))"
   ]
  },
  {
   "cell_type": "code",
   "execution_count": 64,
   "metadata": {},
   "outputs": [
    {
     "data": {
      "text/plain": [
       "''"
      ]
     },
     "execution_count": 64,
     "metadata": {},
     "output_type": "execute_result"
    }
   ],
   "source": [
    "## Set shape of nodes according to database values\n",
    "database_values = [\"kegg\", \"string\", \"wiki\", \"kegg;string\", \"kegg;wiki\", \"wiki;string\", \"kegg;wiki;string\"]\n",
    "mapping_shapes = [\"HEXAGON\", \"ROUND_RECTANGLE\", \"VEE\", \"PARALLELOGRAM\", \"DIAMOND\", \"ELLIPSE\", \"TRIANGLE\"]\n",
    "\n",
    "p4c.set_node_shape_mapping(table_column=\"database\", table_column_values=database_values,\n",
    "                            shapes=mapping_shapes, default_shape=\"RECTANGLE\", style_name=\"ADCN style\")"
   ]
  },
  {
   "cell_type": "code",
   "execution_count": 65,
   "metadata": {},
   "outputs": [
    {
     "data": {
      "text/plain": [
       "{'message': 'Visual Style applied.'}"
      ]
     },
     "execution_count": 65,
     "metadata": {},
     "output_type": "execute_result"
    }
   ],
   "source": [
    "## Set ADCN style for the two networks\n",
    "p4c.set_visual_style(\"ADCN style\", merged_network_suid)\n",
    "p4c.set_visual_style(\"ADCN style\", merged_network_expanded_suid)"
   ]
  },
  {
   "cell_type": "markdown",
   "metadata": {},
   "source": [
    "## Analyse the networks\n",
    "Analyse the normal and expanded networks with the analysis software from Cytoscape"
   ]
  },
  {
   "cell_type": "code",
   "execution_count": 66,
   "metadata": {},
   "outputs": [
    {
     "name": "stdout",
     "output_type": "stream",
     "text": [
      "                                                                0\n",
      "networkTitle    Merged STRING KEGG Wiki network cutoff 0.4 (un...\n",
      "nodeCount                                                     780\n",
      "edgeCount                                                   17121\n",
      "avNeighbors                                     45.05151915455746\n",
      "diameter                                                        6\n",
      "radius                                                          3\n",
      "avSpl                                          2.4476560916455234\n",
      "cc                                             0.4826698757444982\n",
      "density                                      0.059591956553647435\n",
      "heterogeneity                                  1.0104566554841483\n",
      "centralization                                0.30099162549493674\n",
      "ncc                                                            22\n",
      "time                                                        0.598\n"
     ]
    }
   ],
   "source": [
    "## Analyse network\n",
    "p4c.set_current_network(merged_network_suid)\n",
    "analysis = p4c.analyze_network()\n",
    "analysis_df = pd.DataFrame.from_dict(analysis, 'index')\n",
    "print(analysis_df)"
   ]
  },
  {
   "cell_type": "code",
   "execution_count": 67,
   "metadata": {},
   "outputs": [
    {
     "name": "stdout",
     "output_type": "stream",
     "text": [
      "                                                                0\n",
      "networkTitle    Merged STRING KEGG Wiki network cutoff 0.4 exp...\n",
      "nodeCount                                                    2780\n",
      "edgeCount                                                  208707\n",
      "avNeighbors                                    150.64259927797835\n",
      "diameter                                                        6\n",
      "radius                                                          3\n",
      "avSpl                                           2.152426881943331\n",
      "cc                                            0.40181811772066695\n",
      "density                                       0.05440325001010413\n",
      "heterogeneity                                  0.8164134752615942\n",
      "centralization                                 0.4244152852493649\n",
      "ncc                                                            11\n",
      "time                                                       17.448\n"
     ]
    }
   ],
   "source": [
    "## Analyse expanded network\n",
    "p4c.set_current_network(merged_network_expanded_suid)\n",
    "analysis_expanded = p4c.analyze_network()\n",
    "analysis_expanded_df = pd.DataFrame.from_dict(analysis_expanded, 'index')\n",
    "print(analysis_expanded_df)"
   ]
  }
 ],
 "metadata": {
  "kernelspec": {
   "display_name": "Python 3 (ipykernel)",
   "language": "python",
   "name": "python3"
  },
  "language_info": {
   "codemirror_mode": {
    "name": "ipython",
    "version": 3
   },
   "file_extension": ".py",
   "mimetype": "text/x-python",
   "name": "python",
   "nbconvert_exporter": "python",
   "pygments_lexer": "ipython3",
   "version": "3.11.5"
  }
 },
 "nbformat": 4,
 "nbformat_minor": 2
}
