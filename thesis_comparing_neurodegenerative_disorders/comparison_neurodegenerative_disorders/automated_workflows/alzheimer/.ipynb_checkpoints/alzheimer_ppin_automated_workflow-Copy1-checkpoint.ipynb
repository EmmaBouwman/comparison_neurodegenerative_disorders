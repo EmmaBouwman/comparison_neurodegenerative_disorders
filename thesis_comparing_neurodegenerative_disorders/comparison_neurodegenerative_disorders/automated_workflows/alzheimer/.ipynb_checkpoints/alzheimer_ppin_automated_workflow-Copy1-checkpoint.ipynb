{
 "cells": [
  {
   "cell_type": "markdown",
   "metadata": {},
   "source": [
    "# Alzheimer consensus network automated workflow\n",
    "This notebook gives a workflow for creating a consensus protein-protein interaction network using the library *py4cytoscape*. This uses the *CyREST* framework to make contact with Cytoscape where the commands will be executed. So, the **Cytoscape app needs to be opened in the browser** when executing this file. Also, pay attention to the amount of proteins imported from STRING, there are 2000 proteins imported and an additional 2000 for the expansion. Running the whole workflow can then take up to thirty minutes."
   ]
  },
  {
   "cell_type": "markdown",
   "metadata": {},
   "source": [
    "## Setup"
   ]
  },
  {
   "cell_type": "code",
   "execution_count": 1,
   "metadata": {},
   "outputs": [
    {
     "name": "stdout",
     "output_type": "stream",
     "text": [
      "Requirement already satisfied: py4cytoscape in c:\\users\\emmab\\anaconda3\\lib\\site-packages (1.9.0)\n",
      "Requirement already satisfied: pandas in c:\\users\\emmab\\anaconda3\\lib\\site-packages (from py4cytoscape) (2.0.3)\n",
      "Requirement already satisfied: networkx in c:\\users\\emmab\\anaconda3\\lib\\site-packages (from py4cytoscape) (3.1)\n",
      "Requirement already satisfied: requests in c:\\users\\emmab\\anaconda3\\lib\\site-packages (from py4cytoscape) (2.31.0)\n",
      "Requirement already satisfied: igraph in c:\\users\\emmab\\anaconda3\\lib\\site-packages (from py4cytoscape) (0.11.4)\n",
      "Requirement already satisfied: colorbrewer in c:\\users\\emmab\\anaconda3\\lib\\site-packages (from py4cytoscape) (0.2.0)\n",
      "Requirement already satisfied: chardet in c:\\users\\emmab\\anaconda3\\lib\\site-packages (from py4cytoscape) (4.0.0)\n",
      "Requirement already satisfied: decorator in c:\\users\\emmab\\anaconda3\\lib\\site-packages (from py4cytoscape) (5.1.1)\n",
      "Requirement already satisfied: backoff in c:\\users\\emmab\\anaconda3\\lib\\site-packages (from py4cytoscape) (2.2.1)\n",
      "Requirement already satisfied: colour in c:\\users\\emmab\\anaconda3\\lib\\site-packages (from py4cytoscape) (0.1.5)\n",
      "Requirement already satisfied: six in c:\\users\\emmab\\anaconda3\\lib\\site-packages (from colorbrewer->py4cytoscape) (1.16.0)\n",
      "Requirement already satisfied: texttable>=1.6.2 in c:\\users\\emmab\\anaconda3\\lib\\site-packages (from igraph->py4cytoscape) (1.7.0)\n",
      "Requirement already satisfied: python-dateutil>=2.8.2 in c:\\users\\emmab\\anaconda3\\lib\\site-packages (from pandas->py4cytoscape) (2.8.2)\n",
      "Requirement already satisfied: pytz>=2020.1 in c:\\users\\emmab\\anaconda3\\lib\\site-packages (from pandas->py4cytoscape) (2023.3.post1)\n",
      "Requirement already satisfied: tzdata>=2022.1 in c:\\users\\emmab\\anaconda3\\lib\\site-packages (from pandas->py4cytoscape) (2023.3)\n",
      "Requirement already satisfied: numpy>=1.21.0 in c:\\users\\emmab\\anaconda3\\lib\\site-packages (from pandas->py4cytoscape) (1.24.3)\n",
      "Requirement already satisfied: charset-normalizer<4,>=2 in c:\\users\\emmab\\anaconda3\\lib\\site-packages (from requests->py4cytoscape) (2.0.4)\n",
      "Requirement already satisfied: idna<4,>=2.5 in c:\\users\\emmab\\anaconda3\\lib\\site-packages (from requests->py4cytoscape) (3.4)\n",
      "Requirement already satisfied: urllib3<3,>=1.21.1 in c:\\users\\emmab\\anaconda3\\lib\\site-packages (from requests->py4cytoscape) (1.26.16)\n",
      "Requirement already satisfied: certifi>=2017.4.17 in c:\\users\\emmab\\anaconda3\\lib\\site-packages (from requests->py4cytoscape) (2024.2.2)\n",
      "Note: you may need to restart the kernel to use updated packages.\n"
     ]
    }
   ],
   "source": [
    "pip install py4cytoscape"
   ]
  },
  {
   "cell_type": "code",
   "execution_count": 2,
   "metadata": {},
   "outputs": [],
   "source": [
    "## Imports\n",
    "import py4cytoscape as p4c\n",
    "import pandas as pd"
   ]
  },
  {
   "cell_type": "code",
   "execution_count": 3,
   "metadata": {
    "scrolled": true
   },
   "outputs": [
    {
     "data": {
      "text/plain": [
       "{'apiVersion': 'v1',\n",
       " 'cytoscapeVersion': '3.10.1',\n",
       " 'automationAPIVersion': '1.9.0',\n",
       " 'py4cytoscapeVersion': '1.9.0'}"
      ]
     },
     "execution_count": 3,
     "metadata": {},
     "output_type": "execute_result"
    }
   ],
   "source": [
    "## Execute to check whether contact with the Cytoscape app via CyREST works \n",
    "p4c.cytoscape_version_info()"
   ]
  },
  {
   "cell_type": "markdown",
   "metadata": {},
   "source": [
    "## Load networks\n",
    "Three types of networks will be loaded, firstly from KEGG, then Wikipathways and lastly STRING. It is important to indicate the desired STRING cutoff score in the beginning, which will influence the number of edges in the network. "
   ]
  },
  {
   "cell_type": "markdown",
   "metadata": {},
   "source": [
    "### Load KEGG"
   ]
  },
  {
   "cell_type": "code",
   "execution_count": 42,
   "metadata": {},
   "outputs": [],
   "source": [
    "## Set string confidence in a variable with 0 > confidence >= 1.0 ##\n",
    "string_confidence = 0.4"
   ]
  },
  {
   "cell_type": "code",
   "execution_count": 5,
   "metadata": {},
   "outputs": [
    {
     "data": {
      "text/plain": [
       "{'network': 128, 'title': 'KEGG AD hsa05010 network'}"
      ]
     },
     "execution_count": 5,
     "metadata": {},
     "output_type": "execute_result"
    }
   ],
   "source": [
    "## Load KEGG network ##\n",
    "p4c.networks.import_network_from_file(\"AD_hsa05010.gml\")\n",
    "p4c.layout_network('force-directed', network=\"current\") # the gml file does not contain any layout information so layout has to be set\n",
    "p4c.rename_network(\"KEGG AD hsa05010 network\")"
   ]
  },
  {
   "cell_type": "code",
   "execution_count": 6,
   "metadata": {},
   "outputs": [
    {
     "data": {
      "text/plain": [
       "{'network': 17172, 'title': 'KEGG AD hsa05010 network stringified'}"
      ]
     },
     "execution_count": 6,
     "metadata": {},
     "output_type": "execute_result"
    }
   ],
   "source": [
    "## Create a Stringified version of KEGG network ##\n",
    "cmd_list = ['string', 'stringify', 'colDisplayName=\"name\"', 'column=\"uniprot\"',\n",
    "            'compoundQuery=\"false\"', 'includeNotMapped=\"false\"', \n",
    "            'networkNoGui=\"KEGG AD hsa05010 network\"', 'species=\"Homo sapiens\"']\n",
    "cmd = \" \".join(cmd_list)\n",
    "p4c.commands.commands_run(cmd) \n",
    "p4c.rename_network(\"KEGG AD hsa05010 network stringified\")"
   ]
  },
  {
   "cell_type": "code",
   "execution_count": 7,
   "metadata": {},
   "outputs": [
    {
     "data": {
      "text/plain": [
       "['']"
      ]
     },
     "execution_count": 7,
     "metadata": {},
     "output_type": "execute_result"
    }
   ],
   "source": [
    "## Set cutoff ##\n",
    "change_cutoff_cmd_list = ['string change confidence', f'confidence={string_confidence}', 'network=\"KEGG AD hsa05010 network stringified\"']\n",
    "change_cutoff_cmd = \" \".join(change_cutoff_cmd_list)\n",
    "p4c.commands.commands_run(change_cutoff_cmd)"
   ]
  },
  {
   "cell_type": "markdown",
   "metadata": {},
   "source": [
    "### Load Wikipathways "
   ]
  },
  {
   "cell_type": "code",
   "execution_count": 9,
   "metadata": {},
   "outputs": [
    {
     "data": {
      "text/plain": [
       "{'network': 69854, 'title': 'Wikipathways AD WP5124 network'}"
      ]
     },
     "execution_count": 9,
     "metadata": {},
     "output_type": "execute_result"
    }
   ],
   "source": [
    "## Load Wikipathways network ##\n",
    "cmd_list = ['wikipathways','import-as-network','id=\"WP5124\"']\n",
    "cmd = \" \".join(cmd_list)\n",
    "p4c.commands.commands_get(cmd) \n",
    "p4c.rename_network(\"Wikipathways AD WP5124 network\")"
   ]
  },
  {
   "cell_type": "code",
   "execution_count": 10,
   "metadata": {},
   "outputs": [
    {
     "data": {
      "text/plain": [
       "{'network': 69854, 'title': 'Wikipathways AD WP5124 network uniprot'}"
      ]
     },
     "execution_count": 10,
     "metadata": {},
     "output_type": "execute_result"
    }
   ],
   "source": [
    "## Clone and rename Wikipathways network ##\n",
    "p4c.clone_network(\"Wikipathways AD WP5124 network\")\n",
    "p4c.rename_network(title=\"Wikipathways AD WP5124 network uniprot\", network=\"Wikipathways AD WP5124 network\")"
   ]
  },
  {
   "cell_type": "code",
   "execution_count": 17,
   "metadata": {},
   "outputs": [
    {
     "data": {
      "text/plain": [
       "{'mappedTables': [69825, 69863]}"
      ]
     },
     "execution_count": 17,
     "metadata": {},
     "output_type": "execute_result"
    }
   ],
   "source": [
    "## Add uniprot columns to Wikipathways network ##\n",
    "p4c.load_table_data_from_file(\"wikipathway_to_uniprot_AD.xlsx\", first_row_as_column_names=True,\n",
    "                              data_key_column_index=1, network=\"Wikipathways AD WP5124 network uniprot\")"
   ]
  },
  {
   "cell_type": "code",
   "execution_count": 18,
   "metadata": {},
   "outputs": [
    {
     "name": "stdout",
     "output_type": "stream",
     "text": [
      "No edges selected.\n",
      "No edges selected.\n"
     ]
    },
    {
     "data": {
      "text/plain": [
       "{'nodes': [71603,\n",
       "  70285,\n",
       "  70042,\n",
       "  70102,\n",
       "  70994,\n",
       "  71240,\n",
       "  70967,\n",
       "  71573,\n",
       "  69982,\n",
       "  71233,\n",
       "  71129,\n",
       "  71552,\n",
       "  70276,\n",
       "  71354,\n",
       "  71074,\n",
       "  71537,\n",
       "  71394,\n",
       "  70958,\n",
       "  71579,\n",
       "  71594,\n",
       "  70099,\n",
       "  71528,\n",
       "  69994,\n",
       "  71387,\n",
       "  70855,\n",
       "  71418,\n",
       "  71585,\n",
       "  71267,\n",
       "  71432,\n",
       "  71034,\n",
       "  70928,\n",
       "  70024,\n",
       "  71041,\n",
       "  70015,\n",
       "  71618,\n",
       "  69976,\n",
       "  71122,\n",
       "  70908,\n",
       "  71525,\n",
       "  71112,\n",
       "  71119,\n",
       "  69985,\n",
       "  70282,\n",
       "  71332,\n",
       "  71558,\n",
       "  70915,\n",
       "  71249,\n",
       "  71543,\n",
       "  69973,\n",
       "  70309,\n",
       "  69979,\n",
       "  70033,\n",
       "  71935,\n",
       "  70105,\n",
       "  71452,\n",
       "  71567,\n",
       "  71048,\n",
       "  71597,\n",
       "  71020,\n",
       "  70941,\n",
       "  72065,\n",
       "  70039,\n",
       "  71600,\n",
       "  71561,\n",
       "  71621,\n",
       "  71570,\n",
       "  70901,\n",
       "  71335,\n",
       "  70018,\n",
       "  72060,\n",
       "  71546,\n",
       "  70279,\n",
       "  70012,\n",
       "  69991,\n",
       "  71027,\n",
       "  70339,\n",
       "  71540,\n",
       "  70171,\n",
       "  71852,\n",
       "  71296,\n",
       "  71303,\n",
       "  71230,\n",
       "  71083,\n",
       "  71564,\n",
       "  71156,\n",
       "  71474,\n",
       "  70093,\n",
       "  70096,\n",
       "  71555,\n",
       "  71258,\n",
       "  71509,\n",
       "  71615,\n",
       "  71576,\n",
       "  71325,\n",
       "  71606,\n",
       "  71310,\n",
       "  70027,\n",
       "  71097,\n",
       "  71227,\n",
       "  71588,\n",
       "  71378,\n",
       "  70030,\n",
       "  69970,\n",
       "  70000,\n",
       "  70852,\n",
       "  71512,\n",
       "  71534,\n",
       "  71549,\n",
       "  69967,\n",
       "  71609,\n",
       "  71361,\n",
       "  71149,\n",
       "  71086,\n",
       "  71142,\n",
       "  71441,\n",
       "  71063,\n",
       "  70264,\n",
       "  71612,\n",
       "  71582,\n",
       "  71287,\n",
       "  70003,\n",
       "  70862,\n",
       "  71457,\n",
       "  71003,\n",
       "  71274,\n",
       "  71591,\n",
       "  70009,\n",
       "  70108,\n",
       "  71411,\n",
       "  71425,\n",
       "  71531],\n",
       " 'edges': [71663,\n",
       "  71666,\n",
       "  71669,\n",
       "  71672,\n",
       "  71675,\n",
       "  71678,\n",
       "  71681,\n",
       "  71687,\n",
       "  71693,\n",
       "  71696,\n",
       "  71702,\n",
       "  71705,\n",
       "  71708,\n",
       "  71711,\n",
       "  71717,\n",
       "  71720,\n",
       "  71723,\n",
       "  71726,\n",
       "  71732,\n",
       "  71735,\n",
       "  71738,\n",
       "  71741,\n",
       "  71744,\n",
       "  71747,\n",
       "  71750,\n",
       "  71753,\n",
       "  71762,\n",
       "  71765,\n",
       "  71768,\n",
       "  71771,\n",
       "  71774,\n",
       "  71777,\n",
       "  71780,\n",
       "  71783,\n",
       "  71786,\n",
       "  71789,\n",
       "  71792,\n",
       "  71795,\n",
       "  71798,\n",
       "  71801,\n",
       "  71804,\n",
       "  71807,\n",
       "  71810,\n",
       "  71816,\n",
       "  71819,\n",
       "  71822,\n",
       "  71825,\n",
       "  71828,\n",
       "  71834,\n",
       "  71837,\n",
       "  71840,\n",
       "  71843,\n",
       "  71849,\n",
       "  71854,\n",
       "  71857,\n",
       "  71866,\n",
       "  71869,\n",
       "  71872,\n",
       "  71875,\n",
       "  71878,\n",
       "  70857,\n",
       "  71881,\n",
       "  71884,\n",
       "  70859,\n",
       "  70864,\n",
       "  71890,\n",
       "  70866,\n",
       "  70868,\n",
       "  70870,\n",
       "  71893,\n",
       "  71896,\n",
       "  70872,\n",
       "  70874,\n",
       "  70876,\n",
       "  71899,\n",
       "  71902,\n",
       "  70878,\n",
       "  70880,\n",
       "  70882,\n",
       "  71905,\n",
       "  71908,\n",
       "  70884,\n",
       "  70886,\n",
       "  70888,\n",
       "  71911,\n",
       "  71914,\n",
       "  70890,\n",
       "  70892,\n",
       "  70894,\n",
       "  71917,\n",
       "  71920,\n",
       "  70896,\n",
       "  70898,\n",
       "  71923,\n",
       "  70903,\n",
       "  71929,\n",
       "  70905,\n",
       "  71932,\n",
       "  70910,\n",
       "  70912,\n",
       "  71937,\n",
       "  71940,\n",
       "  70917,\n",
       "  70919,\n",
       "  70921,\n",
       "  70923,\n",
       "  70925,\n",
       "  71949,\n",
       "  71952,\n",
       "  70930,\n",
       "  70932,\n",
       "  71955,\n",
       "  71958,\n",
       "  70934,\n",
       "  70936,\n",
       "  70938,\n",
       "  71964,\n",
       "  71967,\n",
       "  70943,\n",
       "  71970,\n",
       "  70945,\n",
       "  70947,\n",
       "  71973,\n",
       "  70949,\n",
       "  71976,\n",
       "  70951,\n",
       "  70953,\n",
       "  71979,\n",
       "  70955,\n",
       "  71982,\n",
       "  70960,\n",
       "  70962,\n",
       "  71985,\n",
       "  70964,\n",
       "  71988,\n",
       "  71991,\n",
       "  71994,\n",
       "  70969,\n",
       "  70971,\n",
       "  70973,\n",
       "  71997,\n",
       "  70975,\n",
       "  70977,\n",
       "  70979,\n",
       "  72003,\n",
       "  70981,\n",
       "  70983,\n",
       "  72009,\n",
       "  70985,\n",
       "  72012,\n",
       "  70987,\n",
       "  70989,\n",
       "  70991,\n",
       "  72015,\n",
       "  72018,\n",
       "  70996,\n",
       "  70998,\n",
       "  72021,\n",
       "  71000,\n",
       "  72024,\n",
       "  72027,\n",
       "  71005,\n",
       "  71007,\n",
       "  72033,\n",
       "  71009,\n",
       "  72036,\n",
       "  71011,\n",
       "  71013,\n",
       "  72039,\n",
       "  71015,\n",
       "  72042,\n",
       "  71017,\n",
       "  71022,\n",
       "  72045,\n",
       "  71024,\n",
       "  72048,\n",
       "  72051,\n",
       "  72054,\n",
       "  71029,\n",
       "  71031,\n",
       "  71036,\n",
       "  71038,\n",
       "  72062,\n",
       "  71043,\n",
       "  72067,\n",
       "  72070,\n",
       "  71045,\n",
       "  71050,\n",
       "  72073,\n",
       "  72076,\n",
       "  71052,\n",
       "  71054,\n",
       "  71056,\n",
       "  71058,\n",
       "  72082,\n",
       "  71060,\n",
       "  72085,\n",
       "  72088,\n",
       "  71065,\n",
       "  72091,\n",
       "  71067,\n",
       "  72094,\n",
       "  71069,\n",
       "  71071,\n",
       "  72097,\n",
       "  71076,\n",
       "  72100,\n",
       "  71078,\n",
       "  71080,\n",
       "  72103,\n",
       "  72106,\n",
       "  72109,\n",
       "  72112,\n",
       "  71088,\n",
       "  71090,\n",
       "  71092,\n",
       "  72118,\n",
       "  71094,\n",
       "  72121,\n",
       "  72124,\n",
       "  71099,\n",
       "  71101,\n",
       "  72127,\n",
       "  71103,\n",
       "  72130,\n",
       "  71105,\n",
       "  71107,\n",
       "  72133,\n",
       "  71109,\n",
       "  72136,\n",
       "  71114,\n",
       "  71116,\n",
       "  72139,\n",
       "  71124,\n",
       "  71126,\n",
       "  71131,\n",
       "  71133,\n",
       "  71135,\n",
       "  71137,\n",
       "  71139,\n",
       "  71144,\n",
       "  71146,\n",
       "  71151,\n",
       "  71153,\n",
       "  71158,\n",
       "  71160,\n",
       "  71162,\n",
       "  71164,\n",
       "  71166,\n",
       "  71168,\n",
       "  71170,\n",
       "  71172,\n",
       "  71174,\n",
       "  71176,\n",
       "  71178,\n",
       "  71180,\n",
       "  71182,\n",
       "  71184,\n",
       "  71186,\n",
       "  71188,\n",
       "  71190,\n",
       "  71192,\n",
       "  71194,\n",
       "  71196,\n",
       "  71198,\n",
       "  71200,\n",
       "  71202,\n",
       "  71204,\n",
       "  71206,\n",
       "  71208,\n",
       "  71210,\n",
       "  71212,\n",
       "  71214,\n",
       "  71216,\n",
       "  71218,\n",
       "  71220,\n",
       "  71222,\n",
       "  71224,\n",
       "  71235,\n",
       "  71237,\n",
       "  71242,\n",
       "  71244,\n",
       "  71246,\n",
       "  71251,\n",
       "  71253,\n",
       "  71255,\n",
       "  71260,\n",
       "  71262,\n",
       "  71264,\n",
       "  71269,\n",
       "  71271,\n",
       "  71276,\n",
       "  71278,\n",
       "  71280,\n",
       "  71282,\n",
       "  71284,\n",
       "  71289,\n",
       "  71291,\n",
       "  71293,\n",
       "  71298,\n",
       "  71300,\n",
       "  71305,\n",
       "  71307,\n",
       "  71312,\n",
       "  71314,\n",
       "  71316,\n",
       "  71318,\n",
       "  71320,\n",
       "  71322,\n",
       "  71327,\n",
       "  71329,\n",
       "  71337,\n",
       "  71339,\n",
       "  71341,\n",
       "  71343,\n",
       "  71345,\n",
       "  71347,\n",
       "  71349,\n",
       "  71351,\n",
       "  71356,\n",
       "  71358,\n",
       "  71363,\n",
       "  71365,\n",
       "  71367,\n",
       "  71369,\n",
       "  71371,\n",
       "  71373,\n",
       "  71375,\n",
       "  71380,\n",
       "  71382,\n",
       "  71384,\n",
       "  71389,\n",
       "  71391,\n",
       "  71396,\n",
       "  71398,\n",
       "  71400,\n",
       "  71402,\n",
       "  71404,\n",
       "  71406,\n",
       "  71408,\n",
       "  71413,\n",
       "  71415,\n",
       "  71420,\n",
       "  71422,\n",
       "  71427,\n",
       "  71429,\n",
       "  71434,\n",
       "  71436,\n",
       "  71438,\n",
       "  71443,\n",
       "  71445,\n",
       "  71447,\n",
       "  71449,\n",
       "  71454,\n",
       "  71459,\n",
       "  71461,\n",
       "  71463,\n",
       "  71465,\n",
       "  71467,\n",
       "  71469,\n",
       "  71471,\n",
       "  71476,\n",
       "  71478,\n",
       "  71480,\n",
       "  71482,\n",
       "  71484,\n",
       "  71486,\n",
       "  71488,\n",
       "  71490,\n",
       "  71492,\n",
       "  71494,\n",
       "  71496,\n",
       "  71498,\n",
       "  71500,\n",
       "  71502,\n",
       "  71504,\n",
       "  71506,\n",
       "  71514,\n",
       "  71516,\n",
       "  71518,\n",
       "  71520,\n",
       "  71522,\n",
       "  71624,\n",
       "  71627,\n",
       "  71630,\n",
       "  71633,\n",
       "  71636,\n",
       "  71642,\n",
       "  71645,\n",
       "  71648,\n",
       "  71651,\n",
       "  71654,\n",
       "  71657,\n",
       "  71660]}"
      ]
     },
     "execution_count": 18,
     "metadata": {},
     "output_type": "execute_result"
    }
   ],
   "source": [
    "## Remove nodes without uniprot ID ##\n",
    "p4c.create_column_filter(filter_name=\"Columns without uniprot\", \n",
    "                         column=\"uniprot\", \n",
    "                         criterion=\"\", predicate=\"DOES_NOT_CONTAIN\") \n",
    "\n",
    "# Apply filter and delete nodes for Wikipathways\n",
    "p4c.apply_filter(\"Columns without uniprot\", network=\"Wikipathways AD WP5124 network uniprot\")\n",
    "p4c.delete_selected_nodes(\"Wikipathways AD WP5124 network uniprot\")"
   ]
  },
  {
   "cell_type": "code",
   "execution_count": 19,
   "metadata": {},
   "outputs": [
    {
     "data": {
      "text/plain": [
       "{'network': 82283, 'title': 'Wikipathways AD WP5124 network stringified'}"
      ]
     },
     "execution_count": 19,
     "metadata": {},
     "output_type": "execute_result"
    }
   ],
   "source": [
    "## Create a Stringified version of Wikipathways network ##\n",
    "cmd_list_stringify_wp = ['string', 'stringify', 'colDisplayName=\"name\"', 'column=\"uniprot\"',\n",
    "                        'compoundQuery=\"false\"', 'includeNotMapped=\"false\"', \n",
    "                        'networkNoGui=\"Wikipathways AD WP5124 network uniprot\"', 'species=\"Homo sapiens\"']\n",
    "cmd_stringify_wp = \" \".join(cmd_list_stringify_wp)\n",
    "p4c.commands.commands_run(cmd_stringify_wp)\n",
    "p4c.rename_network(\"Wikipathways AD WP5124 network stringified\")"
   ]
  },
  {
   "cell_type": "code",
   "execution_count": 20,
   "metadata": {},
   "outputs": [
    {
     "data": {
      "text/plain": [
       "['']"
      ]
     },
     "execution_count": 20,
     "metadata": {},
     "output_type": "execute_result"
    }
   ],
   "source": [
    "## Set cutoff to string confidence ##\n",
    "change_cutoff_cmd_list = ['string change confidence', f'confidence={string_confidence}', 'network=\"Wikipathways AD WP5124 network stringified\"']\n",
    "change_cutoff_cmd = \" \".join(change_cutoff_cmd_list)\n",
    "p4c.commands.commands_run(change_cutoff_cmd)"
   ]
  },
  {
   "cell_type": "markdown",
   "metadata": {},
   "source": [
    "### Load STRING"
   ]
  },
  {
   "cell_type": "code",
   "execution_count": 64,
   "metadata": {},
   "outputs": [
    {
     "ename": "AttributeError",
     "evalue": "module 'py4cytoscape' has no attribute 'set_verbosity'",
     "output_type": "error",
     "traceback": [
      "\u001b[1;31m---------------------------------------------------------------------------\u001b[0m",
      "\u001b[1;31mAttributeError\u001b[0m                            Traceback (most recent call last)",
      "Cell \u001b[1;32mIn[64], line 4\u001b[0m\n\u001b[0;32m      2\u001b[0m string_cmd_list \u001b[38;5;241m=\u001b[39m [\u001b[38;5;124m'\u001b[39m\u001b[38;5;124mstring disease query\u001b[39m\u001b[38;5;124m'\u001b[39m,\u001b[38;5;124m'\u001b[39m\u001b[38;5;124mdisease=\u001b[39m\u001b[38;5;124m\"\u001b[39m\u001b[38;5;124mdoid:10652\u001b[39m\u001b[38;5;124m\"\u001b[39m\u001b[38;5;124m'\u001b[39m, \u001b[38;5;124m'\u001b[39m\u001b[38;5;124mspecies=\u001b[39m\u001b[38;5;124m\"\u001b[39m\u001b[38;5;124mHomo sapiens\u001b[39m\u001b[38;5;124m\"\u001b[39m\u001b[38;5;124m'\u001b[39m, \u001b[38;5;124m'\u001b[39m\u001b[38;5;124mlimit=2000\u001b[39m\u001b[38;5;124m'\u001b[39m, \u001b[38;5;124mf\u001b[39m\u001b[38;5;124m'\u001b[39m\u001b[38;5;124mcutoff=\u001b[39m\u001b[38;5;132;01m{\u001b[39;00mstring_confidence\u001b[38;5;132;01m}\u001b[39;00m\u001b[38;5;124m'\u001b[39m] \u001b[38;5;66;03m# 2000 proteins takes quite long\u001b[39;00m\n\u001b[0;32m      3\u001b[0m string_cmd \u001b[38;5;241m=\u001b[39m \u001b[38;5;124m\"\u001b[39m\u001b[38;5;124m \u001b[39m\u001b[38;5;124m\"\u001b[39m\u001b[38;5;241m.\u001b[39mjoin(string_cmd_list)\n\u001b[1;32m----> 4\u001b[0m p4c\u001b[38;5;241m.\u001b[39mset_verbosity(\u001b[38;5;28;01mTrue\u001b[39;00m)\n\u001b[0;32m      5\u001b[0m p4c\u001b[38;5;241m.\u001b[39mcommands\u001b[38;5;241m.\u001b[39mcommands_run(string_cmd)\n\u001b[0;32m      6\u001b[0m p4c\u001b[38;5;241m.\u001b[39mrename_network(\u001b[38;5;124mf\u001b[39m\u001b[38;5;124m\"\u001b[39m\u001b[38;5;124mSTRING AD 10652 network C\u001b[39m\u001b[38;5;132;01m{\u001b[39;00mstring_confidence\u001b[38;5;132;01m}\u001b[39;00m\u001b[38;5;124m\"\u001b[39m)\n",
      "\u001b[1;31mAttributeError\u001b[0m: module 'py4cytoscape' has no attribute 'set_verbosity'"
     ]
    }
   ],
   "source": [
    "## Load STRING network ##\n",
    "string_cmd_list = ['string disease query','disease=\"doid:10652\"', 'species=\"Homo sapiens\"', 'limit=2000', f'cutoff={string_confidence}'] # 2000 proteins takes quite long\n",
    "string_cmd = \" \".join(string_cmd_list)\n",
    "p4c.commands.commands_run(string_cmd)\n",
    "p4c.rename_network(f\"STRING AD 10652 network C{string_confidence}\")"
   ]
  },
  {
   "cell_type": "code",
   "execution_count": 54,
   "metadata": {
    "scrolled": true
   },
   "outputs": [
    {
     "name": "stdout",
     "output_type": "stream",
     "text": [
      "['KEGG AD hsa05010 network', 'Wikipathways AD WP5124 network_1', 'KEGG AD hsa05010 network stringified', 'Wikipathways AD WP5124 network stringified', 'STRING AD 10652 network C0.4', 'Wikipathways AD WP5124 network uniprot']\n",
      "17172 82283 1212479\n"
     ]
    }
   ],
   "source": [
    "## Check whether networks are imported and store suids ##\n",
    "network_names = p4c.get_network_list()\n",
    "kegg_suid = p4c.get_network_suid(\"KEGG AD hsa05010 network stringified\")\n",
    "wiki_suid = p4c.get_network_suid(\"Wikipathways AD WP5124 network stringified\")\n",
    "string_suid = p4c.get_network_suid(f\"STRING AD 10652 network C{string_confidence}\")\n",
    "\n",
    "print(network_names)\n",
    "print(kegg_suid, wiki_suid, string_suid)"
   ]
  },
  {
   "cell_type": "markdown",
   "metadata": {},
   "source": [
    "## Add database columns to tables\n",
    "This part is so that there is an extra column in every node table that indicates the database where the data is from. This way, in the merged network, it will be easier to find where the overlap is between the databases."
   ]
  },
  {
   "cell_type": "code",
   "execution_count": 55,
   "metadata": {},
   "outputs": [],
   "source": [
    "## Create dataframe with new column that indicates which database the data originates from ##\n",
    "kegg_nodes = p4c.get_all_nodes(kegg_suid)\n",
    "kegg_label_df = pd.DataFrame(data=kegg_nodes, columns=[\"shared name\"])\n",
    "kegg_label_df[\"kegg_db\"] = 1 # Column value will be 1 for all data in kegg network\n",
    "\n",
    "wiki_nodes = p4c.get_all_nodes(wiki_suid)\n",
    "wiki_label_df = pd.DataFrame(data=wiki_nodes, columns=[\"shared name\"])\n",
    "wiki_label_df[\"wiki_db\"] = 1 # Column value will be 1 for all data in wikipathways network\n",
    "\n",
    "string_04_nodes = p4c.get_all_nodes(string_suid)\n",
    "string_04_label_df = pd.DataFrame(data=string_04_nodes, columns=[\"shared name\"])\n",
    "string_04_label_df[\"string_db\"] = 1 # Column value will be 1 for all data in string network"
   ]
  },
  {
   "cell_type": "code",
   "execution_count": 56,
   "metadata": {},
   "outputs": [
    {
     "data": {
      "text/plain": [
       "''"
      ]
     },
     "execution_count": 56,
     "metadata": {},
     "output_type": "execute_result"
    }
   ],
   "source": [
    "## Merge dataframes with tables in networks ##\n",
    "p4c.set_current_network(kegg_suid)\n",
    "p4c.load_table_data(kegg_label_df, data_key_column=\"shared name\", network=kegg_suid)\n",
    "p4c.delete_table_column(\"row.names\") \n",
    "\n",
    "p4c.set_current_network(wiki_suid)\n",
    "p4c.load_table_data(wiki_label_df, data_key_column=\"shared name\", network=wiki_suid)\n",
    "p4c.delete_table_column(\"row.names\")\n",
    "\n",
    "p4c.set_current_network(string_suid)\n",
    "p4c.load_table_data(string_04_label_df, data_key_column=\"shared name\", network=string_suid)\n",
    "p4c.delete_table_column(\"row.names\")"
   ]
  },
  {
   "cell_type": "markdown",
   "metadata": {},
   "source": [
    "## Remove rows without canonical name\n",
    "To ensure that the merge will not give conflicting results because some of the column values are empty, all rows that do not have a Uniprot identifier (canonical name) will be removed."
   ]
  },
  {
   "cell_type": "code",
   "execution_count": 57,
   "metadata": {},
   "outputs": [
    {
     "name": "stdout",
     "output_type": "stream",
     "text": [
      "No edges selected.\n",
      "No nodes selected.\n",
      "No edges selected.\n",
      "No nodes selected.\n",
      "No edges selected.\n",
      "No edges selected.\n"
     ]
    },
    {
     "data": {
      "text/plain": [
       "{'nodes': [1213489, 1213408, 1212769], 'edges': []}"
      ]
     },
     "execution_count": 57,
     "metadata": {},
     "output_type": "execute_result"
    }
   ],
   "source": [
    "## Create filter for entries that don't have a stringdb canonical name (uniprot ID). Delete selected rows in each network. ##\n",
    "p4c.create_column_filter(filter_name=\"Columns without canonical name\", \n",
    "                         column=\"stringdb::canonical name\", \n",
    "                         criterion=\"\", predicate=\"DOES_NOT_CONTAIN\") \n",
    "\n",
    "# Apply filter and delete nodes for Wikipathways\n",
    "p4c.apply_filter(\"Columns without canonical name\", network=kegg_suid)\n",
    "p4c.delete_selected_nodes(kegg_suid)\n",
    "\n",
    "# Apply filter and delete nodes for Wikipathways\n",
    "p4c.apply_filter(\"Columns without canonical name\", network=wiki_suid)\n",
    "p4c.delete_selected_nodes(wiki_suid)\n",
    "\n",
    "# Apply filter and delete nodes for STRING networks\n",
    "p4c.apply_filter(\"Columns without canonical name\", network=string_suid)\n",
    "p4c.delete_selected_nodes(string_suid)"
   ]
  },
  {
   "cell_type": "markdown",
   "metadata": {},
   "source": [
    "# Network merging"
   ]
  },
  {
   "cell_type": "code",
   "execution_count": 58,
   "metadata": {},
   "outputs": [],
   "source": [
    "## Merge the three networks ##\n",
    "network_names = ['KEGG AD hsa05010 network stringified', f'STRING AD 10652 network C{string_confidence}', 'Wikipathways AD WP5124 network stringified']\n",
    "node_keys_list = [\"stringdb::canonical name\", \"stringdb::canonical name\", \"stringdb::canonical name\"]\n",
    "merged_network_name = f\"Merged AD STRING KEGG Wiki network cutoff {string_confidence}\"\n",
    "\n",
    "## This try except structure is to catch a type error in the py4cytoscape library\n",
    "try: \n",
    "    p4c.merge_networks(sources=network_names, \n",
    "                       title=merged_network_name, \n",
    "                       node_keys=node_keys_list)\n",
    "except TypeError:\n",
    "    print(p4c.get_network_list())\n",
    "\n",
    "merged_network_suid = p4c.get_network_suid(merged_network_name)"
   ]
  },
  {
   "cell_type": "markdown",
   "metadata": {},
   "source": [
    "## Filtering database columns\n",
    "To check the overlap between the databases, a filter will be applied."
   ]
  },
  {
   "cell_type": "code",
   "execution_count": 59,
   "metadata": {},
   "outputs": [
    {
     "name": "stdout",
     "output_type": "stream",
     "text": [
      "database\n",
      "kegg                121\n",
      "kegg;string           5\n",
      "kegg;wiki           241\n",
      "kegg;wiki;string     12\n",
      "string              308\n",
      "wiki                  1\n",
      "Name: database, dtype: int64\n"
     ]
    },
    {
     "data": {
      "text/plain": [
       "''"
      ]
     },
     "execution_count": 59,
     "metadata": {},
     "output_type": "execute_result"
    }
   ],
   "source": [
    "## Create dataframe with the column indicators ##\n",
    "database_filter_df = p4c.get_table_columns('node', columns=[\"name\", \"kegg_db\", \"wiki_db\", \"string_db\"], network=merged_network_suid)\n",
    "database_filter_df[\"database\"] = \"\" # Create new column with empty string values\n",
    "\n",
    "## Give the database column a value based on which databases the nodes are from\n",
    "database_filter_df.loc[(database_filter_df['kegg_db'] == 1) & (database_filter_df[\"string_db\"] == 1) &\n",
    "                    (database_filter_df[\"wiki_db\"] == 1), \"database\"] = \"kegg;wiki;string\"\n",
    "database_filter_df.loc[(database_filter_df['kegg_db'] == 1) & (database_filter_df[\"string_db\"] == 1) &\n",
    "                    (database_filter_df[\"wiki_db\"] != 1), \"database\"] = \"kegg;string\"\n",
    "database_filter_df.loc[(database_filter_df['kegg_db'] == 1) & (database_filter_df[\"string_db\"] != 1) &\n",
    "                    (database_filter_df[\"wiki_db\"] == 1), \"database\"] = \"kegg;wiki\"\n",
    "database_filter_df.loc[(database_filter_df['kegg_db'] != 1) & (database_filter_df[\"string_db\"] == 1) &\n",
    "                    (database_filter_df[\"wiki_db\"] == 1), \"database\"] = \"wiki;string\"\n",
    "database_filter_df.loc[(database_filter_df['kegg_db'] == 1) & (database_filter_df[\"string_db\"] != 1) &\n",
    "                    (database_filter_df[\"wiki_db\"] != 1), \"database\"] = \"kegg\"\n",
    "database_filter_df.loc[((database_filter_df['kegg_db'] != 1) & (database_filter_df[\"string_db\"] != 1)) &\n",
    "                    (database_filter_df[\"wiki_db\"] == 1), \"database\"] = \"wiki\"\n",
    "database_filter_df.loc[(database_filter_df['kegg_db'] != 1) & (database_filter_df[\"string_db\"] == 1) &\n",
    "                    (database_filter_df[\"wiki_db\"] != 1), \"database\"] = \"string\"\n",
    "\n",
    "print(database_filter_df.groupby(\"database\")[\"database\"].count()) # Give the distribution of nodes in the merged network\n",
    "\n",
    "p4c.set_current_network(merged_network_suid)\n",
    "p4c.load_table_data(database_filter_df, data_key_column=\"name\") # Add the database filter column to the network\n",
    "p4c.delete_table_column(\"row.names\")"
   ]
  },
  {
   "cell_type": "markdown",
   "metadata": {},
   "source": [
    "## Network expansion\n",
    "Expand the merged network with another 2000 nodes"
   ]
  },
  {
   "cell_type": "code",
   "execution_count": 60,
   "metadata": {},
   "outputs": [],
   "source": [
    "## Expand Merged STRING_0.4 KEGG Wiki network ##\n",
    "p4c.clone_network(merged_network_suid) # Creates a clone of the merged network, with \"_1\" added to the name\n",
    "expansion_cmd_list = ['string expand', 'additionalNodes=2000', f'network=\"{merged_network_name}_1\"', \n",
    "                      'nodeTypes=\"Homo sapiens\"', 'selectivityAlpha=0.5']\n",
    "expansion_cmd = \" \".join(expansion_cmd_list)\n",
    "p4c.commands.commands_run(expansion_cmd)\n",
    "p4c.rename_network(f\"{merged_network_name} expanded\")\n",
    "merged_network_expanded_suid = p4c.get_network_suid(f\"{merged_network_name} expanded\")"
   ]
  },
  {
   "cell_type": "markdown",
   "metadata": {},
   "source": [
    "## Visualization\n",
    "More additional visualization can be done in Cytoscape itself, this only visualizes the database distribution and the nervous tissue confidence."
   ]
  },
  {
   "cell_type": "code",
   "execution_count": 67,
   "metadata": {},
   "outputs": [
    {
     "data": {
      "text/plain": [
       "''"
      ]
     },
     "execution_count": 67,
     "metadata": {},
     "output_type": "execute_result"
    }
   ],
   "source": [
    "## Set color of nodes according to a gradient for the confidence that the protein is active in the nervous system\n",
    "if \"ADCN style\" not in p4c.get_visual_style_names():\n",
    "    p4c.create_visual_style(\"ADCN style\")\n",
    "\n",
    "p4c.set_current_network(merged_network_expanded_suid)\n",
    "p4c.set_node_color_mapping(**p4c.gen_node_color_map('tissue::nervous system', p4c.palette_color_brewer_s_YlOrBr(), style_name=\"ADCN style\"))"
   ]
  },
  {
   "cell_type": "code",
   "execution_count": 69,
   "metadata": {},
   "outputs": [
    {
     "data": {
      "text/plain": [
       "''"
      ]
     },
     "execution_count": 69,
     "metadata": {},
     "output_type": "execute_result"
    }
   ],
   "source": [
    "## Set shape of nodes according to database values\n",
    "database_values = [\"kegg\", \"string\", \"wiki\", \"kegg;string\", \"kegg;wiki\", \"wiki;string\", \"kegg;wiki;string\"]\n",
    "mapping_shapes = [\"HEXAGON\", \"ROUND_RECTANGLE\", \"VEE\", \"PARALLELOGRAM\", \"DIAMOND\", \"ELLIPSE\", \"TRIANGLE\"]\n",
    "\n",
    "p4c.set_node_shape_mapping(table_column=\"database\", table_column_values=database_values,\n",
    "                            shapes=mapping_shapes, default_shape=\"RECTANGLE\", style_name=\"ADCN style\")"
   ]
  },
  {
   "cell_type": "code",
   "execution_count": 70,
   "metadata": {},
   "outputs": [
    {
     "data": {
      "text/plain": [
       "{'message': 'Visual Style applied.'}"
      ]
     },
     "execution_count": 70,
     "metadata": {},
     "output_type": "execute_result"
    }
   ],
   "source": [
    "## Set ADCN style for the two networks\n",
    "p4c.set_visual_style(\"ADCN style\", merged_network_suid)\n",
    "p4c.set_visual_style(\"ADCN style\", merged_network_expanded_suid)"
   ]
  },
  {
   "cell_type": "markdown",
   "metadata": {},
   "source": [
    "## Analyse the networks\n",
    "Analyse the normal and expanded networks with the analysis software from Cytoscape"
   ]
  },
  {
   "cell_type": "code",
   "execution_count": 71,
   "metadata": {},
   "outputs": [
    {
     "name": "stdout",
     "output_type": "stream",
     "text": [
      "                                                                0\n",
      "networkTitle    Merged AD STRING KEGG Wiki network cutoff 0.4 ...\n",
      "nodeCount                                                     688\n",
      "edgeCount                                                   12617\n",
      "avNeighbors                                    37.036334913112164\n",
      "diameter                                                        9\n",
      "radius                                                          5\n",
      "avSpl                                           3.054312396264523\n",
      "cc                                             0.6021593099716364\n",
      "density                                        0.0586017957485952\n",
      "heterogeneity                                  0.9214585711397336\n",
      "centralization                                 0.2269253144496379\n",
      "ncc                                                            49\n",
      "time                                                        0.722\n"
     ]
    }
   ],
   "source": [
    "## Analyse network\n",
    "p4c.set_current_network(merged_network_suid)\n",
    "analysis = p4c.analyze_network()\n",
    "analysis_df = pd.DataFrame.from_dict(analysis, 'index')\n",
    "print(analysis_df)"
   ]
  },
  {
   "cell_type": "code",
   "execution_count": 72,
   "metadata": {},
   "outputs": [
    {
     "name": "stdout",
     "output_type": "stream",
     "text": [
      "                                                                0\n",
      "networkTitle    Merged AD STRING KEGG Wiki network cutoff 0.4 ...\n",
      "nodeCount                                                    2688\n",
      "edgeCount                                                  170610\n",
      "avNeighbors                                    126.61171204774338\n",
      "diameter                                                        6\n",
      "radius                                                          3\n",
      "avSpl                                          2.3028857020381124\n",
      "cc                                            0.44976685101361424\n",
      "density                                       0.04724317613721768\n",
      "heterogeneity                                  0.8711902339774741\n",
      "centralization                                 0.3141852328503062\n",
      "ncc                                                             8\n",
      "time                                                       10.565\n"
     ]
    }
   ],
   "source": [
    "## Analyse expanded network\n",
    "p4c.set_current_network(merged_network_expanded_suid)\n",
    "analysis_expanded = p4c.analyze_network()\n",
    "analysis_expanded_df = pd.DataFrame.from_dict(analysis_expanded, 'index')\n",
    "print(analysis_expanded_df)"
   ]
  }
 ],
 "metadata": {
  "kernelspec": {
   "display_name": "Python 3 (ipykernel)",
   "language": "python",
   "name": "python3"
  },
  "language_info": {
   "codemirror_mode": {
    "name": "ipython",
    "version": 3
   },
   "file_extension": ".py",
   "mimetype": "text/x-python",
   "name": "python",
   "nbconvert_exporter": "python",
   "pygments_lexer": "ipython3",
   "version": "3.11.5"
  }
 },
 "nbformat": 4,
 "nbformat_minor": 2
}
